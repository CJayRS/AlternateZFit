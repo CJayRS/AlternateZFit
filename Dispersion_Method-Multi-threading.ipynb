{
 "cells": [
  {
   "cell_type": "code",
   "execution_count": 1,
   "metadata": {},
   "outputs": [],
   "source": [
    "import numpy as np\n",
    "import matplotlib.pyplot as plt\n",
    "import scipy as sp\n",
    "import seaborn as sns\n",
    "import math\n",
    "from tqdm import tqdm\n",
    "from matplotlib import pyplot as pl\n",
    "from multiprocessing import Pool\n",
    "import os\n",
    "p = Pool(os.cpu_count())"
   ]
  },
  {
   "cell_type": "code",
   "execution_count": 2,
   "metadata": {},
   "outputs": [],
   "source": [
    "data = np.array([[1.3461, 1.102, 0.911],\n",
    "[1.6154, 1.208, 0.944],\n",
    "[1.8846, 1.336, 0.979]]) #rome form factor data, plus = 1, zero = 2"
   ]
  },
  {
   "cell_type": "code",
   "execution_count": 3,
   "metadata": {},
   "outputs": [],
   "source": [
    "chi0plus = 0.0043\n",
    "chi1minus = 0.00419"
   ]
  },
  {
   "cell_type": "code",
   "execution_count": 4,
   "metadata": {},
   "outputs": [],
   "source": [
    "zerosum = (1.86484-0.497611)**2 #D0 and K0"
   ]
  },
  {
   "cell_type": "code",
   "execution_count": 5,
   "metadata": {},
   "outputs": [],
   "source": [
    "plusminussum = (1.86966-0.493677)**2 #D+- and K+-"
   ]
  },
  {
   "cell_type": "code",
   "execution_count": 6,
   "metadata": {},
   "outputs": [
    {
     "data": {
      "text/plain": [
       "1.8813221773650004"
      ]
     },
     "execution_count": 6,
     "metadata": {},
     "output_type": "execute_result"
    }
   ],
   "source": [
    "0.5*(zerosum+plusminussum)"
   ]
  },
  {
   "cell_type": "code",
   "execution_count": 7,
   "metadata": {},
   "outputs": [
    {
     "data": {
      "text/plain": [
       "1.8813030192360003"
      ]
     },
     "execution_count": 7,
     "metadata": {},
     "output_type": "execute_result"
    }
   ],
   "source": [
    "MD = 0.5*(1.86484+1.86966)\n",
    "MK = 0.5*(0.497611+0.493677)\n",
    "(MD-MK)**2 #?????????????? where does their 1.8846 come from?"
   ]
  },
  {
   "cell_type": "code",
   "execution_count": 8,
   "metadata": {},
   "outputs": [],
   "source": [
    "tminus = 1.8846 #(MD-MK)**2\n",
    "tplus = (MD+MK)**2\n",
    "tplus = 5.588947"
   ]
  },
  {
   "cell_type": "code",
   "execution_count": 9,
   "metadata": {},
   "outputs": [],
   "source": [
    "def z(t):\n",
    "    return (np.sqrt(tplus-t)-np.sqrt(tplus-tminus))/(np.sqrt(tplus-t)+np.sqrt(tplus-tminus))"
   ]
  },
  {
   "cell_type": "code",
   "execution_count": 10,
   "metadata": {},
   "outputs": [],
   "source": [
    "def rho(t):\n",
    "    return np.sqrt((tplus-t)/(tplus-tminus))"
   ]
  },
  {
   "cell_type": "code",
   "execution_count": 11,
   "metadata": {},
   "outputs": [],
   "source": [
    "ni = 2"
   ]
  },
  {
   "cell_type": "code",
   "execution_count": 12,
   "metadata": {},
   "outputs": [],
   "source": [
    "def phizero(t):  #outer fn and Blanschke factors\n",
    "    polevals = [2.3178**2]\n",
    "    calcz = z(t)\n",
    "    calcrho = rho(t)\n",
    "    phizeroval = np.sqrt(2*ni/3)*np.sqrt((3*tplus*tminus)/(4*np.pi))*1/(tplus-tminus)*(1+calcz)*np.power(1-calcz,-5/2)*np.power(rho(0)+(1+calcz)/(1-calcz),-2)*np.power(rho(0)+(1+calcz)/(1-calcz),-2)\n",
    "    for i in range(len(polevals)):\n",
    "        phizeroval *= (z(t)-z(polevals[i]))/(1-np.conjugate(z(polevals[i]))*z(t))\n",
    "    return phizeroval "
   ]
  },
  {
   "cell_type": "code",
   "execution_count": 13,
   "metadata": {},
   "outputs": [],
   "source": [
    "def phiplus(t):  #outer fn and Blanschke factors\n",
    "    polevals = [2.1122**2]\n",
    "    calcz = z(t)\n",
    "    calcrho = rho(t)\n",
    "    phiplusval = np.sqrt(2*ni/3)*np.sqrt(1/(np.pi*(tplus-tminus)))*np.power(1+calcz,2)*np.power(1-calcz,-9/2)*np.power(rho(0)+(1+calcz)/(1-calcz),-2)*np.power(rho(0)+(1+calcz)/(1-calcz),-3)\n",
    "    for i in range(len(polevals)):\n",
    "        phiplusval *= (z(t)-z(polevals[i]))/(1-np.conjugate(z(polevals[i]))*z(t))\n",
    "    return phiplusval"
   ]
  },
  {
   "cell_type": "code",
   "execution_count": 14,
   "metadata": {},
   "outputs": [],
   "source": [
    "def exclude(G,a,b):\n",
    "    return np.delete(np.delete(G,b,0),a,1)"
   ]
  },
  {
   "cell_type": "code",
   "execution_count": 15,
   "metadata": {},
   "outputs": [],
   "source": [
    "#2105.02497 pg 48-50"
   ]
  },
  {
   "cell_type": "code",
   "execution_count": 16,
   "metadata": {},
   "outputs": [],
   "source": [
    "def alpha(data,charge):\n",
    "    if charge == 1:\n",
    "        index = 1\n",
    "    elif charge == 0:\n",
    "        index = 2\n",
    "    alphamat = np.empty([data.shape[0],data.shape[0]])\n",
    "\n",
    "    for i in range(data.shape[0]):\n",
    "        for j in range(data.shape[0]):\n",
    "            alphamat[i,j] = 1/(1-z(data[i,0])*z(data[j,0]))\n",
    "    return np.linalg.det(alphamat)"
   ]
  },
  {
   "cell_type": "code",
   "execution_count": 17,
   "metadata": {},
   "outputs": [],
   "source": [
    "def G(data,t):\n",
    "    row = [t]\n",
    "    row.extend(data[:,0])\n",
    "    mat = np.empty([data.shape[0]+1,data.shape[0]+1])\n",
    "\n",
    "    for i in range(len(row)):\n",
    "        for j in range(len(row)):\n",
    "            mat[i,j] = 1/(1-z(row[i])*z(row[j]))\n",
    "    return mat"
   ]
  },
  {
   "cell_type": "code",
   "execution_count": 18,
   "metadata": {},
   "outputs": [],
   "source": [
    "def beta(data, t, charge):\n",
    "    if charge == 1:\n",
    "        index = 1\n",
    "        phi = phiplus\n",
    "    elif charge == 0:\n",
    "        index = 2\n",
    "        phi = phizero\n",
    "    ssum = 0\n",
    "    for j in range(1,data.shape[0]+1):\n",
    "        ssum += ((-1)**j)*phi(data[j-1,0])*data[j-1,index]*np.linalg.det(exclude(G(data,t),0,j))\n",
    "    return ssum"
   ]
  },
  {
   "cell_type": "code",
   "execution_count": 19,
   "metadata": {},
   "outputs": [],
   "source": [
    "def gamma(data, t,charge,chi):\n",
    "    if charge == 1:\n",
    "        index = 1\n",
    "        phi = phiplus\n",
    "    elif charge == 0:\n",
    "        index = 2\n",
    "        phi = phizero\n",
    "    ssum = chi*np.linalg.det(G(data,t))\n",
    "    for i in range(1,data.shape[0]+1):\n",
    "        for j in range(1,data.shape[0]+1):\n",
    "            ssum -= np.power(-1,j+i)*phi(data[i-1,0])*data[i-1,index]*phi(data[j-1,0])*data[j-1,index]*np.linalg.det(exclude(G(data,t),i,j))\n",
    "    return ssum"
   ]
  },
  {
   "cell_type": "code",
   "execution_count": 20,
   "metadata": {},
   "outputs": [],
   "source": [
    "def M11(data,t,charge,chi):\n",
    "    if charge == 1:\n",
    "        index = 1\n",
    "        phi = phiplus\n",
    "    elif charge == 0:\n",
    "        index = 2\n",
    "        phi = phizero\n",
    "    mat = np.empty([data.shape[0]+1,data.shape[0]+1])\n",
    "    mat[0,0] = chi\n",
    "    for i in range(1,data.shape[0]+1):\n",
    "        mat[i,0] = phi(data[i-1,0])*data[i-1,index]\n",
    "        mat[0,i] = phi(data[i-1,0])*data[i-1,index]\n",
    "        for j in range(1,data.shape[0]+1):\n",
    "            mat[i,j] = G(data,t)[i,j]\n",
    "    return mat"
   ]
  },
  {
   "cell_type": "code",
   "execution_count": 21,
   "metadata": {},
   "outputs": [],
   "source": [
    "def formfactor(data, t,charge,chi):\n",
    "    if charge == 1:\n",
    "        phi = phiplus\n",
    "    elif charge == 0:\n",
    "        phi = phizero\n",
    "    calcalpha = alpha(data,charge)\n",
    "    calcbeta = beta(data,t,charge)\n",
    "    #calcgamma = gamma(data,t,charge,chi)\n",
    "    #eigenvaluesM11 = np.linalg.eig(M11(data,t,1,chi))[0]\n",
    "    #eigenvaluesG = np.linalg.eig(G(data,t))[0]\n",
    "    discrimM11G = np.exp(np.linalg.slogdet(M11(data,t,charge,chi))[1])*np.exp(np.linalg.slogdet(G(data,t))[1])\n",
    "    #if discrimM11G < 0:\n",
    "        #print(\"discriminant is negative: \",discrimM11G)\n",
    "        #print(\"M11 eigenvalues are: \",eigenvaluesM11)\n",
    "#     if np.linalg.det(M11(data,t,charge,chi)) < 0:\n",
    "#         print(\"M11 np.linalg.det: \",np.linalg.det(M11(data,t,charge,chi)))\n",
    "#         print(\"M11 np.linalg.slogdet: \",np.exp(np.linalg.slogdet(M11(data,t,charge,chi))))\n",
    "#     if np.linalg.det(G(data,t)) < 0:\n",
    "#         print(\"G np.linalg.det: \",np.linalg.det(G(data,t)))\n",
    "#         print(\"G np.linalg.slogdet: \",np.exp(np.linalg.slogdet(G(data,t))))\n",
    "        #print(\"G eigenvalues are: \",eigenvaluesG)\n",
    "    lowerbound = (-calcbeta-np.sqrt(discrimM11G))/(calcalpha*phi(t))\n",
    "    upperbound = (-calcbeta+np.sqrt(discrimM11G))/(calcalpha*phi(t))\n",
    "    return [lowerbound,upperbound]"
   ]
  },
  {
   "cell_type": "code",
   "execution_count": 22,
   "metadata": {},
   "outputs": [
    {
     "data": {
      "image/png": "[encoded data removed]",
      "text/plain": [
       "<Figure size 432x288 with 1 Axes>"
      ]
     },
     "metadata": {
      "needs_background": "light"
     },
     "output_type": "display_data"
    }
   ],
   "source": [
    "x = np.linspace(0,2,101)\n",
    "plt.plot(x,[formfactor(data,i,1,chi1minus) for i in x],label = r\"$f_+$\")\n",
    "plt.plot(x,[formfactor(data,i,0,chi0plus) for i in x],label = r\"$f_0$\")\n",
    "plt.scatter(data[:,0],data[:,1])\n",
    "plt.scatter(data[:,0],data[:,2])\n",
    "\n",
    "romevals = np.array([[0.0, 0.765, 0.765, 0.772, 0.772],\n",
    "[0.2692, 0.815, 0.792, 0.822, 0.800],\n",
    "[0.5385, 0.872, 0.820, 0.878, 0.826],\n",
    "[0.8077, 0.937, 0.849, 0.942, 0.853],\n",
    "[1.0769, 1.013, 0.879, 1.015, 0.882]])\n",
    "plt.scatter(romevals[:,0],romevals[:,3])\n",
    "plt.scatter(romevals[:,0],romevals[:,4])\n",
    "plt.xlabel(r\"$t \\.\\.(GeV^2)$\")\n",
    "plt.ylabel(\"Form factor\")\n",
    "plt.legend()\n",
    "plt.show()"
   ]
  },
  {
   "cell_type": "code",
   "execution_count": 23,
   "metadata": {},
   "outputs": [
    {
     "data": {
      "text/plain": [
       "[0.6865832012287775, 0.7666559216249356]"
      ]
     },
     "execution_count": 23,
     "metadata": {},
     "output_type": "execute_result"
    }
   ],
   "source": [
    "formfactor(data,0,1,chi1minus)"
   ]
  },
  {
   "cell_type": "code",
   "execution_count": 24,
   "metadata": {},
   "outputs": [
    {
     "data": {
      "text/plain": [
       "[0.7636256554735309, 0.784224280669047]"
      ]
     },
     "execution_count": 24,
     "metadata": {},
     "output_type": "execute_result"
    }
   ],
   "source": [
    "formfactor(data,0,0,chi0plus)"
   ]
  },
  {
   "cell_type": "code",
   "execution_count": 25,
   "metadata": {},
   "outputs": [
    {
     "data": {
      "text/plain": [
       "[9.520780805915746e-11, 9.520780805915746e-11]"
      ]
     },
     "execution_count": 25,
     "metadata": {},
     "output_type": "execute_result"
    }
   ],
   "source": [
    "[alpha(data,0),alpha(data,1)]"
   ]
  },
  {
   "cell_type": "code",
   "execution_count": 26,
   "metadata": {},
   "outputs": [
    {
     "data": {
      "text/plain": [
       "[0.0012959736610956253, 0.0003276657539487115]"
      ]
     },
     "execution_count": 26,
     "metadata": {},
     "output_type": "execute_result"
    }
   ],
   "source": [
    "[phizero(1.3461),phiplus(1.3461)]"
   ]
  },
  {
   "cell_type": "code",
   "execution_count": 27,
   "metadata": {},
   "outputs": [
    {
     "data": {
      "text/plain": [
       "[0.0009722779455503736, 0.00021295225661040245]"
      ]
     },
     "execution_count": 27,
     "metadata": {},
     "output_type": "execute_result"
    }
   ],
   "source": [
    "[phizero(1.6154),phiplus(1.6154)]"
   ]
  },
  {
   "cell_type": "code",
   "execution_count": 28,
   "metadata": {},
   "outputs": [
    {
     "data": {
      "text/plain": [
       "[0.0006231402362417485, 9.766030302583066e-05]"
      ]
     },
     "execution_count": 28,
     "metadata": {},
     "output_type": "execute_result"
    }
   ],
   "source": [
    "[phizero(1.8846),phiplus(1.8846)]"
   ]
  },
  {
   "cell_type": "code",
   "execution_count": 29,
   "metadata": {},
   "outputs": [],
   "source": [
    "##### Uncertainty #######"
   ]
  },
  {
   "cell_type": "code",
   "execution_count": 30,
   "metadata": {},
   "outputs": [],
   "source": [
    "# Normal distribution sampling\n",
    "SDarray = np.array([\n",
    "[0.038, 0.019],\n",
    "[0.044, 0.019],\n",
    "[0.054, 0.019]])"
   ]
  },
  {
   "cell_type": "code",
   "execution_count": 31,
   "metadata": {},
   "outputs": [],
   "source": [
    "covmatrix = np.array([[0.00095048337, 0.00086115559, 0.00076822929, 0.00067139737, 0.00057032189, 0.00046461266, 0.00035382373, 0.00023743786, 0.00093372326, 0.00091131333, 0.00088169768, 0.00084279034, 0.00079172189, 0.00072447152, 0.00063523124],  \n",
    "[0.00086115559, 0.00078515556, 0.00070607957, 0.00062368504, 0.00053767967, 0.00044773144, 0.00035346098, 0.00025442805, 0.00085206316, 0.00083894582, 0.00082066442, 0.00079568390, 0.00076188560, 0.00071629634, 0.00065461116],  \n",
    "[0.00076822929, 0.00070607957, 0.00064142818, 0.00057404882, 0.00050372187, 0.00043017086, 0.00035308565, 0.00027210610, 0.00076710907, 0.00076365966, 0.00075717032, 0.00074667912, 0.00073084851, 0.00070779522, 0.00067477803],  \n",
    "[0.00067139737, 0.00062368504, 0.00057404882, 0.00052233064, 0.00046833577, 0.00041187082, 0.00035269283, 0.00029052511, 0.00067858404, 0.00068520846, 0.00069100626, 0.00069561272, 0.00069850419, 0.00069893308, 0.00069578757],  \n",
    "[0.00057032189, 0.00053767967, 0.00050372187, 0.00046833577, 0.00043140396, 0.00039276887, 0.00035228288, 0.00030975141, 0.00058617957, 0.00060331939, 0.00062194289, 0.00064230877, 0.00066474294, 0.00068968328, 0.00071771878],  \n",
    "[0.00046461266, 0.00044773144, 0.00043017086, 0.00041187082, 0.00039276887, 0.00037279630, 0.00035185424, 0.00032985927, 0.00048953884, 0.00051767609, 0.00054971326, 0.00058656101, 0.00062943376, 0.00068000920, 0.00074065513],  \n",
    "[0.00035382373, 0.00035346098, 0.00035308565, 0.00035269283, 0.00035228288, 0.00035185424, 0.00035141065, 0.00035093414, 0.00038825440, 0.00042791779, 0.00047401349, 0.00052813546, 0.00059242935, 0.00066987229, 0.00076469633],  \n",
    "[0.00023743786, 0.00025442805, 0.00027210610, 0.00029052511, 0.00030975141, 0.00032985927, 0.00035093414, 0.00037307838, 0.00028185308, 0.00033362480, 0.00039448913, 0.00046675785, 0.00055355489, 0.00065922240, 0.00078995092],  \n",
    "[0.00093372326, 0.00085206316, 0.00076710907, 0.00067858404, 0.00058617957, 0.00048953884, 0.00038825440, 0.00028185308, 0.00093183118, 0.00092700129, 0.00091836176, 0.00090470689, 0.00088436880, 0.00085499959, 0.00081318331],  \n",
    "[0.00091131333, 0.00083894582, 0.00076365966, 0.00068520846, 0.00060331939, 0.00051767609, 0.00042791779, 0.00033362480, 0.00092700129, 0.00094300108, 0.00095919909, 0.00097546032, 0.00099153820, 0.00100707070, 0.00102148152],  \n",
    "[0.00088169768, 0.00082066442, 0.00075717032, 0.00069100626, 0.00062194289, 0.00054971326, 0.00047401349, 0.00039448913, 0.00091836176, 0.00095919909, 0.00100505872, 0.00105703236, 0.00111659949, 0.00118576848, 0.00126735992],  \n",
    "[0.00084279034, 0.00079568390, 0.00074667912, 0.00069561272, 0.00064230877, 0.00058656101, 0.00052813546, 0.00046675785, 0.00090470689, 0.00097546032, 0.00105703236, 0.00115205144, 0.00126402614, 0.00139785199, 0.00156044486],  \n",
    "[0.00079172189, 0.00076188560, 0.00073084851, 0.00069850419, 0.00066474294, 0.00062943376, 0.00059242935, 0.00055355489, 0.00088436880, 0.00099153820, 0.00111659949, 0.00126402614, 0.00143985862, 0.00165246003, 0.00191376844],  \n",
    "[0.00072447152, 0.00071629634, 0.00070779522, 0.00069893308, 0.00068968328, 0.00068000920, 0.00066987229, 0.00065922240, 0.00085499959, 0.00100707070, 0.00118576848, 0.00139785199, 0.00165246003, 0.00196229709, 0.00234545168],  \n",
    "[0.00063523124, 0.00065461116, 0.00067477803, 0.00069578757, 0.00071771878, 0.00074065513, 0.00076469633, 0.00078995092, 0.00081318331, 0.00102148152, 0.00126735992, 0.00156044486, 0.00191376844, 0.00234545168, 0.00288135740]])"
   ]
  },
  {
   "cell_type": "code",
   "execution_count": 32,
   "metadata": {},
   "outputs": [],
   "source": [
    "def resample(data):\n",
    "    resample = data.copy()\n",
    "    for i in range(1,data.shape[1]):\n",
    "        for j in range(data.shape[0]):\n",
    "            resample[j,i] = np.random.normal(data[j,i],SDarray[j,i-1])\n",
    "    return resample"
   ]
  },
  {
   "cell_type": "code",
   "execution_count": 33,
   "metadata": {},
   "outputs": [
    {
     "data": {
      "text/plain": [
       "array([[0.0003728 , 0.00035185, 0.00032986, 0.00062943, 0.00068001,\n",
       "        0.00074066],\n",
       "       [0.00035185, 0.00035141, 0.00035093, 0.00059243, 0.00066987,\n",
       "        0.0007647 ],\n",
       "       [0.00032986, 0.00035093, 0.00037308, 0.00055355, 0.00065922,\n",
       "        0.00078995],\n",
       "       [0.00062943, 0.00059243, 0.00055355, 0.00143986, 0.00165246,\n",
       "        0.00191377],\n",
       "       [0.00068001, 0.00066987, 0.00065922, 0.00165246, 0.0019623 ,\n",
       "        0.00234545],\n",
       "       [0.00074066, 0.0007647 , 0.00078995, 0.00191377, 0.00234545,\n",
       "        0.00288136]])"
      ]
     },
     "execution_count": 33,
     "metadata": {},
     "output_type": "execute_result"
    }
   ],
   "source": [
    "excludelist = [0,1,2,3,4,8,9,10,11]\n",
    "\n",
    "trimmedcov = np.delete(covmatrix,excludelist,axis=0)\n",
    "trimmedcov = np.delete(trimmedcov,excludelist,axis=1)\n",
    "trimmedcov"
   ]
  },
  {
   "cell_type": "code",
   "execution_count": 34,
   "metadata": {},
   "outputs": [
    {
     "data": {
      "text/plain": [
       "array([0.01930793, 0.01874595, 0.01931524, 0.03794547, 0.04429782,\n",
       "       0.05367828])"
      ]
     },
     "execution_count": 34,
     "metadata": {},
     "output_type": "execute_result"
    }
   ],
   "source": [
    "np.sqrt(np.diagonal(trimmedcov))"
   ]
  },
  {
   "cell_type": "code",
   "execution_count": 35,
   "metadata": {},
   "outputs": [],
   "source": [
    "def covresample(data):\n",
    "    vectordata = np.hstack([data[:,2],data[:,1]])\n",
    "    excludelist = [0,1,2,3,4,8,9,10,11]\n",
    "    trimmedcov = np.delete(covmatrix,excludelist,axis=0)\n",
    "    trimmedcov = np.delete(trimmedcov,excludelist,axis=1)\n",
    "    resampledvectordata = np.random.multivariate_normal(vectordata,trimmedcov)\n",
    "    resampleddata = np.array([data[:,0],resampledvectordata[3:6],resampledvectordata[0:3]])\n",
    "    return np.transpose(resampleddata)"
   ]
  },
  {
   "cell_type": "code",
   "execution_count": 36,
   "metadata": {},
   "outputs": [],
   "source": [
    "def dispmethod(chg,tchosen,Nboot):\n",
    "    N0 = 5\n",
    "    fbaruplist = []\n",
    "    fbarlolist = []\n",
    "    nancount = 0\n",
    "    unifailcount = 0\n",
    "    for y in range(Nboot):\n",
    "        newdata = covresample(data)\n",
    "        if chg == 1:\n",
    "            chi = np.random.normal(chi1minus,0.00036)\n",
    "        if chg == 0:\n",
    "            chi = np.random.normal(chi0plus,0.0013)\n",
    "        \n",
    "        plusbounds = formfactor(newdata,0,1,chi)\n",
    "        zerobounds = formfactor(newdata,0,0,chi)\n",
    "        upper = min(plusbounds[1],zerobounds[1])\n",
    "        lower = max(plusbounds[0],zerobounds[0])\n",
    "        if upper <= lower:\n",
    "            continue\n",
    "        if np.linalg.det(M11(newdata,tchosen,1,chi)) < 0 or np.linalg.det(M11(newdata,tchosen,0,chi))< 0:\n",
    "            #print(\"unitarity check failed\")\n",
    "            unifailcount += 1\n",
    "            continue\n",
    "#         if np.linalg.det(M11(newdata,tchosen,0,chi)) < 0:\n",
    "#             unifailcount += 1\n",
    "#             continue\n",
    "        fbarup = 0\n",
    "        fbarlo = np.Inf\n",
    "        rangeN0 = np.linspace(lower,upper,N0)\n",
    "        for k in rangeN0:\n",
    "            originval = k#np.random.uniform(lower,upper)\n",
    "            extendednewdata = np.vstack([newdata,[0,originval,originval]])\n",
    "            tchosenbounds = formfactor(extendednewdata,tchosen,chg,chi)\n",
    "            fbarup = max(tchosenbounds[1],fbarup)\n",
    "            fbarlo = min(tchosenbounds[0],fbarlo)\n",
    "            \n",
    "        \n",
    "        if np.isnan(fbarup):\n",
    "            nancount+=1\n",
    "        if nancount > 10:\n",
    "            print(\"NaN values skipped for t=\",tchosen)\n",
    "            break\n",
    "        fbaruplist.append(fbarup)\n",
    "        fbarlolist.append(fbarlo)\n",
    "    print(\"for t = \",tchosen,\" unitarity fail percentage is \",(unifailcount*100)/Nboot,\"%\")\n",
    "    print(\"for t = \",tchosen,\" other fail percentage is \",((Nboot-len(fbarlolist)-unifailcount)*100)/Nboot,\"%\")\n",
    "    return [fbarlolist,fbaruplist]"
   ]
  },
  {
   "cell_type": "code",
   "execution_count": 37,
   "metadata": {},
   "outputs": [],
   "source": [
    "##investigating why calcbeta**2 + calcalpha*calcgamma is negative for some t's\n",
    "\n",
    "def sqrtcheck(data, t,charge):\n",
    "    if charge == 1:\n",
    "        phi = phiplus\n",
    "    elif charge == 0:\n",
    "        phi = phizero\n",
    "    calcalpha = alpha(data,charge)\n",
    "    calcbeta = beta(data,t,charge)\n",
    "    calcgamma = gamma(data,t,charge)\n",
    "    output = calcbeta**2 + calcalpha*calcgamma\n",
    "    return output"
   ]
  },
  {
   "cell_type": "code",
   "execution_count": 38,
   "metadata": {},
   "outputs": [],
   "source": [
    "tchosenlist = [0.0, 0.2692, 0.5385, 0.8077, 1.0769, 1.3461, 1.6154, 1.8846] #np.linspace(0,1.8,31)#[0.01,0.2692,0.5384,0.8077,1.0769,1.4,1.65,1.8]#[1.26]#"
   ]
  },
  {
   "cell_type": "code",
   "execution_count": 39,
   "metadata": {},
   "outputs": [],
   "source": [
    "Nboot = 100"
   ]
  },
  {
   "cell_type": "code",
   "execution_count": 40,
   "metadata": {},
   "outputs": [],
   "source": [
    "def mult_dispmethod1(tchosen):\n",
    "    return dispmethod(1,tchosen,100)"
   ]
  },
  {
   "cell_type": "code",
   "execution_count": null,
   "metadata": {},
   "outputs": [],
   "source": [
    "multoutput = p.map(mult_dispmethod1, tchosenlist)"
   ]
  },
  {
   "cell_type": "code",
   "execution_count": null,
   "metadata": {},
   "outputs": [],
   "source": [
    "multoutput"
   ]
  },
  {
   "cell_type": "code",
   "execution_count": 6,
   "metadata": {},
   "outputs": [
    {
     "ename": "NameError",
     "evalue": "name 'np' is not defined",
     "output_type": "error",
     "traceback": [
      "\u001b[1;31m---------------------------------------------------------------------------\u001b[0m",
      "\u001b[1;31mNameError\u001b[0m                                 Traceback (most recent call last)",
      "\u001b[1;32m<ipython-input-6-4fe07abd2fc3>\u001b[0m in \u001b[0;36m<module>\u001b[1;34m\u001b[0m\n\u001b[1;32m----> 1\u001b[1;33m \u001b[0mdispresultsplus\u001b[0m \u001b[1;33m=\u001b[0m \u001b[0mnp\u001b[0m\u001b[1;33m.\u001b[0m\u001b[0mempty\u001b[0m\u001b[1;33m(\u001b[0m\u001b[1;33m[\u001b[0m\u001b[0mlen\u001b[0m\u001b[1;33m(\u001b[0m\u001b[0mtchosenlist\u001b[0m\u001b[1;33m)\u001b[0m\u001b[1;33m,\u001b[0m\u001b[1;36m4\u001b[0m\u001b[1;33m]\u001b[0m\u001b[1;33m)\u001b[0m\u001b[1;33m\u001b[0m\u001b[1;33m\u001b[0m\u001b[0m\n\u001b[0m\u001b[0;32m      2\u001b[0m \u001b[0mhistplus\u001b[0m \u001b[1;33m=\u001b[0m \u001b[0mnp\u001b[0m\u001b[1;33m.\u001b[0m\u001b[0mzeros\u001b[0m\u001b[1;33m(\u001b[0m\u001b[1;33m[\u001b[0m\u001b[0mlen\u001b[0m\u001b[1;33m(\u001b[0m\u001b[0mtchosenlist\u001b[0m\u001b[1;33m)\u001b[0m\u001b[1;33m,\u001b[0m\u001b[1;36m3\u001b[0m\u001b[1;33m]\u001b[0m\u001b[1;33m,\u001b[0m \u001b[0mdtype\u001b[0m\u001b[1;33m=\u001b[0m\u001b[0mnp\u001b[0m\u001b[1;33m.\u001b[0m\u001b[0mobject\u001b[0m\u001b[1;33m)\u001b[0m\u001b[1;33m\u001b[0m\u001b[1;33m\u001b[0m\u001b[0m\n\u001b[0;32m      3\u001b[0m \u001b[0mcounter\u001b[0m \u001b[1;33m=\u001b[0m \u001b[1;36m0\u001b[0m\u001b[1;33m\u001b[0m\u001b[1;33m\u001b[0m\u001b[0m\n\u001b[0;32m      4\u001b[0m \u001b[1;32mfor\u001b[0m \u001b[0mtchosen\u001b[0m \u001b[1;32min\u001b[0m \u001b[0mtchosenlist\u001b[0m\u001b[1;33m:\u001b[0m\u001b[1;33m\u001b[0m\u001b[1;33m\u001b[0m\u001b[0m\n\u001b[0;32m      5\u001b[0m     \u001b[0mresult\u001b[0m \u001b[1;33m=\u001b[0m \u001b[0mnp\u001b[0m\u001b[1;33m.\u001b[0m\u001b[0marray\u001b[0m\u001b[1;33m(\u001b[0m\u001b[0mdispmethod\u001b[0m\u001b[1;33m(\u001b[0m\u001b[1;36m1\u001b[0m\u001b[1;33m,\u001b[0m\u001b[0mtchosen\u001b[0m\u001b[1;33m,\u001b[0m\u001b[0mNboot\u001b[0m\u001b[1;33m)\u001b[0m\u001b[1;33m)\u001b[0m\u001b[1;33m\u001b[0m\u001b[1;33m\u001b[0m\u001b[0m\n",
      "\u001b[1;31mNameError\u001b[0m: name 'np' is not defined"
     ]
    }
   ],
   "source": [
    "dispresultsplus = np.empty([len(tchosenlist),4])\n",
    "histplus = np.zeros([len(tchosenlist),3], dtype=np.object)\n",
    "counter = 0\n",
    "for tchosen in tchosenlist:\n",
    "    result = np.array(dispmethod(1,tchosen,Nboot))\n",
    "    dispresultsplus[counter,0] = tchosen\n",
    "    averageffplus = 0.5*(np.nanmean(result[0])+np.nanmean(result[1]))\n",
    "    deltaplus = result-np.nanmean(result)\n",
    "    varpluslo = np.sum(deltaplus[0]**2)/(len(result[0])-1)\n",
    "    varplusup = np.sum(deltaplus[1]**2)/(len(result[0])-1)\n",
    "    rhoplus = np.sum(deltaplus[0]*deltaplus[1])/(len(result[0])-1)\n",
    "    varplus = ((np.nanmean(result[0])-np.nanmean(result[1]))**2)/12 + (varpluslo+varplusup+rhoplus*np.sqrt(varpluslo)*np.sqrt(varplusup))/3\n",
    "    dispresultsplus[counter,1] = averageffplus\n",
    "    dispresultsplus[counter,2] = averageffplus-np.sqrt(varplus)\n",
    "    dispresultsplus[counter,3] = averageffplus+np.sqrt(varplus)\n",
    "    histplus[counter,0] = tchosen\n",
    "    histplus[counter,1] = result[0]\n",
    "    histplus[counter,2] = result[1]\n",
    "    counter += 1"
   ]
  },
  {
   "cell_type": "code",
   "execution_count": 91,
   "metadata": {},
   "outputs": [
    {
     "name": "stderr",
     "output_type": "stream",
     "text": [
      "100%|██████████| 1000/1000 [00:29<00:00, 33.89it/s]\n",
      "  1%|          | 11/1000 [00:00<00:22, 43.93it/s]"
     ]
    },
    {
     "name": "stdout",
     "output_type": "stream",
     "text": [
      "for t =  0.0  unitarity fail percentage is  0.0 %\n",
      "for t =  0.0  other fail percentage is  40.8 %\n"
     ]
    },
    {
     "name": "stderr",
     "output_type": "stream",
     "text": [
      "100%|██████████| 1000/1000 [00:29<00:00, 34.32it/s]\n",
      "  1%|          | 7/1000 [00:00<00:17, 57.99it/s]"
     ]
    },
    {
     "name": "stdout",
     "output_type": "stream",
     "text": [
      "for t =  0.2692  unitarity fail percentage is  0.0 %\n",
      "for t =  0.2692  other fail percentage is  41.5 %\n"
     ]
    },
    {
     "name": "stderr",
     "output_type": "stream",
     "text": [
      "100%|██████████| 1000/1000 [00:30<00:00, 32.97it/s]\n",
      "  0%|          | 4/1000 [00:00<00:36, 27.46it/s]"
     ]
    },
    {
     "name": "stdout",
     "output_type": "stream",
     "text": [
      "for t =  0.5385  unitarity fail percentage is  0.0 %\n",
      "for t =  0.5385  other fail percentage is  40.2 %\n"
     ]
    },
    {
     "name": "stderr",
     "output_type": "stream",
     "text": [
      "100%|██████████| 1000/1000 [00:29<00:00, 33.81it/s]\n",
      "  1%|          | 7/1000 [00:00<00:32, 30.99it/s]"
     ]
    },
    {
     "name": "stdout",
     "output_type": "stream",
     "text": [
      "for t =  0.8077  unitarity fail percentage is  0.0 %\n",
      "for t =  0.8077  other fail percentage is  41.8 %\n"
     ]
    },
    {
     "name": "stderr",
     "output_type": "stream",
     "text": [
      "100%|██████████| 1000/1000 [00:29<00:00, 33.98it/s]\n",
      "  1%|          | 8/1000 [00:00<00:26, 37.58it/s]"
     ]
    },
    {
     "name": "stdout",
     "output_type": "stream",
     "text": [
      "for t =  1.0769  unitarity fail percentage is  0.0 %\n",
      "for t =  1.0769  other fail percentage is  42.1 %\n"
     ]
    },
    {
     "name": "stderr",
     "output_type": "stream",
     "text": [
      "100%|██████████| 1000/1000 [00:30<00:00, 32.88it/s]\n",
      "  0%|          | 3/1000 [00:00<00:33, 29.77it/s]"
     ]
    },
    {
     "name": "stdout",
     "output_type": "stream",
     "text": [
      "for t =  1.3461  unitarity fail percentage is  0.0 %\n",
      "for t =  1.3461  other fail percentage is  40.2 %\n"
     ]
    },
    {
     "name": "stderr",
     "output_type": "stream",
     "text": [
      "100%|██████████| 1000/1000 [00:30<00:00, 33.02it/s]\n",
      "  1%|          | 7/1000 [00:00<00:31, 31.81it/s]"
     ]
    },
    {
     "name": "stdout",
     "output_type": "stream",
     "text": [
      "for t =  1.6154  unitarity fail percentage is  0.0 %\n",
      "for t =  1.6154  other fail percentage is  40.8 %\n"
     ]
    },
    {
     "name": "stderr",
     "output_type": "stream",
     "text": [
      "100%|██████████| 1000/1000 [00:30<00:00, 32.33it/s]"
     ]
    },
    {
     "name": "stdout",
     "output_type": "stream",
     "text": [
      "for t =  1.8846  unitarity fail percentage is  0.0 %\n",
      "for t =  1.8846  other fail percentage is  39.6 %\n"
     ]
    },
    {
     "name": "stderr",
     "output_type": "stream",
     "text": [
      "\n"
     ]
    }
   ],
   "source": [
    "dispresultszero = np.empty([len(tchosenlist),4])\n",
    "histzero = np.zeros([len(tchosenlist),3], dtype=np.object)\n",
    "counter = 0\n",
    "for tchosen in tchosenlist:\n",
    "    result = np.array(dispmethod(0,tchosen,Nboot))\n",
    "    dispresultszero[counter,0] = tchosen\n",
    "    averageffzero = 0.5*(np.nanmean(result[0])+np.nanmean(result[1]))\n",
    "    deltazero = result-np.nanmean(result)\n",
    "    varzerolo = np.sum(deltazero[0]**2)/(len(result[0])-1)\n",
    "    varzeroup = np.sum(deltazero[1]**2)/(len(result[0])-1)\n",
    "    rhozero = np.sum(deltazero[0]*deltazero[1])/(len(result[0])-1)\n",
    "    varzero = (np.nanmean(result[0])-np.nanmean(result[1]))**2/12 + (varzerolo+varzeroup+rhozero*np.sqrt(varzerolo)*np.sqrt(varzeroup))/3\n",
    "    dispresultszero[counter,1] = averageffzero\n",
    "    dispresultszero[counter,2] = averageffzero-np.sqrt(varzero)\n",
    "    dispresultszero[counter,3] = averageffzero+np.sqrt(varzero)                                           \n",
    "    histzero[counter,0] = tchosen\n",
    "    histzero[counter,1] = result[0]\n",
    "    histzero[counter,2] = result[1]\n",
    "    counter += 1"
   ]
  },
  {
   "cell_type": "code",
   "execution_count": 92,
   "metadata": {},
   "outputs": [
    {
     "data": {
      "text/plain": [
       "0.7670323256187542"
      ]
     },
     "execution_count": 92,
     "metadata": {},
     "output_type": "execute_result"
    }
   ],
   "source": [
    "np.mean(histzero[0,1])"
   ]
  },
  {
   "cell_type": "code",
   "execution_count": 93,
   "metadata": {},
   "outputs": [
    {
     "data": {
      "text/plain": [
       "0.7792120417613563"
      ]
     },
     "execution_count": 93,
     "metadata": {},
     "output_type": "execute_result"
    }
   ],
   "source": [
    "np.mean(histzero[0,2])"
   ]
  },
  {
   "cell_type": "code",
   "execution_count": 94,
   "metadata": {},
   "outputs": [
    {
     "data": {
      "text/plain": [
       "array([[0.        , 0.77312218, 0.74684501, 0.79939936],\n",
       "       [0.2692    , 0.797793  , 0.77480334, 0.82078266],\n",
       "       [0.5385    , 0.82598331, 0.80514219, 0.84682444],\n",
       "       [0.8077    , 0.85237362, 0.83453198, 0.87021527],\n",
       "       [1.0769    , 0.88131621, 0.86388271, 0.89874971],\n",
       "       [1.3461    , 0.90815253, 0.89158226, 0.92472281],\n",
       "       [1.6154    , 0.94303796, 0.92885976, 0.95721616],\n",
       "       [1.8846    , 0.97650814, 0.96108403, 0.99193226]])"
      ]
     },
     "execution_count": 94,
     "metadata": {},
     "output_type": "execute_result"
    }
   ],
   "source": [
    "dispresultszero"
   ]
  },
  {
   "cell_type": "code",
   "execution_count": 95,
   "metadata": {},
   "outputs": [
    {
     "data": {
      "text/plain": [
       "array([[0.        , 0.7743752 , 0.74983635, 0.79891404],\n",
       "       [0.2692    , 0.82391843, 0.7997015 , 0.84813536],\n",
       "       [0.5385    , 0.87346066, 0.84946349, 0.89745784],\n",
       "       [0.8077    , 0.93682279, 0.90930028, 0.96434529],\n",
       "       [1.0769    , 1.01090747, 0.98271003, 1.03910491],\n",
       "       [1.3461    , 1.09578312, 1.06675024, 1.12481599],\n",
       "       [1.6154    , 1.1931907 , 1.15869577, 1.22768564],\n",
       "       [1.8846    , 1.31797177, 1.27898648, 1.35695705]])"
      ]
     },
     "execution_count": 95,
     "metadata": {},
     "output_type": "execute_result"
    }
   ],
   "source": [
    "dispresultsplus"
   ]
  },
  {
   "cell_type": "code",
   "execution_count": 96,
   "metadata": {},
   "outputs": [
    {
     "data": {
      "image/png": "[encoded data removed]",
      "text/plain": [
       "<Figure size 432x288 with 1 Axes>"
      ]
     },
     "metadata": {
      "needs_background": "light"
     },
     "output_type": "display_data"
    }
   ],
   "source": [
    "plt.hist(histzero[0,1],bins=20,color=\"blue\", alpha=0.5)\n",
    "plt.hist(histzero[0,2],bins=20,color=\"red\", alpha=0.5)\n",
    "plt.show()"
   ]
  },
  {
   "cell_type": "code",
   "execution_count": 97,
   "metadata": {},
   "outputs": [
    {
     "data": {
      "text/plain": [
       "600"
      ]
     },
     "execution_count": 97,
     "metadata": {},
     "output_type": "execute_result"
    }
   ],
   "source": [
    "len(histplus[0,2])"
   ]
  },
  {
   "cell_type": "code",
   "execution_count": 98,
   "metadata": {},
   "outputs": [
    {
     "data": {
      "text/plain": [
       "array([[0.    , 0.774 , 0.025 , 0.773 , 0.026 ],\n",
       "       [0.2692, 0.824 , 0.024 , 0.798 , 0.023 ],\n",
       "       [0.5385, 0.873 , 0.024 , 0.826 , 0.021 ],\n",
       "       [0.8077, 0.937 , 0.028 , 0.852 , 0.018 ],\n",
       "       [1.0769, 1.011 , 0.028 , 0.881 , 0.017 ],\n",
       "       [1.3461, 1.096 , 0.029 , 0.908 , 0.017 ],\n",
       "       [1.6154, 1.193 , 0.034 , 0.943 , 0.014 ],\n",
       "       [1.8846, 1.318 , 0.039 , 0.977 , 0.015 ]])"
      ]
     },
     "execution_count": 98,
     "metadata": {},
     "output_type": "execute_result"
    }
   ],
   "source": [
    "errortable = np.zeros([len(tchosenlist),5])\n",
    "counter = 0\n",
    "for t in tchosenlist:\n",
    "    errortable[counter,0] = t\n",
    "    errortable[counter,3] = round(dispresultszero[counter,1],3)\n",
    "    errortable[counter,4] = round(dispresultszero[counter,1] - dispresultszero[counter,2],3)\n",
    "    errortable[counter,1] = round(dispresultsplus[counter,1],3)\n",
    "    errortable[counter,2] = round(dispresultsplus[counter,1] - dispresultsplus[counter,2],3)\n",
    "    counter += 1\n",
    "\n",
    "errortable"
   ]
  },
  {
   "cell_type": "code",
   "execution_count": 100,
   "metadata": {},
   "outputs": [
    {
     "data": {
      "image/png": "[encoded data removed]",
      "text/plain": [
       "<Figure size 1800x1080 with 1 Axes>"
      ]
     },
     "metadata": {
      "needs_background": "light"
     },
     "output_type": "display_data"
    }
   ],
   "source": [
    "#x = np.linspace(0,2,101)\n",
    "plt.scatter(data[:,0],data[:,1])\n",
    "plt.scatter(data[:,0],data[:,2])\n",
    "plt.plot(dispresultszero[:,0],dispresultszero[:,1],label = r\"$f_0$\",color=\"orange\")\n",
    "pl.fill_between(dispresultszero[:,0],dispresultszero[:,2],dispresultszero[:,3],linewidth=2,hatch='/',edgecolor=\"orange\",facecolor=\"none\")\n",
    "plt.plot(dispresultsplus[:,0],dispresultsplus[:,1],label = r\"$f_+$\",color=\"lightskyblue\")\n",
    "pl.fill_between(dispresultsplus[:,0],dispresultsplus[:,2],dispresultsplus[:,3],linewidth=2,hatch='/',edgecolor=\"lightskyblue\",facecolor=\"none\")\n",
    "romevals = np.array([[0.0, 0.765, 0.765, 0.772, 0.772],\n",
    "[0.2692, 0.815, 0.792, 0.822, 0.800],\n",
    "[0.5385, 0.872, 0.820, 0.878, 0.826],\n",
    "[0.8077, 0.937, 0.849, 0.942, 0.853],\n",
    "[1.0769, 1.013, 0.879, 1.015, 0.882],\n",
    "[1.3461, 1.102, 0.911, 1.102, 0.911],\n",
    "[1.6154, 1.208, 0.944, 1.208, 0.944],\n",
    "[1.8846, 1.336, 0.979, 1.336, 0.979]])\n",
    "romeerrorvals = np.array([\n",
    "[0.031, 0.031, 0.030, 0.030],\n",
    "[0.031, 0.028, 0.029, 0.026],\n",
    "[0.031, 0.025, 0.030, 0.025],\n",
    "[0.032, 0.023, 0.031, 0.021],\n",
    "[0.034, 0.021, 0.034, 0.020],\n",
    "[0.038, 0.019, 0.038, 0.019],\n",
    "[0.044, 0.019, 0.044, 0.019],\n",
    "[0.054, 0.019, 0.054, 0.019]])\n",
    "\n",
    "#plt.scatter(romevals[:,0],romevals[:,3])\n",
    "pl.errorbar(romevals[:,0], romevals[:,3], romeerrorvals[:,2], fmt='.k',capsize=8)\n",
    "#plt.scatter(romevals[:,0],romevals[:,4])\n",
    "pl.errorbar(romevals[:,0], romevals[:,4], romeerrorvals[:,3], fmt='.k',capsize=8)\n",
    "\n",
    "#plt.xlim(0,1.1)\n",
    "#plt.ylim(0.75,1.1)\n",
    "plt.xlabel(r\"$t \\.\\. (GeV^2)$\")\n",
    "plt.ylabel(\"Form factor\")\n",
    "plt.legend()\n",
    "plt.rcParams[\"figure.figsize\"] = (25,15)\n",
    "plt.show()"
   ]
  },
  {
   "cell_type": "code",
   "execution_count": null,
   "metadata": {},
   "outputs": [],
   "source": [
    "#x = np.linspace(0,2,101)\n",
    "#plt.scatter(data[:,0],data[:,1])\n",
    "#plt.scatter(data[:,0],data[:,2])\n",
    "#plt.plot(dispresultszero[:,0],dispresultszero[:,1],label = r\"$f_0$\")\n",
    "#plt.plot(dispresultszero[:,0],dispresultszero[:,2],label = r\"$f_0$ Lower bound\")\n",
    "#plt.plot(dispresultszero[:,0],dispresultszero[:,3],label = r\"$f_0$ Upper bound\")\n",
    "plt.plot(plusnonan[:,0],plusnonan[:,1],label = r\"$f_+$\")\n",
    "plt.plot(plusnonan[:,0],plusnonan[:,2],label = r\"$f_+$ Lower bound\")\n",
    "plt.plot(plusnonan[:,0],plusnonan[:,3],label = r\"$f_+$ Upper bound\")\n",
    "romevals = np.array([[0.0, 0.765, 0.765, 0.772, 0.772],\n",
    "[0.2692, 0.815, 0.792, 0.822, 0.800],\n",
    "[0.5385, 0.872, 0.820, 0.878, 0.826],\n",
    "[0.8077, 0.937, 0.849, 0.942, 0.853],\n",
    "[1.0769, 1.013, 0.879, 1.015, 0.882]])\n",
    "plt.scatter(romevals[:,0],romevals[:,3])\n",
    "plt.scatter(romevals[:,0],romevals[:,4])\n",
    "#plt.xlim(0,1.1)\n",
    "#plt.ylim(0.75,1.1)\n",
    "plt.xlabel(r\"$t \\.\\. (GeV^2)$\")\n",
    "plt.ylabel(\"Form factor\")\n",
    "plt.legend()\n",
    "plt.rcParams[\"figure.figsize\"] = (15,15)\n",
    "plt.show()"
   ]
  },
  {
   "cell_type": "code",
   "execution_count": null,
   "metadata": {},
   "outputs": [],
   "source": []
  }
 ],
 "metadata": {
  "kernelspec": {
   "display_name": "Python 3",
   "language": "python",
   "name": "python3"
  },
  "language_info": {
   "codemirror_mode": {
    "name": "ipython",
    "version": 3
   },
   "file_extension": ".py",
   "mimetype": "text/x-python",
   "name": "python",
   "nbconvert_exporter": "python",
   "pygments_lexer": "ipython3",
   "version": "3.8.5"
  }
 },
 "nbformat": 4,
 "nbformat_minor": 4
}
