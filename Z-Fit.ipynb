{
 "cells": [
  {
   "cell_type": "code",
   "execution_count": 1,
   "metadata": {},
   "outputs": [],
   "source": [
    "import h5py as h5\n",
    "from math import sqrt,pi\n",
    "import numpy as np\n",
    "import matplotlib.pyplot as plt\n",
    "from plot_settings import plotparams\n",
    "from kinematic_functions import zed#qsq,k,wl\n",
    "from BGL import phi#,blaschke\n",
    "from scipy.optimize import minimize_scalar\n",
    "import scipy\n",
    "import time\n",
    "import masses\n",
    "from tqdm import tqdm\n",
    "from numba import jit"
   ]
  },
  {
   "cell_type": "code",
   "execution_count": 2,
   "metadata": {},
   "outputs": [],
   "source": [
    "# light mesons\n",
    "mpi=(2*0.13957061+0.1349770)/3 # PDG2018\n",
    "mK=(0.493677+0.497611)/2       # PDG2018\n",
    "\n",
    "# B mesons\n",
    "mB=(5.27933+5.27964)/2\n",
    "mBstar= 5.32470\n",
    "mBs=5.36682\n",
    "mBstar0plus=5.63\n",
    "\n",
    "tp=(mBs+mK)**2\n",
    "tm=(mBs-mK)**2 # = qsqmax\n",
    "tcut=(mB+mpi)**2\n",
    "t0=tcut-sqrt(tcut*(tcut-tm))# D mesons\n",
    "\n",
    "etaBsK=1\n",
    "chi1minusBsK=6.03e-4\n",
    "chi0plusBsK=1.48e-2\n",
    "fpluspoles=np.array([mBstar])\n",
    "fzeropoles=np.array([])\n",
    "\n",
    "zmax=zed(0,tcut,t0)\n",
    "\n",
    "# z-values for pole positions\n",
    "zpluspole=zed(mBstar**2,tcut,t0)\n",
    "#zzeropole=zed(mBstar0plus**2,tcut,t0) # mBstar0plus is above threshold\n",
    "#nplus=2 # number of input values for f+\n",
    "#nzero=3 # number of input values for f0\n",
    "#qsqmin='17.50' # (17.50,18.,00,18.50,19.00)\n",
    "path=''\n"
   ]
  },
  {
   "cell_type": "code",
   "execution_count": 3,
   "metadata": {},
   "outputs": [],
   "source": [
    "#@jit(nopython=True)\n",
    "def z(t):\n",
    "    return zed(t,tcut,t0)"
   ]
  },
  {
   "cell_type": "code",
   "execution_count": 4,
   "metadata": {},
   "outputs": [],
   "source": [
    "polevalszero = []\n",
    "polevalsplus = [5.324700**2]\n",
    "chi0plus = 1.48e-02\n",
    "chi1minus = 6.03e-04\n",
    "chiplus = chi1minus\n",
    "chizero = chi0plus\n",
    "mKphys\t\t= masses.mK\n",
    "mBsphys\t\t= masses.mBs\n",
    "eta = 1\n",
    "tstar = 29.349571\n",
    "t0 = 16.505107\n",
    "tplus = 34.368484\n",
    "tminus = 23.728356"
   ]
  },
  {
   "cell_type": "code",
   "execution_count": 5,
   "metadata": {},
   "outputs": [
    {
     "data": {
      "text/plain": [
       "34.36848415129599"
      ]
     },
     "execution_count": 5,
     "metadata": {},
     "output_type": "execute_result"
    }
   ],
   "source": [
    "(mKphys+mBsphys)**2"
   ]
  },
  {
   "cell_type": "code",
   "execution_count": 6,
   "metadata": {},
   "outputs": [],
   "source": [
    "alpha = np.arctan((2*np.sqrt(tp-tcut)*np.sqrt(tcut-t0))/(2*tcut - tp - t0))\n",
    "cos_alpha = np.cos(alpha)\n",
    "sin_alpha = np.sin(alpha)\n",
    "sin_2alpha = np.sin(2*alpha)\n",
    "\n",
    "f0_norm = 1/np.sqrt(2*alpha)\n",
    "f1_norm = (2*alpha - 2*sin_alpha**2 /alpha)**(-.5)\n",
    "f2_b = (sin_alpha-sin_alpha**2 *cos_alpha/alpha)/(sin_alpha**2/alpha - alpha)\n",
    "f2_c = -(sin_2alpha + 2*f2_b*sin_alpha)/(2*alpha)\n",
    "f2_norm = (2*alpha*(1+f2_b**2+f2_c**2) + (1+f2_c)*f2_b*4*sin_alpha + f2_c*2*sin_2alpha)**(-.5)"
   ]
  },
  {
   "cell_type": "code",
   "execution_count": 7,
   "metadata": {},
   "outputs": [
    {
     "data": {
      "text/plain": [
       "1.1173369938453133"
      ]
     },
     "execution_count": 7,
     "metadata": {},
     "output_type": "execute_result"
    }
   ],
   "source": [
    "alpha"
   ]
  },
  {
   "cell_type": "code",
   "execution_count": null,
   "metadata": {},
   "outputs": [],
   "source": []
  },
  {
   "cell_type": "code",
   "execution_count": 8,
   "metadata": {},
   "outputs": [],
   "source": [
    "def alt_polynomial(t,n):\n",
    "    if n == 0:\n",
    "        return 1*f0_norm\n",
    "    if n == 1:\n",
    "        return f1_norm*(z(t)-(sin_alpha)/alpha)\n",
    "    if n == 2:\n",
    "        return f2_norm*(z(t)**2 + z(t)*f2_b + f2_c)"
   ]
  },
  {
   "cell_type": "code",
   "execution_count": 9,
   "metadata": {},
   "outputs": [],
   "source": [
    "def ff_E(Evec,pole,coeff):\n",
    "  # construct ff from HMChPT in continuum limit\n",
    "  return [1./(E+pole)*np.sum([E**i*coeff[i] for i in range(len(coeff))]) for E in Evec]"
   ]
  },
  {
   "cell_type": "code",
   "execution_count": 10,
   "metadata": {},
   "outputs": [],
   "source": [
    "def cov_ff_p0(Evec_p,Evec_0,C,Np,N0,pole_p,pole_0):\n",
    "  # construct covariance matrix for ff from HMChPT in continuum limit\n",
    "  Y_E_p_vec   \t= lambda E_p: np.r_[ np.array([1./(E_p+pole_p)*E_p**i for i in range(Np)])]\n",
    "  Y_E_0_vec   \t= lambda E_0: np.r_[ np.array([1./(E_0+pole_0)*E_0**i for i in range(N0)])]\n",
    "  Cpp\t\t= np.array([[np.dot(Y_E_p_vec(E1),np.dot(C[:Np,:Np],Y_E_p_vec(E2)))\n",
    "\t\t\t\t\tfor E1 in Evec_p] for E2 in Evec_p])\n",
    "  C00\t\t= np.array([[np.dot(Y_E_0_vec(E1),np.dot(C[Np:,Np:],Y_E_0_vec(E2)))\n",
    "\t\t\t\t\tfor E1 in Evec_0] for E2 in Evec_0])\n",
    "  Cp0\t\t= np.array([[np.dot(Y_E_p_vec(E1),np.dot(C[:Np:,Np:],Y_E_0_vec(E2)))\n",
    "\t\t\t\t\tfor E1 in Evec_p] for E2 in Evec_0])\n",
    "  M0\t\t= np.r_['-1',Cpp  ,Cp0.T]\n",
    "  M1\t\t= np.r_['-1',Cp0  ,C00  ]\n",
    "  M\t\t= np.r_[M0,M1]\n",
    "  return M"
   ]
  },
  {
   "cell_type": "code",
   "execution_count": 11,
   "metadata": {},
   "outputs": [],
   "source": [
    "def phiplus(t,chi = chiplus):\n",
    "    #chi = 1\n",
    "    K = 48*np.pi\n",
    "    a = 3\n",
    "    b = 2\n",
    "    rq = np.sqrt(tstar-t)\n",
    "    rminus = np.sqrt(tstar-tminus)\n",
    "    r0 = np.sqrt(tstar-t0)\n",
    "    val = np.sqrt(eta/(K*chi))*(rq**((a+1)/2))*r0**(-1/2)*(rq+r0)*((rq+np.sqrt(tstar))**(-b-3))*(rq+rminus)**(a/2)\n",
    "    for i in range(len(polevalsplus)):\n",
    "        val *= (z(t)-z(polevalsplus[i]))/(1-np.conjugate(z(polevalsplus[i]))*z(t))\n",
    "    return val"
   ]
  },
  {
   "cell_type": "code",
   "execution_count": 12,
   "metadata": {},
   "outputs": [],
   "source": [
    "def phizero(t,chi = chizero):\n",
    "    #chi = 1\n",
    "    K = 16*np.pi/(tplus*tminus)\n",
    "    a = 1\n",
    "    b = 1\n",
    "    rq = np.sqrt(tstar-t)\n",
    "    rminus = np.sqrt(tstar-tminus)\n",
    "    r0 = np.sqrt(tstar-t0)\n",
    "    val = np.sqrt(eta/(K*chi))*(rq**((a+1)/2))*r0**(-1/2)*(rq+r0)*((rq+np.sqrt(tstar))**(-b-3))*(rq+rminus)**(a/2)\n",
    "    for i in range(len(polevalszero)):\n",
    "        val *= (z(t)-z(polevalszero[i]))/(1-np.conjugate(z(polevalszero[i]))*z(t))\n",
    "    return val"
   ]
  },
  {
   "cell_type": "code",
   "execution_count": 13,
   "metadata": {},
   "outputs": [],
   "source": [
    "def phi_ff(t,ff):\n",
    "    if ff == 0:\n",
    "        return phizero(t)\n",
    "    elif ff == 1:\n",
    "        return phiplus(t)"
   ]
  },
  {
   "cell_type": "code",
   "execution_count": 14,
   "metadata": {},
   "outputs": [],
   "source": [
    "# def Phi_n(n,z):\n",
    "#     ans = 1\n",
    "#     if n == 0:\n",
    "#         return ans\n",
    "#     if n > 0:\n",
    "#         for n in range(1,n):\n",
    "            "
   ]
  },
  {
   "cell_type": "code",
   "execution_count": 15,
   "metadata": {},
   "outputs": [],
   "source": [
    "def zfunction(t,a,ff,functtype = \"zfit\"):\n",
    "    #print(a)\n",
    "    if functtype  == \"zfit\":\n",
    "        if ff == 0:\n",
    "            tempsum = 0\n",
    "            for n,an in enumerate(a):\n",
    "                tempsum += 1/phi_ff(t,ff)*an*z(t)**n #(1-t/(mBstar**2))*an*z(t)**n\n",
    "            return tempsum\n",
    "        elif ff == 1:\n",
    "            tempsum = 0\n",
    "            #K = len(a)\n",
    "            #print(K)\n",
    "            for n,an in enumerate(a):\n",
    "                #print(n,an)\n",
    "                tempsum += 1/phi_ff(t,ff)*an*z(t)**n #BCL: (1-t/(mBstar**2))*an*(z(t)**n - (-1)**(n-K)*n/K *z(t)**K)\n",
    "            return tempsum\n",
    "        else:\n",
    "            print(\"invalid ff value\")\n",
    "    if functtype  == \"altfit\":\n",
    "        \n",
    "        if ff == 0 or 1:\n",
    "            tempsum = 0\n",
    "            for n,an in enumerate(a):\n",
    "                tempsum += an*alt_polynomial(t,n) #(1-t/(mBstar**2))*an*z(t)**n\n",
    "            return tempsum/phi_ff(t,ff)\n",
    "        else:\n",
    "            print(\"invalid ff value\")"
   ]
  },
  {
   "cell_type": "code",
   "execution_count": 16,
   "metadata": {},
   "outputs": [],
   "source": [
    "def ffs_from_input_q2(zerotlist,plustlist,nsamples = 0):\n",
    "    nplus = len(plustlist)\n",
    "    nzero = len(zerotlist)\n",
    "    #\n",
    "    qsq_refK_plus\t= np.array(plustlist)#np.array([23.7283556,22.11456,20.07895,17.5000000]) # you can choose this freely np.array(np.linspace(23.5,17.5,7))\n",
    "    qsq_refK_zero\t= np.array(zerotlist)#np.array([23.7283556,22.11456,20.07895,17.5000000]) # you can choose this freely np.array(np.linspace(23.5,17.5,7))\n",
    "\n",
    "    #\n",
    "    ksq_refK_plus \t= (mBsphys**4+(mKphys**2-qsq_refK_plus)**2-2*mBsphys**2*(mKphys**2+qsq_refK_plus))/(4*mBsphys**2)\n",
    "    ksq_refK_zero \t= (mBsphys**4+(mKphys**2-qsq_refK_zero)**2-2*mBsphys**2*(mKphys**2+qsq_refK_zero))/(4*mBsphys**2)\n",
    "\n",
    "    ErefK_plus \t \t= np.sqrt(mKphys**2+ksq_refK_plus)\n",
    "    ErefK_zero \t \t= np.sqrt(mKphys**2+ksq_refK_zero)\n",
    "    Deltapar\t= + 0.263\n",
    "    Deltaperp\t= - 0.0416\n",
    "\n",
    "\n",
    "    f=h5.File('BstoK_ref_ff_dat.hdf5','r')\n",
    "    cp_BstoK=np.array(f.get('cp'))\n",
    "    c0_BstoK=np.array(f.get('c0'))\n",
    "    Cp0_BstoK=np.array(f.get('Cp0'))\n",
    "    fp_BstoK \t= np.array(ff_E(ErefK_plus,Deltaperp,cp_BstoK))\n",
    "    f0_BstoK \t= np.array(ff_E(ErefK_zero,Deltapar ,c0_BstoK))\n",
    "    ff_ref\t\t= np.r_[ fp_BstoK, f0_BstoK]\n",
    "    Cp0_ref \t= cov_ff_p0(ErefK_plus,ErefK_zero,Cp0_BstoK,2,3,Deltaperp,Deltapar)\n",
    "\n",
    "    bskpts = np.r_[fp_BstoK,f0_BstoK]\n",
    "    bskcov = np.array(Cp0_ref)\n",
    "\n",
    "    qsqinputl = np.array(plustlist + zerotlist)\n",
    "\n",
    "\n",
    "    zinputl=zed(qsqinputl,tcut,t0)\n",
    "\n",
    "    npts=len(bskpts)\n",
    "    bskptslbls=[char for char in nplus*'+'+nzero*'0']\n",
    "\n",
    "    dbsk=np.sqrt(bskcov.diagonal())\n",
    "    bskcov=0.5*(bskcov + np.transpose(bskcov))\n",
    "\n",
    "    # input f+ and f0 values\n",
    "    tpin=qsqinputl[:nplus]\n",
    "    zpin=zed(tpin,tcut,t0)\n",
    "    fpin=bskpts[:nplus]\n",
    "    dfpin=dbsk[:nplus]\n",
    "    tzin=qsqinputl[nplus:]\n",
    "    zzin=zed(tzin,tcut,t0)\n",
    "    fzin=bskpts[nplus:]\n",
    "    dfzin=dbsk[nplus:]\n",
    "    nppts=len(zpin)\n",
    "    nzpts=len(zzin)\n",
    "\n",
    "    fpinputs=(tpin,fpin,chi1minusBsK,zpluspole)\n",
    "    fzinputs=(tzin,fzin,chi0plusBsK,zpluspole) # !!! zpluspole just a dummy here\n",
    "    zero_ffs = np.array((tzin,fzin))\n",
    "    plus_ffs = np.array((tpin,fpin))\n",
    "    return zero_ffs,plus_ffs,bskcov"
   ]
  },
  {
   "cell_type": "code",
   "execution_count": 17,
   "metadata": {},
   "outputs": [
    {
     "data": {
      "text/plain": [
       "(array([[15.        , 20.        ],\n",
       "        [ 0.38879949,  0.61208472]]),\n",
       " array([[15.        , 17.        , 20.        ],\n",
       "        [ 0.68235664,  0.92042411,  1.48509642]]),\n",
       " array([[0.00100023, 0.00102579, 0.00108644, 0.00034855, 0.00023526],\n",
       "        [0.00102579, 0.00107984, 0.00120803, 0.00034109, 0.00026642],\n",
       "        [0.00108644, 0.00120803, 0.00149642, 0.0003234 , 0.00034031],\n",
       "        [0.00034855, 0.00034109, 0.0003234 , 0.00042774, 0.0001226 ],\n",
       "        [0.00023526, 0.00026642, 0.00034031, 0.0001226 , 0.00013575]]))"
      ]
     },
     "execution_count": 17,
     "metadata": {},
     "output_type": "execute_result"
    }
   ],
   "source": [
    "ffs_from_input_q2([15,20],[15,17,20])"
   ]
  },
  {
   "cell_type": "code",
   "execution_count": 18,
   "metadata": {},
   "outputs": [
    {
     "data": {
      "text/plain": [
       "([1, 2, 3], [4, 5])"
      ]
     },
     "execution_count": 18,
     "metadata": {},
     "output_type": "execute_result"
    }
   ],
   "source": [
    "nzero = 3\n",
    "nplus = 2\n",
    "inputs = [1,2,3,4,5,6]\n",
    "(inputs[0:nzero],inputs[nzero:-1])\n"
   ]
  },
  {
   "cell_type": "code",
   "execution_count": 19,
   "metadata": {},
   "outputs": [],
   "source": [
    "def function_to_minimise(inputs,inputq2,inputffs,invcov,functtype = \"zfit\"):#, lam\n",
    "    #make sure to define:inputq2,inputffs,inputcov,functtype = \"zfit\" before this\n",
    "    coefficients = (inputs[0:nzero],inputs[nzero:nzero+nplus])\n",
    "    ssum = 0\n",
    "    fflist = [zfunction(q2,coefficients[0],0,functtype) for q2 in inputq2[0]] + [zfunction(q2,coefficients[1],1,functtype) for q2 in inputq2[1]]\n",
    "    \n",
    "    for i in range(len(fflist)):\n",
    "        for j in range(len(fflist)):\n",
    "            ssum += (fflist[i]-inputffs[i])*invcov[i,j]*(fflist[j]-inputffs[j])\n",
    "    return ssum# + lam*(zfunction(0,coefficients[0],0)-zfunction(0,coefficients[1],1))**2"
   ]
  },
  {
   "cell_type": "code",
   "execution_count": 20,
   "metadata": {},
   "outputs": [],
   "source": [
    "def zfitit(inputq2,nboot,functtype = \"zfit\"):\n",
    "    ffdata = ffs_from_input_q2(inputq2[0],inputq2[1])\n",
    "    resampledffdata = np.random.multivariate_normal(np.append(ffdata[0][1],ffdata[1][1]),ffdata[2],size=nboot)\n",
    "    nzero = len(inputq2[0])\n",
    "    nplus = len(inputq2[1])\n",
    "    resampledffs = (resampledffdata[:,0:nzero],resampledffdata[:,nzero:])#,dtype = object\n",
    "    invcov = np.linalg.inv(ffdata[2])\n",
    "    initial_guess = scipy.optimize.minimize(function_to_minimise,np.linspace(0.1,0.1,nzero+nplus),args = (inputq2,np.append(ffdata[0][1],ffdata[1][1]),invcov),method='trust-constr',constraints=cons).x\n",
    "    outputcoeffs = np.zeros((nzero+nplus,nboot))\n",
    "    if functtype == \"zfit\":\n",
    "        constype = cons\n",
    "    elif functtype == \"altfit\":\n",
    "        constype = cons_alt\n",
    "    for i in tqdm(range(np.shape(resampledffdata)[0])):\n",
    "        #print(i)\n",
    "        outputcoeffs[:,i] = scipy.optimize.minimize(function_to_minimise,initial_guess,args = (inputq2,resampledffdata[i,:],invcov,functtype),method='trust-constr',constraints=constype).x\n",
    "    return outputcoeffs"
   ]
  },
  {
   "cell_type": "code",
   "execution_count": 21,
   "metadata": {},
   "outputs": [
    {
     "name": "stdout",
     "output_type": "stream",
     "text": [
      "[0.38879949 0.46845682 0.61208472 0.68235664 1.48509642]\n"
     ]
    },
    {
     "name": "stderr",
     "output_type": "stream",
     "text": [
      "C:\\Users\\09cra\\anaconda3\\lib\\site-packages\\scipy\\optimize\\_hessian_update_strategy.py:182: UserWarning: delta_grad == 0.0. Check if the approximated function is linear. If the function is linear better results can be obtained by defining the Hessian as zero instead of using quasi-Newton approximations.\n",
      "  warn('delta_grad == 0.0. Check if the approximated '\n"
     ]
    },
    {
     "data": {
      "text/plain": [
       "array([-0.16989614, -0.12108523,  0.04556504, -0.04126728, -0.05150325])"
      ]
     },
     "execution_count": 21,
     "metadata": {},
     "output_type": "execute_result"
    }
   ],
   "source": [
    "inputq2 = np.array(([15,17,20],[15,20]),dtype=object)\n",
    "nzero = 3 #len(inputq2[0])#+1\n",
    "nplus = 2 #len(inputq2[1])#+1\n",
    "genffdata = ffs_from_input_q2(inputq2[0],inputq2[1])\n",
    "inputffs = np.append(genffdata[0][1],genffdata[1][1]) #temporary (havent been resampled yet)\n",
    "print(inputffs)\n",
    "inputcov = genffdata[2]\n",
    "#lam = 10**3\n",
    "invcov = np.linalg.inv(inputcov)\n",
    "#cons = [{'type': 'ineq', 'fun': lambda inlist: zfunction(0,inlist[:nzero],0)-zfunction(0,inlist[nzero:nzero+nplus],1)},\n",
    "#        {'type': 'ineq', 'fun': lambda inlist: -zfunction(0,inlist[:nzero],0)+zfunction(0,inlist[nzero:nzero+nplus],1)}]\n",
    "cons = [{'type': 'eq', 'fun': lambda inlist: zfunction(0,inlist[:nzero],0)-zfunction(0,inlist[nzero:nzero+nplus],1)},{'type': 'ineq', 'fun': lambda inlist: 1- sum([inlist[i]**2 for i in range(len(inlist))])}]\n",
    "scipy.optimize.minimize(function_to_minimise,np.linspace(0.1,0.1,nzero+nplus),args = (inputq2,inputffs,inputcov,\"altfit\"), method='trust-constr',constraints=cons).x #,bounds = [(-1,1),(-1,1),(-1,1),(-1,1),(-1,1)], ,functtype = \"zfit\"\n"
   ]
  },
  {
   "cell_type": "code",
   "execution_count": 22,
   "metadata": {},
   "outputs": [
    {
     "name": "stdout",
     "output_type": "stream",
     "text": [
      "[list([15, 17, 20]) list([15, 20])]\n",
      "(array([[15.        , 17.        , 20.        ],\n",
      "       [ 0.38879949,  0.46845682,  0.61208472]]), array([[15.        , 20.        ],\n",
      "       [ 0.68235664,  1.48509642]]), array([[0.00100023, 0.00108644, 0.00034855, 0.00029113, 0.00023526],\n",
      "       [0.00108644, 0.00149642, 0.0003234 , 0.00031957, 0.00034031],\n",
      "       [0.00034855, 0.0003234 , 0.00042774, 0.00028331, 0.0001226 ],\n",
      "       [0.00029113, 0.00031957, 0.00028331, 0.00020756, 0.00012556],\n",
      "       [0.00023526, 0.00034031, 0.0001226 , 0.00012556, 0.00013575]]))\n",
      "0.027761944008949796\n",
      "[-0.16989614 -0.12108523  0.04556504] [-0.04126728 -0.05150325]\n"
     ]
    },
    {
     "data": {
      "image/png": "[encoded data removed]",
      "text/plain": [
       "<Figure size 432x288 with 1 Axes>"
      ]
     },
     "metadata": {
      "needs_background": "light"
     },
     "output_type": "display_data"
    }
   ],
   "source": [
    "q2rangetoplot = np.linspace(0,23,24)\n",
    "coefficients = np.array([-0.16989614, -0.12108523,  0.04556504, -0.04126728, -0.05150325])\n",
    "ffstoplot = ffs_from_input_q2(inputq2[0],inputq2[1])\n",
    "inputffs = np.append(ffstoplot[0][1],ffstoplot[1][1])\n",
    "print(inputq2)\n",
    "print(ffstoplot)\n",
    "plt.scatter(ffstoplot[0][0],ffstoplot[0][1],color = \"blue\")\n",
    "plt.scatter(ffstoplot[1][0],ffstoplot[1][1],color = \"orange\")\n",
    "plt.plot(q2rangetoplot, [zfunction(q2,coefficients[:nzero],0,\"altfit\") for q2 in q2rangetoplot],color = \"blue\")\n",
    "plt.plot(q2rangetoplot, [zfunction(q2,coefficients[nzero:nzero+nplus],1,\"altfit\") for q2 in q2rangetoplot],color = \"orange\")\n",
    "print(zfunction(0,coefficients[nzero:nzero+nplus],1,\"altfit\")-zfunction(0,coefficients[:nzero],0,\"altfit\"))\n",
    "print(coefficients[:nzero],coefficients[nzero:nzero+nplus])"
   ]
  },
  {
   "cell_type": "code",
   "execution_count": 34,
   "metadata": {},
   "outputs": [
    {
     "name": "stdout",
     "output_type": "stream",
     "text": [
      "[0.46845682 0.5124177  0.61208472 0.92042411 1.48509642]\n"
     ]
    },
    {
     "name": "stderr",
     "output_type": "stream",
     "text": [
      "C:\\Users\\09cra\\anaconda3\\lib\\site-packages\\scipy\\optimize\\_hessian_update_strategy.py:182: UserWarning: delta_grad == 0.0. Check if the approximated function is linear. If the function is linear better results can be obtained by defining the Hessian as zero instead of using quasi-Newton approximations.\n",
      "  warn('delta_grad == 0.0. Check if the approximated '\n"
     ]
    },
    {
     "data": {
      "text/plain": [
       "array([ 0.07880131, -0.12083838,  0.04616671,  0.02113924, -0.02978934])"
      ]
     },
     "execution_count": 34,
     "metadata": {},
     "output_type": "execute_result"
    }
   ],
   "source": [
    "inputq2 = np.array(([17,18,20],[17,20]),dtype=object)\n",
    "nzero = 3 #len(inputq2[0])#+1\n",
    "nplus = 2 #len(inputq2[1])#+1\n",
    "genffdata = ffs_from_input_q2(inputq2[0],inputq2[1])\n",
    "inputffs = np.append(genffdata[0][1],genffdata[1][1]) #temporary (havent been resampled yet)\n",
    "print(inputffs)\n",
    "inputcov = genffdata[2]\n",
    "#lam = 10**3\n",
    "invcov = np.linalg.inv(inputcov)\n",
    "#cons = [{'type': 'ineq', 'fun': lambda inlist: zfunction(0,inlist[:nzero],0)-zfunction(0,inlist[nzero:nzero+nplus],1)},\n",
    "#        {'type': 'ineq', 'fun': lambda inlist: -zfunction(0,inlist[:nzero],0)+zfunction(0,inlist[nzero:nzero+nplus],1)}]\n",
    "cons = [{'type': 'eq', 'fun': lambda inlist: zfunction(0,inlist[:nzero],0)-zfunction(0,inlist[nzero:nzero+nplus],1)},{'type': 'ineq', 'fun': lambda inlist: 1- sum([inlist[i]**2 for i in range(len(inlist))])}]\n",
    "cons_alt = [{'type': 'eq', 'fun': lambda inlist: zfunction(0,inlist[:nzero],0,\"altfit\")-zfunction(0,inlist[nzero:nzero+nplus],1,\"altfit\")},{'type': 'ineq', 'fun': lambda inlist: 1- sum([inlist[i]**2 for i in range(len(inlist))])}]\n",
    "\n",
    "scipy.optimize.minimize(function_to_minimise,np.linspace(0.1,0.1,nzero+nplus),args = (inputq2,inputffs,inputcov),method='trust-constr',constraints=cons).x#,bounds = [(-1,1),(-1,1),(-1,1),(-1,1),(-1,1)], ,functtype = \"zfit\"\n"
   ]
  },
  {
   "cell_type": "code",
   "execution_count": 35,
   "metadata": {},
   "outputs": [
    {
     "name": "stdout",
     "output_type": "stream",
     "text": [
      "[list([17, 18, 20]) list([17, 20])]\n",
      "(array([[17.        , 18.        , 20.        ],\n",
      "       [ 0.46845682,  0.5124177 ,  0.61208472]]), array([[17.        , 20.        ],\n",
      "       [ 0.92042411,  1.48509642]]), array([[0.00107984, 0.00120803, 0.00029956, 0.00028379, 0.00026642],\n",
      "       [0.00120803, 0.00149642, 0.00031957, 0.00032218, 0.00034031],\n",
      "       [0.00029956, 0.00031957, 0.00020756, 0.0001751 , 0.00012556],\n",
      "       [0.00028379, 0.00032218, 0.0001751 , 0.00015596, 0.00012802],\n",
      "       [0.00026642, 0.00034031, 0.00012556, 0.00012802, 0.00013575]]))\n",
      "-4.679340481761329e-08\n",
      "[ 0.0745317 -0.3148924  0.1163006] [ 0.01836438 -0.07009019]\n"
     ]
    },
    {
     "data": {
      "image/png": "[encoded data removed]",
      "text/plain": [
       "<Figure size 1440x1440 with 1 Axes>"
      ]
     },
     "metadata": {
      "needs_background": "light"
     },
     "output_type": "display_data"
    }
   ],
   "source": [
    "q2rangetoplot = np.linspace(0,23,24)\n",
    "coefficients = np.array([ 0.0745317 , -0.3148924 ,  0.1163006 ,  0.01836438, -0.07009019])\n",
    "ffstoplot = ffs_from_input_q2(inputq2[0],inputq2[1])\n",
    "inputffs = np.append(ffstoplot[0][1],ffstoplot[1][1])\n",
    "print(inputq2)\n",
    "print(ffstoplot)\n",
    "plt.scatter(ffstoplot[0][0],ffstoplot[0][1],color = \"blue\")\n",
    "plt.scatter(ffstoplot[1][0],ffstoplot[1][1],color = \"orange\")\n",
    "plt.plot(q2rangetoplot, [zfunction(q2,coefficients[:nzero],0) for q2 in q2rangetoplot],color = \"blue\")\n",
    "plt.plot(q2rangetoplot, [zfunction(q2,coefficients[nzero:nzero+nplus],1) for q2 in q2rangetoplot],color = \"orange\")\n",
    "print(zfunction(0,coefficients[nzero:nzero+nplus],1)-zfunction(0,coefficients[:nzero],0))\n",
    "print(coefficients[:nzero],coefficients[nzero:nzero+nplus])"
   ]
  },
  {
   "cell_type": "code",
   "execution_count": 36,
   "metadata": {},
   "outputs": [],
   "source": [
    "ffdata = ffs_from_input_q2(inputq2[0],inputq2[1])\n",
    "a = np.random.multivariate_normal(np.append(ffdata[1][1],ffdata[0][1]),ffdata[2],size=10)#[:,1]\n"
   ]
  },
  {
   "cell_type": "code",
   "execution_count": 37,
   "metadata": {},
   "outputs": [
    {
     "name": "stderr",
     "output_type": "stream",
     "text": [
      "C:\\Users\\09cra\\anaconda3\\lib\\site-packages\\scipy\\optimize\\_hessian_update_strategy.py:182: UserWarning: delta_grad == 0.0. Check if the approximated function is linear. If the function is linear better results can be obtained by defining the Hessian as zero instead of using quasi-Newton approximations.\n",
      "  warn('delta_grad == 0.0. Check if the approximated '\n",
      "100%|██████████| 200/200 [03:24<00:00,  1.02s/it]\n"
     ]
    }
   ],
   "source": [
    "#inputq2 = np.array(([17.5,19,23],[17.5,23]),dtype=object)\n",
    "nboot = 200\n",
    "coarray = zfitit(inputq2,nboot)"
   ]
  },
  {
   "cell_type": "code",
   "execution_count": 38,
   "metadata": {},
   "outputs": [
    {
     "name": "stderr",
     "output_type": "stream",
     "text": [
      "100%|██████████| 200/200 [05:37<00:00,  1.69s/it]\n"
     ]
    }
   ],
   "source": [
    "#inputq2 = np.array(([17.5,19,23],[17.5,23]),dtype=object)\n",
    "coarray_alt = zfitit(inputq2,nboot,\"altfit\")"
   ]
  },
  {
   "cell_type": "code",
   "execution_count": 39,
   "metadata": {},
   "outputs": [
    {
     "data": {
      "image/png": "[encoded data removed]",
      "text/plain": [
       "<Figure size 1080x1080 with 6 Axes>"
      ]
     },
     "metadata": {
      "needs_background": "light"
     },
     "output_type": "display_data"
    }
   ],
   "source": [
    "plt.rcParams[\"figure.figsize\"] = (15,15)\n",
    "fig,axs = plt.subplots(3,2)\n",
    "#fig.suptitle(r'Bounds at $q^2 = 0$ with randomly generated input form factor $q^2$ values')\n",
    "axs[0,0].hist(coarray[0,:])\n",
    "axs[0,0].set_title(\"c_0\")\n",
    "axs[0,1].hist(coarray[1,:])\n",
    "axs[0,1].set_title(\"c_1\")\n",
    "axs[1,0].hist(coarray[2,:])\n",
    "axs[1,0].set_title(\"c_2\")\n",
    "axs[1,1].hist(coarray[3,:])\n",
    "axs[1,1].set_title(\"c_3\")\n",
    "axs[2,1].hist(coarray[4,:])\n",
    "axs[2,1].set_title(\"c_4\")\n",
    "plt.show()"
   ]
  },
  {
   "cell_type": "code",
   "execution_count": 40,
   "metadata": {},
   "outputs": [],
   "source": [
    "q2rangetoplot = np.linspace(0,23,70)\n",
    "ffarray = np.zeros((2,len(q2rangetoplot),np.shape(coarray)[1]))\n",
    "for i,q2 in enumerate(q2rangetoplot):\n",
    "    for j in range(np.shape(coarray)[1]):\n",
    "        ffarray[0,i,j] = zfunction(q2,coarray[:nzero,j],0)\n",
    "        ffarray[1,i,j] = zfunction(q2,coarray[nzero:nzero+nplus,j],1)\n",
    "sigmabelow = round(np.shape(coarray)[1] * (1-0.6827)/2)\n",
    "sigmaabove = round(np.shape(coarray)[1] * (1+0.6827)/2)\n",
    "sorted_ffarray = np.sort(ffarray,2)"
   ]
  },
  {
   "cell_type": "code",
   "execution_count": 41,
   "metadata": {},
   "outputs": [
    {
     "data": {
      "image/png": "[encoded data removed]",
      "text/plain": [
       "<Figure size 1080x1080 with 1 Axes>"
      ]
     },
     "metadata": {
      "needs_background": "light"
     },
     "output_type": "display_data"
    }
   ],
   "source": [
    "q2rangetoplot = np.linspace(0,23,70)\n",
    "ffstoplot = ffs_from_input_q2(inputq2[0],inputq2[1])\n",
    "inputffs = np.append(ffstoplot[0][1],ffstoplot[1][1])\n",
    "plt.scatter(ffstoplot[0][0],ffstoplot[0][1],color = \"blue\")\n",
    "plt.scatter(ffstoplot[1][0],ffstoplot[1][1],color = \"orange\")\n",
    "for i in range(np.shape(coarray)[1]):\n",
    "    #plt.plot(q2rangetoplot, [zfunction(q2,coarray[:nzero,i],0) for q2 in q2rangetoplot],color = \"blue\",alpha=0.005)\n",
    "    #plt.plot(q2rangetoplot, [zfunction(q2,coarray[nzero:nzero+nplus,i],1) for q2 in q2rangetoplot],color = \"orange\",alpha=0.005)\n",
    "    plt.plot(q2rangetoplot,[sorted_ffarray[0,q2,sigmabelow] for q2 in range(len(q2rangetoplot))],color = \"blue\")\n",
    "    plt.plot(q2rangetoplot,[sorted_ffarray[0,q2,sigmaabove] for q2 in range(len(q2rangetoplot))],color = \"blue\")\n",
    "    plt.plot(q2rangetoplot,[sorted_ffarray[1,q2,sigmabelow] for q2 in range(len(q2rangetoplot))],color = \"orange\")\n",
    "    plt.plot(q2rangetoplot,[sorted_ffarray[1,q2,sigmaabove] for q2 in range(len(q2rangetoplot))],color = \"orange\")"
   ]
  },
  {
   "cell_type": "code",
   "execution_count": null,
   "metadata": {},
   "outputs": [],
   "source": []
  },
  {
   "cell_type": "code",
   "execution_count": 42,
   "metadata": {},
   "outputs": [],
   "source": [
    "q2rangetoplot = np.linspace(0,23,70)\n",
    "ffarray_alt = np.zeros((2,len(q2rangetoplot),np.shape(coarray_alt)[1]))\n",
    "for i,q2 in enumerate(q2rangetoplot):\n",
    "    for j in range(np.shape(coarray_alt)[1]):\n",
    "        ffarray_alt[0,i,j] = zfunction(q2,coarray_alt[:nzero,j],0,\"altfit\")\n",
    "        ffarray_alt[1,i,j] = zfunction(q2,coarray_alt[nzero:nzero+nplus,j],1,\"altfit\")\n",
    "sigmabelow_alt = round(np.shape(coarray_alt)[1] * (1-0.6827)/2)\n",
    "sigmaabove_alt = round(np.shape(coarray_alt)[1] * (1+0.6827)/2)\n",
    "sorted_ffarray_alt = np.sort(ffarray_alt,2)"
   ]
  },
  {
   "cell_type": "code",
   "execution_count": 43,
   "metadata": {},
   "outputs": [
    {
     "data": {
      "image/png": "[encoded data removed]",
      "text/plain": [
       "<Figure size 720x720 with 1 Axes>"
      ]
     },
     "metadata": {
      "needs_background": "light"
     },
     "output_type": "display_data"
    }
   ],
   "source": [
    "coeff_squared = np.zeros((np.shape(coarray)[1]))\n",
    "coeff_alt_squared = np.zeros((np.shape(coarray_alt)[1]))\n",
    "\n",
    "for i in range(np.shape(coarray)[1]):\n",
    "    coeff_squared[i] = np.sum([coarray[j,i]**2 for j in range(np.shape(coarray)[0])])\n",
    "for i in range(np.shape(coarray)[1]):\n",
    "    coeff_alt_squared[i] = np.sum([coarray_alt[j,i]**2 for j in range(np.shape(coarray_alt)[0])])\n",
    "plt.rcParams[\"figure.figsize\"] = (10,10)\n",
    "plt.hist(coeff_squared,alpha=0.5,label = \"traditional z-fit\")\n",
    "plt.hist(coeff_alt_squared,alpha=0.5,label = \"alternative z-fit\")\n",
    "plt.xlabel(\"Sum of coefficients squared\")\n",
    "plt.ylabel(\"Frequency\")\n",
    "plt.legend()\n",
    "plt.show()"
   ]
  },
  {
   "cell_type": "code",
   "execution_count": 48,
   "metadata": {},
   "outputs": [
    {
     "data": {
      "text/plain": [
       "array([ 0.07400722, -0.27959158,  0.27230031,  0.01919256, -0.0568278 ])"
      ]
     },
     "execution_count": 48,
     "metadata": {},
     "output_type": "execute_result"
    }
   ],
   "source": [
    "np.mean(coarray,axis=1)"
   ]
  },
  {
   "cell_type": "code",
   "execution_count": 44,
   "metadata": {},
   "outputs": [
    {
     "data": {
      "image/png": "[encoded data removed]",
      "text/plain": [
       "<Figure size 1440x1440 with 1 Axes>"
      ]
     },
     "metadata": {
      "needs_background": "light"
     },
     "output_type": "display_data"
    }
   ],
   "source": [
    "plt.rcParams[\"figure.figsize\"] = (20,20)\n",
    "q2rangetoplot = np.linspace(0,23,70)\n",
    "ffstoplot = ffs_from_input_q2(inputq2[0],inputq2[1])\n",
    "inputffs = np.append(ffstoplot[0][1],ffstoplot[1][1])\n",
    "plt.scatter(ffstoplot[0][0],ffstoplot[0][1],color = \"blue\")\n",
    "plt.scatter(ffstoplot[1][0],ffstoplot[1][1],color = \"orange\")\n",
    "plt.xlabel(\"$q^2 (GeV^2)$\")\n",
    "plt.ylabel(\"Form factor\")\n",
    "for i in range(np.shape(coarray_alt)[1]):\n",
    "    #plt.plot(q2rangetoplot, [zfunction(q2,coarray[:nzero,i],0) for q2 in q2rangetoplot],color = \"blue\",alpha=0.005)\n",
    "    #plt.plot(q2rangetoplot, [zfunction(q2,coarray[nzero:nzero+nplus,i],1) for q2 in q2rangetoplot],color = \"orange\",alpha=0.005)\n",
    "    plt.plot(q2rangetoplot,[sorted_ffarray_alt[0,q2,sigmabelow_alt] for q2 in range(len(q2rangetoplot))],color = \"blue\",label = \"alt fit\")\n",
    "    plt.plot(q2rangetoplot,[sorted_ffarray_alt[0,q2,sigmaabove_alt] for q2 in range(len(q2rangetoplot))],color = \"blue\")\n",
    "    plt.plot(q2rangetoplot,[sorted_ffarray_alt[1,q2,sigmabelow_alt] for q2 in range(len(q2rangetoplot))],color = \"orange\",label = \"alt fit\")\n",
    "    plt.plot(q2rangetoplot,[sorted_ffarray_alt[1,q2,sigmaabove_alt] for q2 in range(len(q2rangetoplot))],color = \"orange\")\n",
    "for i in range(np.shape(coarray)[1]):\n",
    "    #plt.plot(q2rangetoplot, [zfunction(q2,coarray[:nzero,i],0) for q2 in q2rangetoplot],color = \"blue\",alpha=0.005)\n",
    "    #plt.plot(q2rangetoplot, [zfunction(q2,coarray[nzero:nzero+nplus,i],1) for q2 in q2rangetoplot],color = \"orange\",alpha=0.005)\n",
    "    plt.plot(q2rangetoplot,[sorted_ffarray[0,q2,sigmabelow] for q2 in range(len(q2rangetoplot))],color = \"green\",label = \"z fit\")\n",
    "    plt.plot(q2rangetoplot,[sorted_ffarray[0,q2,sigmaabove] for q2 in range(len(q2rangetoplot))],color = \"green\")\n",
    "    plt.plot(q2rangetoplot,[sorted_ffarray[1,q2,sigmabelow] for q2 in range(len(q2rangetoplot))],color = \"red\",label = \"z fit\")\n",
    "    plt.plot(q2rangetoplot,[sorted_ffarray[1,q2,sigmaabove] for q2 in range(len(q2rangetoplot))],color = \"red\")\n",
    "#plt.legend()\n",
    "plt.show()"
   ]
  },
  {
   "cell_type": "code",
   "execution_count": 45,
   "metadata": {},
   "outputs": [
    {
     "data": {
      "image/png": "[encoded data removed]",
      "text/plain": [
       "<Figure size 1440x720 with 1 Axes>"
      ]
     },
     "metadata": {
      "needs_background": "light"
     },
     "output_type": "display_data"
    }
   ],
   "source": [
    "plt.rcParams[\"figure.figsize\"] = (20,10)\n",
    "q2rangetoplot = np.linspace(0,23,70)\n",
    "ffstoplot = ffs_from_input_q2(inputq2[0],inputq2[1])\n",
    "inputffs = np.append(ffstoplot[0][1],ffstoplot[1][1])\n",
    "plt.xlabel(\"$q^2 (GeV^2)$\")\n",
    "#plt.ylabel(\"Form factor\")\n",
    "for i in range(np.shape(coarray_alt)[1]):\n",
    "    #plt.plot(q2rangetoplot, [zfunction(q2,coarray[:nzero,i],0) for q2 in q2rangetoplot],color = \"blue\",alpha=0.005)\n",
    "    #plt.plot(q2rangetoplot, [zfunction(q2,coarray[nzero:nzero+nplus,i],1) for q2 in q2rangetoplot],color = \"orange\",alpha=0.005)\n",
    "    plt.plot(q2rangetoplot,[abs((sorted_ffarray_alt[0,q2,sigmabelow_alt]-sorted_ffarray_alt[0,q2,sigmaabove_alt])/(sorted_ffarray[0,q2,sigmabelow]-sorted_ffarray[0,q2,sigmaabove])) for q2 in range(len(q2rangetoplot))],color = \"blue\",label = \"alt fit\")\n",
    "    plt.plot(q2rangetoplot,[abs((sorted_ffarray_alt[1,q2,sigmabelow_alt]-sorted_ffarray_alt[1,q2,sigmaabove_alt])/(sorted_ffarray[1,q2,sigmabelow]-sorted_ffarray[1,q2,sigmaabove])) for q2 in range(len(q2rangetoplot))],color = \"red\",label = \"alt fit\")\n",
    "plt.show()"
   ]
  },
  {
   "cell_type": "code",
   "execution_count": 46,
   "metadata": {},
   "outputs": [
    {
     "name": "stdout",
     "output_type": "stream",
     "text": [
      "coeff_squared =  [0.56804927 0.45228976 0.2919012  0.28161557 0.08596698 0.09050149\n",
      " 0.0858996  0.17141868 0.12364113 0.25069535 0.28265256 0.17777758\n",
      " 0.18990296 0.32969283 0.07249337 0.21538467 0.33162114 0.15178756\n",
      " 0.08135461 0.12989739 0.07951395 0.34652431 0.07672812 0.15621685\n",
      " 0.43645275 0.06942821 0.25106141 0.17299436 0.07867016 0.06974623\n",
      " 0.38867044 0.20673244 0.41237419 0.38487942 0.09240696 0.15715481\n",
      " 0.20844227 0.337616   0.19850145 0.08314853 0.34455369 0.11482835\n",
      " 0.08888114 0.0987892  0.10940403 0.31257826 0.24495743 0.16656267\n",
      " 0.18899911 0.16016933 0.18130343 0.36008106 0.1124692  0.08150194\n",
      " 0.13231916 0.69599223 0.10117064 0.29674729 0.35049276 0.3627433\n",
      " 0.12347183 0.07882352 0.07937443 0.38115364 0.48120017 0.12925402\n",
      " 0.1618573  0.38315486 0.16761815 0.16038687 0.20408596 0.34255992\n",
      " 0.12098366 0.14958298 0.30239363 0.20801751 0.08635136 0.10930844\n",
      " 0.1335307  0.14604356 0.25668563 0.14822362 0.10608412 0.342354\n",
      " 0.11026123 0.2392113  0.22487158 0.0999855  0.20620708 0.32191552\n",
      " 0.08306441 0.09894182 0.09884029 0.11349963 0.19438344 0.11634779\n",
      " 0.10951772 0.07270442 0.07878323 0.24113205 0.07394877 0.10385741\n",
      " 0.1900614  0.24343069 0.21730299 0.27289108 0.39341178 0.16348663\n",
      " 0.19525256 0.26633457 0.06965097 0.19380644 0.22682381 0.08648193\n",
      " 0.08353609 0.12341502 0.08587171 0.0979008  0.07341729 0.13441153\n",
      " 0.07465795 0.15558511 0.14945382 0.6395228  0.32434026 0.2060995\n",
      " 0.23484031 0.16004952 0.14722298 0.57463136 0.22295194 0.16381782\n",
      " 0.07816299 0.14014427 0.46420486 0.15581329 0.14213219 0.18130174\n",
      " 0.09858831 0.12528144 0.09330313 0.12013554 0.56300402 0.2181374\n",
      " 0.29304895 0.24794128 0.12118731 0.08610797 0.10379566 0.35074167\n",
      " 0.07425979 0.41031039 0.08090395 0.38937068 0.27344023 0.19196025\n",
      " 0.1981655  0.20313493 0.18689462 0.06936142 0.06914702 0.17411723\n",
      " 0.17610686 0.06989843 0.2910987  0.07085638 0.17913051 0.21209234\n",
      " 0.07029805 0.08670558 0.27180806 0.16627308 0.36099899 0.13320141\n",
      " 0.15143949 0.07369199 0.24934922 0.21498666 0.28408469 0.4428196\n",
      " 0.63184086 0.12609768 0.34681288 0.07443362 0.24653089 0.12365784\n",
      " 0.10814265 0.21171157 0.1924317  0.09207226 0.82102658 0.07661891\n",
      " 0.20612106 0.10157769 0.20103352 0.15019372 0.0688173  0.35170162\n",
      " 0.17311615 0.28305988]\n",
      "coeff_alt_squared =  [0.02457555 0.09947908 0.07482548 0.11799797 0.03086838 0.11158006\n",
      " 0.09492189 0.1051879  0.03357422 0.10991842 0.10286111 0.11222719\n",
      " 0.09217596 0.02496361 0.02384316 0.03021715 0.10295602 0.02622249\n",
      " 0.10546392 0.05949424 0.05290575 0.1091138  0.02671148 0.02220741\n",
      " 0.07798273 0.0828907  0.02552745 0.09929708 0.02699372 0.03243096\n",
      " 0.02252922 0.02515493 0.07255801 0.11063897 0.11777555 0.02646301\n",
      " 0.02690494 0.0275854  0.11392854 0.0623393  0.03074767 0.02315466\n",
      " 0.1138531  0.10957413 0.03225114 0.20198984 0.09546738 0.03757175\n",
      " 0.0998443  0.10121011 0.11710318 0.13833615 0.13053744 0.27734413\n",
      " 0.03128305 0.04720198 0.10121144 0.02969682 0.10038019 0.09578827\n",
      " 0.03440369 0.11099474 0.09957288 0.06179705 0.08741955 0.09099399\n",
      " 0.02485391 0.07088512 0.06845028 0.11889484 0.0483529  0.11292684\n",
      " 0.10829462 0.02581878 0.11341651 0.03726776 0.03279676 0.02560635\n",
      " 0.04363108 0.11320888 0.04510665 0.02217907 0.02698816 0.0247252\n",
      " 0.05170155 0.11355971 0.10329933 0.02857746 0.02400248 0.19700864\n",
      " 0.11016456 0.04022514 0.0268007  0.04056722 0.02768182 0.02674443\n",
      " 0.05833624 0.03660003 0.07716486 0.09772366 0.06647445 0.04123038\n",
      " 0.02576639 0.0982959  0.02568641 0.12292931 0.05562505 0.1105665\n",
      " 0.02687536 0.11065056 0.02379627 0.04265806 0.02633835 0.11382641\n",
      " 0.02544899 0.07638333 0.10219021 0.11171096 0.11810531 0.11128568\n",
      " 0.07883691 0.07818573 0.0991592  0.02631127 0.10970232 0.02729786\n",
      " 0.05113341 0.12257843 0.0247317  0.11115016 0.06362836 0.02282255\n",
      " 0.0916635  0.07124175 0.03519332 0.02638617 0.02351975 0.02599184\n",
      " 0.07420701 0.02946653 0.02526475 0.09257359 0.10694915 0.02304739\n",
      " 0.02403531 0.10754037 0.02681243 0.08550031 0.0318201  0.02359381\n",
      " 0.10743184 0.05389454 0.0681303  0.24726644 0.06431272 0.11717247\n",
      " 0.09646982 0.03193675 0.10861754 0.02825802 0.0253275  0.02583119\n",
      " 0.02681546 0.10704775 0.10152217 0.02547698 0.02916534 0.10636678\n",
      " 0.10449511 0.1168712  0.03117214 0.11878779 0.10923179 0.02448615\n",
      " 0.11522176 0.02880668 0.11512787 0.02371128 0.02215569 0.06824133\n",
      " 0.15139314 0.11022184 0.02515296 0.11537243 0.10730306 0.02742839\n",
      " 0.10411392 0.10051773 0.02755362 0.02632675 0.02745972 0.2032822\n",
      " 0.02458728 0.03189276 0.02658815 0.026541   0.02326237 0.02624776\n",
      " 0.07639012 0.11598051]\n"
     ]
    },
    {
     "ename": "IndexError",
     "evalue": "invalid index to scalar variable.",
     "output_type": "error",
     "traceback": [
      "\u001b[1;31m---------------------------------------------------------------------------\u001b[0m",
      "\u001b[1;31mIndexError\u001b[0m                                Traceback (most recent call last)",
      "\u001b[1;32m<ipython-input-46-dedf43a8288b>\u001b[0m in \u001b[0;36m<module>\u001b[1;34m\u001b[0m\n\u001b[0;32m      3\u001b[0m \u001b[0mprint\u001b[0m\u001b[1;33m(\u001b[0m\u001b[1;34m\"coeff_alt_squared = \"\u001b[0m\u001b[1;33m,\u001b[0m\u001b[0mcoeff_alt_squared\u001b[0m\u001b[1;33m)\u001b[0m\u001b[1;33m\u001b[0m\u001b[1;33m\u001b[0m\u001b[0m\n\u001b[0;32m      4\u001b[0m \u001b[1;33m\u001b[0m\u001b[0m\n\u001b[1;32m----> 5\u001b[1;33m \u001b[0mprint\u001b[0m\u001b[1;33m(\u001b[0m\u001b[1;34m\"z^2 term is \"\u001b[0m\u001b[1;33m,\u001b[0m\u001b[0mf2_norm\u001b[0m\u001b[1;33m*\u001b[0m\u001b[0mcoeff_alt_squared\u001b[0m\u001b[1;33m[\u001b[0m\u001b[1;36m0\u001b[0m\u001b[1;33m]\u001b[0m\u001b[1;33m[\u001b[0m\u001b[1;36m2\u001b[0m\u001b[1;33m]\u001b[0m\u001b[1;33m)\u001b[0m\u001b[1;33m\u001b[0m\u001b[1;33m\u001b[0m\u001b[0m\n\u001b[0m\u001b[0;32m      6\u001b[0m \u001b[0mprint\u001b[0m\u001b[1;33m(\u001b[0m\u001b[1;34m\"z term is \"\u001b[0m\u001b[1;33m,\u001b[0m\u001b[0mf2_norm\u001b[0m\u001b[1;33m*\u001b[0m\u001b[0mcoeff_alt_squared\u001b[0m\u001b[1;33m[\u001b[0m\u001b[1;36m0\u001b[0m\u001b[1;33m]\u001b[0m\u001b[1;33m[\u001b[0m\u001b[1;36m2\u001b[0m\u001b[1;33m]\u001b[0m\u001b[1;33m*\u001b[0m\u001b[0mf2_b\u001b[0m \u001b[1;33m+\u001b[0m \u001b[0mf1_norm\u001b[0m\u001b[1;33m*\u001b[0m\u001b[0mcoeff_alt_squared\u001b[0m\u001b[1;33m[\u001b[0m\u001b[1;36m0\u001b[0m\u001b[1;33m]\u001b[0m\u001b[1;33m[\u001b[0m\u001b[1;36m1\u001b[0m\u001b[1;33m]\u001b[0m\u001b[1;33m)\u001b[0m\u001b[1;33m\u001b[0m\u001b[1;33m\u001b[0m\u001b[0m\n\u001b[0;32m      7\u001b[0m \u001b[0mprint\u001b[0m\u001b[1;33m(\u001b[0m\u001b[1;34m\"constant term is \"\u001b[0m\u001b[1;33m,\u001b[0m\u001b[0mf0_norm\u001b[0m\u001b[1;33m*\u001b[0m\u001b[0mcoeff_alt_squared\u001b[0m\u001b[1;33m[\u001b[0m\u001b[1;36m0\u001b[0m\u001b[1;33m]\u001b[0m\u001b[1;33m[\u001b[0m\u001b[1;36m0\u001b[0m\u001b[1;33m]\u001b[0m \u001b[1;33m+\u001b[0m \u001b[0mf1_norm\u001b[0m\u001b[1;33m*\u001b[0m\u001b[0mcoeff_alt_squared\u001b[0m\u001b[1;33m[\u001b[0m\u001b[1;36m0\u001b[0m\u001b[1;33m]\u001b[0m\u001b[1;33m[\u001b[0m\u001b[1;36m1\u001b[0m\u001b[1;33m]\u001b[0m\u001b[1;33m*\u001b[0m\u001b[1;33m(\u001b[0m\u001b[1;33m-\u001b[0m\u001b[1;33m(\u001b[0m\u001b[0msin_alpha\u001b[0m\u001b[1;33m)\u001b[0m\u001b[1;33m/\u001b[0m\u001b[0malpha\u001b[0m\u001b[1;33m)\u001b[0m \u001b[1;33m+\u001b[0m \u001b[0mf2_norm\u001b[0m\u001b[1;33m*\u001b[0m\u001b[0mcoeff_alt_squared\u001b[0m\u001b[1;33m[\u001b[0m\u001b[1;36m0\u001b[0m\u001b[1;33m]\u001b[0m\u001b[1;33m[\u001b[0m\u001b[1;36m2\u001b[0m\u001b[1;33m]\u001b[0m\u001b[1;33m*\u001b[0m\u001b[0mf2_c\u001b[0m\u001b[1;33m)\u001b[0m\u001b[1;33m\u001b[0m\u001b[1;33m\u001b[0m\u001b[0m\n",
      "\u001b[1;31mIndexError\u001b[0m: invalid index to scalar variable."
     ]
    }
   ],
   "source": [
    "print(\"coeff_squared = \",coeff_squared)\n",
    "\n",
    "print(\"coeff_alt_squared = \",coeff_alt_squared)\n",
    "\n",
    "print(\"z^2 term is \",f2_norm*coeff_alt_squared[0][2])\n",
    "print(\"z term is \",f2_norm*coeff_alt_squared[0][2]*f2_b + f1_norm*coeff_alt_squared[0][1])\n",
    "print(\"constant term is \",f0_norm*coeff_alt_squared[0][0] + f1_norm*coeff_alt_squared[0][1]*(-(sin_alpha)/alpha) + f2_norm*coeff_alt_squared[0][2]*f2_c)\n"
   ]
  },
  {
   "cell_type": "code",
   "execution_count": null,
   "metadata": {},
   "outputs": [],
   "source": []
  },
  {
   "cell_type": "code",
   "execution_count": null,
   "metadata": {},
   "outputs": [],
   "source": []
  },
  {
   "cell_type": "code",
   "execution_count": null,
   "metadata": {},
   "outputs": [],
   "source": []
  }
 ],
 "metadata": {
  "kernelspec": {
   "display_name": "Python 3 (ipykernel)",
   "language": "python",
   "name": "python3"
  },
  "language_info": {
   "codemirror_mode": {
    "name": "ipython",
    "version": 3
   },
   "file_extension": ".py",
   "mimetype": "text/x-python",
   "name": "python",
   "nbconvert_exporter": "python",
   "pygments_lexer": "ipython3",
   "version": "3.9.12"
  }
 },
 "nbformat": 4,
 "nbformat_minor": 4
}
