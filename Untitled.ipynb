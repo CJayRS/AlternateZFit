{
 "cells": [
  {
   "cell_type": "code",
   "execution_count": 1,
   "metadata": {},
   "outputs": [],
   "source": [
    "from multiprocessing import Pool\n",
    "import os\n",
    "import numpy\n",
    "\n",
    "\n",
    "def f(x):\n",
    "    numpy.random.rand(100000000)\n",
    "    print(f\"x^2 = {x ** 2}\")\n",
    "\n",
    "    return x ** 2\n",
    "\n",
    "\n",
    "N = 100\n",
    "x_s = numpy.linspace(1, 10, N)\n",
    "\n",
    "\n",
    "def single_threaded():\n",
    "    answers = numpy.zeros(N)\n",
    "    for index, x in enumerate(x_s):\n",
    "        answers[index] = f(x)\n",
    "\n",
    "\n",
    "def multi_threaded():\n",
    "    p = Pool(os.cpu_count())\n",
    "    answers = p.map(f, x_s)\n",
    "\n",
    "\n",
    "def func_with_lots_of_args(x, y, z, t, u, v):\n",
    "    return x\n",
    "\n",
    "\n",
    "def func_with_one_arg(x):\n",
    "    y = 5\n",
    "    z = 10\n",
    "    t = 40\n",
    "    u = 2\n",
    "    v = 10\n",
    "    func_with_lots_of_args(x, y, z, t, u, v)"
   ]
  },
  {
   "cell_type": "code",
   "execution_count": null,
   "metadata": {},
   "outputs": [],
   "source": [
    "multi_threaded()"
   ]
  },
  {
   "cell_type": "code",
   "execution_count": null,
   "metadata": {},
   "outputs": [],
   "source": []
  }
 ],
 "metadata": {
  "kernelspec": {
   "display_name": "Python 3",
   "language": "python",
   "name": "python3"
  },
  "language_info": {
   "codemirror_mode": {
    "name": "ipython",
    "version": 3
   },
   "file_extension": ".py",
   "mimetype": "text/x-python",
   "name": "python",
   "nbconvert_exporter": "python",
   "pygments_lexer": "ipython3",
   "version": "3.8.5"
  }
 },
 "nbformat": 4,
 "nbformat_minor": 4
}
