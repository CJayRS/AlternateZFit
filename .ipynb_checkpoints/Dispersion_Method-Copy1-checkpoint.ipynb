{
 "cells": [
  {
   "cell_type": "code",
   "execution_count": 3,
   "metadata": {},
   "outputs": [],
   "source": [
    "import numpy as np\n",
    "import matplotlib.pyplot as plt\n",
    "import scipy as sp\n",
    "import seaborn as sns\n",
    "import math\n",
    "from tqdm import tqdm"
   ]
  },
  {
   "cell_type": "code",
   "execution_count": 4,
   "metadata": {},
   "outputs": [],
   "source": [
    "data = np.array([[1.3461, 1.102, 0.911],\n",
    "[1.6154, 1.208, 0.944],\n",
    "[1.8846, 1.336, 0.979]]) #rome form factor data, plus = 1, zero = 2"
   ]
  },
  {
   "cell_type": "code",
   "execution_count": 5,
   "metadata": {},
   "outputs": [],
   "source": [
    "chi0plus = 0.0043\n",
    "chi1minus = 0.00419"
   ]
  },
  {
   "cell_type": "code",
   "execution_count": 6,
   "metadata": {},
   "outputs": [],
   "source": [
    "zerosum = (1.86484-0.497611)**2 #D0 and K0"
   ]
  },
  {
   "cell_type": "code",
   "execution_count": 7,
   "metadata": {},
   "outputs": [],
   "source": [
    "plusminussum = (1.86966-0.493677)**2 #D+- and K+-"
   ]
  },
  {
   "cell_type": "code",
   "execution_count": 8,
   "metadata": {},
   "outputs": [
    {
     "data": {
      "text/plain": [
       "1.8813221773650004"
      ]
     },
     "execution_count": 8,
     "metadata": {},
     "output_type": "execute_result"
    }
   ],
   "source": [
    "0.5*(zerosum+plusminussum)"
   ]
  },
  {
   "cell_type": "code",
   "execution_count": 9,
   "metadata": {},
   "outputs": [
    {
     "data": {
      "text/plain": [
       "1.8813030192360003"
      ]
     },
     "execution_count": 9,
     "metadata": {},
     "output_type": "execute_result"
    }
   ],
   "source": [
    "MD = 0.5*(1.86484+1.86966)\n",
    "MK = 0.5*(0.497611+0.493677)\n",
    "(MD-MK)**2 #?????????????? where does their 1.8846 come from?"
   ]
  },
  {
   "cell_type": "code",
   "execution_count": 10,
   "metadata": {},
   "outputs": [],
   "source": [
    "tminus = (MD-MK)**2\n",
    "tplus = (MD+MK)**2"
   ]
  },
  {
   "cell_type": "code",
   "execution_count": 11,
   "metadata": {},
   "outputs": [],
   "source": [
    "def z(t):\n",
    "    return (np.sqrt(tplus-t)-np.sqrt(tplus-tminus))/(np.sqrt(tplus-t)+np.sqrt(tplus-tminus))"
   ]
  },
  {
   "cell_type": "code",
   "execution_count": 12,
   "metadata": {},
   "outputs": [],
   "source": [
    "def rho(t):\n",
    "    return np.sqrt((tplus-t)/(tplus-tminus))"
   ]
  },
  {
   "cell_type": "code",
   "execution_count": 13,
   "metadata": {},
   "outputs": [],
   "source": [
    "ni = 3/2"
   ]
  },
  {
   "cell_type": "code",
   "execution_count": 14,
   "metadata": {},
   "outputs": [],
   "source": [
    "def phizero(t):  #outer fn and Blanschke factors\n",
    "    polevals = [2.3178]\n",
    "    calcz = z(t)\n",
    "    calcrho = rho(t)\n",
    "    phizeroval = np.sqrt(2*ni/3)*np.sqrt((3*tplus*tminus)/(4*np.pi))*1/(tplus-tminus)*(1+calcz)*np.power(1-calcz,-5/2)*np.power(rho(0)+(1+calcz)/(1-calcz),-2)*np.power(rho(0)+(1+calcz)/(1-calcz),-2)\n",
    "    for i in range(len(polevals)):\n",
    "        phizeroval *= (z(t)-z(polevals[i]))/(1-np.conjugate(z(polevals[i]))*z(t))\n",
    "    return phizeroval "
   ]
  },
  {
   "cell_type": "code",
   "execution_count": 15,
   "metadata": {},
   "outputs": [],
   "source": [
    "def phiplus(t):  #outer fn and Blanschke factors\n",
    "    polevals = [2.1122]\n",
    "    calcz = z(t)\n",
    "    calcrho = rho(t)\n",
    "    phiplusval = np.sqrt(2*ni/3)*np.sqrt(1/(np.pi*(tplus-tminus)))*np.power(1+calcz,2)*np.power(1-calcz,-9/2)*np.power(rho(0)+(1+calcz)/(1-calcz),-2)*np.power(rho(0)+(1+calcz)/(1-calcz),-3)\n",
    "    for i in range(len(polevals)):\n",
    "        phiplusval *= (z(t)-z(polevals[i]))/(1-np.conjugate(z(polevals[i]))*z(t))\n",
    "    return phiplusval"
   ]
  },
  {
   "cell_type": "code",
   "execution_count": 16,
   "metadata": {},
   "outputs": [],
   "source": [
    "def exclude(G,a,b):\n",
    "    return np.delete(np.delete(G,b,0),a,1)"
   ]
  },
  {
   "cell_type": "code",
   "execution_count": 17,
   "metadata": {},
   "outputs": [],
   "source": [
    "#2105.02497 pg 48-50"
   ]
  },
  {
   "cell_type": "code",
   "execution_count": 18,
   "metadata": {},
   "outputs": [],
   "source": [
    "def alpha(data,charge):\n",
    "    if charge == 1:\n",
    "        index = 1\n",
    "    elif charge == 0:\n",
    "        index = 2\n",
    "    alphamat = np.empty([data.shape[0],data.shape[0]])\n",
    "\n",
    "    for i in range(data.shape[0]):\n",
    "        for j in range(data.shape[0]):\n",
    "            alphamat[i,j] = 1/(1-z(data[i,0])*z(data[j,0]))\n",
    "    return np.linalg.det(alphamat)"
   ]
  },
  {
   "cell_type": "code",
   "execution_count": 19,
   "metadata": {},
   "outputs": [
    {
     "data": {
      "text/plain": [
       "9.602811891613558e-11"
      ]
     },
     "execution_count": 19,
     "metadata": {},
     "output_type": "execute_result"
    }
   ],
   "source": [
    "alpha(data,1)"
   ]
  },
  {
   "cell_type": "code",
   "execution_count": 20,
   "metadata": {},
   "outputs": [],
   "source": [
    "def G(data,t):\n",
    "    row = [t]\n",
    "    row.extend(data[:,0])\n",
    "    mat = np.empty([data.shape[0]+1,data.shape[0]+1])\n",
    "\n",
    "    for i in range(len(row)):\n",
    "        for j in range(len(row)):\n",
    "            mat[i,j] = 1/(1-z(row[i])*z(row[j]))\n",
    "    return mat"
   ]
  },
  {
   "cell_type": "code",
   "execution_count": 21,
   "metadata": {},
   "outputs": [],
   "source": [
    "def beta(data, t, charge):\n",
    "    if charge == 1:\n",
    "        index = 1\n",
    "        phi = phiplus\n",
    "    elif charge == 0:\n",
    "        index = 2\n",
    "        phi = phizero\n",
    "    ssum = 0\n",
    "    for j in range(1,data.shape[0]+1):\n",
    "        ssum += ((-1)**j)*phi(data[j-1,0])*data[j-1,index]*np.linalg.det(exclude(G(data,t),0,j))\n",
    "    return ssum"
   ]
  },
  {
   "cell_type": "code",
   "execution_count": 22,
   "metadata": {},
   "outputs": [],
   "source": [
    "def gamma(data, t,charge):\n",
    "    if charge == 1:\n",
    "        index = 1\n",
    "        phi = phiplus\n",
    "        chi = chi1minus\n",
    "    elif charge == 0:\n",
    "        index = 2\n",
    "        phi = phizero\n",
    "        chi = chi0plus\n",
    "    ssum = chi*np.linalg.det(G(data,t))\n",
    "    for i in range(1,data.shape[0]+1):\n",
    "        for j in range(1,data.shape[0]+1):\n",
    "            ssum -= np.power(-1,j+i)*phi(data[i-1,0])*data[i-1,index]*phi(data[j-1,0])*data[j-1,index]*np.linalg.det(exclude(G(data,t),i,j))\n",
    "    return ssum"
   ]
  },
  {
   "cell_type": "code",
   "execution_count": 23,
   "metadata": {},
   "outputs": [],
   "source": [
    "def formfactor(data, t,charge):\n",
    "    if charge == 1:\n",
    "        phi = phiplus\n",
    "    elif charge == 0:\n",
    "        phi = phizero\n",
    "    calcalpha = alpha(data,charge)\n",
    "    calcbeta = beta(data,t,charge)\n",
    "    calcgamma = gamma(data,t,charge)\n",
    "    lowerbound = (-calcbeta-np.sqrt(calcbeta**2 + calcalpha*calcgamma))/(calcalpha*phi(t))\n",
    "    upperbound = (-calcbeta+np.sqrt(calcbeta**2 + calcalpha*calcgamma))/(calcalpha*phi(t))\n",
    "    return [lowerbound,upperbound]"
   ]
  },
  {
   "cell_type": "code",
   "execution_count": 24,
   "metadata": {},
   "outputs": [
    {
     "data": {
      "text/plain": [
       "array([[1.3461, 1.102 , 0.911 ],\n",
       "       [1.6154, 1.208 , 0.944 ],\n",
       "       [1.8846, 1.336 , 0.979 ]])"
      ]
     },
     "execution_count": 24,
     "metadata": {},
     "output_type": "execute_result"
    }
   ],
   "source": [
    "data"
   ]
  },
  {
   "cell_type": "code",
   "execution_count": 25,
   "metadata": {},
   "outputs": [
    {
     "name": "stderr",
     "output_type": "stream",
     "text": [
      "<ipython-input-23-e5733fb0f235>:9: RuntimeWarning: invalid value encountered in sqrt\n",
      "  lowerbound = (-calcbeta-np.sqrt(calcbeta**2 + calcalpha*calcgamma))/(calcalpha*phi(t))\n",
      "<ipython-input-23-e5733fb0f235>:10: RuntimeWarning: invalid value encountered in sqrt\n",
      "  upperbound = (-calcbeta+np.sqrt(calcbeta**2 + calcalpha*calcgamma))/(calcalpha*phi(t))\n"
     ]
    },
    {
     "data": {
      "image/png": "[encoded data removed]",
      "text/plain": [
       "<Figure size 432x288 with 1 Axes>"
      ]
     },
     "metadata": {
      "needs_background": "light"
     },
     "output_type": "display_data"
    }
   ],
   "source": [
    "x = np.linspace(0,2,101)\n",
    "plt.plot(x,[formfactor(data,i,1) for i in x],label = r\"$f_+$\")\n",
    "plt.plot(x,[formfactor(data,i,0) for i in x],label = r\"$f_0$\")\n",
    "plt.scatter(data[:,0],data[:,1])\n",
    "plt.scatter(data[:,0],data[:,2])\n",
    "\n",
    "romevals = np.array([[0.0, 0.765, 0.765, 0.772, 0.772],\n",
    "[0.2692, 0.815, 0.792, 0.822, 0.800],\n",
    "[0.5385, 0.872, 0.820, 0.878, 0.826],\n",
    "[0.8077, 0.937, 0.849, 0.942, 0.853],\n",
    "[1.0769, 1.013, 0.879, 1.015, 0.882]])\n",
    "plt.scatter(romevals[:,0],romevals[:,3])\n",
    "plt.scatter(romevals[:,0],romevals[:,4])\n",
    "plt.xlabel(r\"$t \\.\\.(GeV^2)$\")\n",
    "plt.ylabel(\"Form factor\")\n",
    "plt.legend()\n",
    "plt.show()"
   ]
  },
  {
   "cell_type": "code",
   "execution_count": 26,
   "metadata": {},
   "outputs": [],
   "source": [
    "##### Uncertainty #######"
   ]
  },
  {
   "cell_type": "code",
   "execution_count": 27,
   "metadata": {},
   "outputs": [],
   "source": [
    "def M11(data,charge):\n",
    "    if charge == 1:\n",
    "        index = 1\n",
    "        phi = phiplus\n",
    "        chi = chi1minus\n",
    "    elif charge == 0:\n",
    "        index = 2\n",
    "        phi = phizero\n",
    "        chi = chi0plus\n",
    "    mat = np.empty([data.shape[0]+1,data.shape[0]+1])\n",
    "    mat[0,0] = chi\n",
    "    for i in range(1,data.shape[0]+1):\n",
    "        mat[i,0] = phi(data[i-1,0])*data[i-1,index]\n",
    "        mat[0,i] = phi(data[i-1,0])*data[i-1,index]\n",
    "        for j in range(1,data.shape[0]+1):\n",
    "            mat[i,j] = G(data,0)[i,j]\n",
    "    return mat"
   ]
  },
  {
   "cell_type": "code",
   "execution_count": 28,
   "metadata": {},
   "outputs": [],
   "source": [
    "# Normal distribution sampling\n",
    "SDarray = np.array([\n",
    "[0.038, 0.019],\n",
    "[0.044, 0.019],\n",
    "[0.054, 0.019]])"
   ]
  },
  {
   "cell_type": "code",
   "execution_count": 29,
   "metadata": {},
   "outputs": [],
   "source": [
    "covmatrix = np.array([[0.00095048337, 0.00086115559, 0.00076822929, 0.00067139737, 0.00057032189, 0.00046461266, 0.00035382373, 0.00023743786, 0.00093372326, 0.00091131333, 0.00088169768, 0.00084279034, 0.00079172189, 0.00072447152, 0.00063523124],  \n",
    "[0.00086115559, 0.00078515556, 0.00070607957, 0.00062368504, 0.00053767967, 0.00044773144, 0.00035346098, 0.00025442805, 0.00085206316, 0.00083894582, 0.00082066442, 0.00079568390, 0.00076188560, 0.00071629634, 0.00065461116],  \n",
    "[0.00076822929, 0.00070607957, 0.00064142818, 0.00057404882, 0.00050372187, 0.00043017086, 0.00035308565, 0.00027210610, 0.00076710907, 0.00076365966, 0.00075717032, 0.00074667912, 0.00073084851, 0.00070779522, 0.00067477803],  \n",
    "[0.00067139737, 0.00062368504, 0.00057404882, 0.00052233064, 0.00046833577, 0.00041187082, 0.00035269283, 0.00029052511, 0.00067858404, 0.00068520846, 0.00069100626, 0.00069561272, 0.00069850419, 0.00069893308, 0.00069578757],  \n",
    "[0.00057032189, 0.00053767967, 0.00050372187, 0.00046833577, 0.00043140396, 0.00039276887, 0.00035228288, 0.00030975141, 0.00058617957, 0.00060331939, 0.00062194289, 0.00064230877, 0.00066474294, 0.00068968328, 0.00071771878],  \n",
    "[0.00046461266, 0.00044773144, 0.00043017086, 0.00041187082, 0.00039276887, 0.00037279630, 0.00035185424, 0.00032985927, 0.00048953884, 0.00051767609, 0.00054971326, 0.00058656101, 0.00062943376, 0.00068000920, 0.00074065513],  \n",
    "[0.00035382373, 0.00035346098, 0.00035308565, 0.00035269283, 0.00035228288, 0.00035185424, 0.00035141065, 0.00035093414, 0.00038825440, 0.00042791779, 0.00047401349, 0.00052813546, 0.00059242935, 0.00066987229, 0.00076469633],  \n",
    "[0.00023743786, 0.00025442805, 0.00027210610, 0.00029052511, 0.00030975141, 0.00032985927, 0.00035093414, 0.00037307838, 0.00028185308, 0.00033362480, 0.00039448913, 0.00046675785, 0.00055355489, 0.00065922240, 0.00078995092],  \n",
    "[0.00093372326, 0.00085206316, 0.00076710907, 0.00067858404, 0.00058617957, 0.00048953884, 0.00038825440, 0.00028185308, 0.00093183118, 0.00092700129, 0.00091836176, 0.00090470689, 0.00088436880, 0.00085499959, 0.00081318331],  \n",
    "[0.00091131333, 0.00083894582, 0.00076365966, 0.00068520846, 0.00060331939, 0.00051767609, 0.00042791779, 0.00033362480, 0.00092700129, 0.00094300108, 0.00095919909, 0.00097546032, 0.00099153820, 0.00100707070, 0.00102148152],  \n",
    "[0.00088169768, 0.00082066442, 0.00075717032, 0.00069100626, 0.00062194289, 0.00054971326, 0.00047401349, 0.00039448913, 0.00091836176, 0.00095919909, 0.00100505872, 0.00105703236, 0.00111659949, 0.00118576848, 0.00126735992],  \n",
    "[0.00084279034, 0.00079568390, 0.00074667912, 0.00069561272, 0.00064230877, 0.00058656101, 0.00052813546, 0.00046675785, 0.00090470689, 0.00097546032, 0.00105703236, 0.00115205144, 0.00126402614, 0.00139785199, 0.00156044486],  \n",
    "[0.00079172189, 0.00076188560, 0.00073084851, 0.00069850419, 0.00066474294, 0.00062943376, 0.00059242935, 0.00055355489, 0.00088436880, 0.00099153820, 0.00111659949, 0.00126402614, 0.00143985862, 0.00165246003, 0.00191376844],  \n",
    "[0.00072447152, 0.00071629634, 0.00070779522, 0.00069893308, 0.00068968328, 0.00068000920, 0.00066987229, 0.00065922240, 0.00085499959, 0.00100707070, 0.00118576848, 0.00139785199, 0.00165246003, 0.00196229709, 0.00234545168],  \n",
    "[0.00063523124, 0.00065461116, 0.00067477803, 0.00069578757, 0.00071771878, 0.00074065513, 0.00076469633, 0.00078995092, 0.00081318331, 0.00102148152, 0.00126735992, 0.00156044486, 0.00191376844, 0.00234545168, 0.00288135740]])"
   ]
  },
  {
   "cell_type": "code",
   "execution_count": 30,
   "metadata": {},
   "outputs": [],
   "source": [
    "def resample(data):\n",
    "    resample = data.copy()\n",
    "    for i in range(1,data.shape[1]):\n",
    "        for j in range(data.shape[0]):\n",
    "            resample[j,i] = np.random.normal(data[j,i],SDarray[j,i-1])\n",
    "    return resample"
   ]
  },
  {
   "cell_type": "code",
   "execution_count": 31,
   "metadata": {},
   "outputs": [
    {
     "data": {
      "text/plain": [
       "array([[0.0003728 , 0.00035185, 0.00032986, 0.00062943, 0.00068001,\n",
       "        0.00074066],\n",
       "       [0.00035185, 0.00035141, 0.00035093, 0.00059243, 0.00066987,\n",
       "        0.0007647 ],\n",
       "       [0.00032986, 0.00035093, 0.00037308, 0.00055355, 0.00065922,\n",
       "        0.00078995],\n",
       "       [0.00062943, 0.00059243, 0.00055355, 0.00143986, 0.00165246,\n",
       "        0.00191377],\n",
       "       [0.00068001, 0.00066987, 0.00065922, 0.00165246, 0.0019623 ,\n",
       "        0.00234545],\n",
       "       [0.00074066, 0.0007647 , 0.00078995, 0.00191377, 0.00234545,\n",
       "        0.00288136]])"
      ]
     },
     "execution_count": 31,
     "metadata": {},
     "output_type": "execute_result"
    }
   ],
   "source": [
    "excludelist = [0,1,2,3,4,8,9,10,11]\n",
    "\n",
    "trimmedcov = np.delete(covmatrix,excludelist,axis=0)\n",
    "trimmedcov = np.delete(trimmedcov,excludelist,axis=1)\n",
    "trimmedcov"
   ]
  },
  {
   "cell_type": "code",
   "execution_count": 32,
   "metadata": {},
   "outputs": [],
   "source": [
    "def covresample(data):\n",
    "    vectordata = np.hstack([data[:,2],data[:,1]])\n",
    "    excludelist = [0,1,2,3,4,8,9,10,11]\n",
    "    trimmedcov = np.delete(covmatrix,excludelist,axis=0)\n",
    "    trimmedcov = np.delete(trimmedcov,excludelist,axis=1)\n",
    "    resampledvectordata = np.random.multivariate_normal(vectordata,trimmedcov)\n",
    "    resampleddata = np.array([data[:,0],resampledvectordata[3:6],resampledvectordata[0:3]])\n",
    "    return np.transpose(resampleddata)"
   ]
  },
  {
   "cell_type": "code",
   "execution_count": 46,
   "metadata": {},
   "outputs": [],
   "source": [
    "def dispmethod(chg,tchosen,Nboot):\n",
    "    N0 = 10\n",
    "    fbaruplist = []\n",
    "    fbarlolist = []\n",
    "\n",
    "    for y in range(Nboot):\n",
    "        newdata = covresample(data)\n",
    "\n",
    "        plusbounds = formfactor(newdata,0,1)\n",
    "        zerobounds = formfactor(newdata,0,0)\n",
    "        upper = min(plusbounds[1],zerobounds[1])\n",
    "        lower = max(plusbounds[0],zerobounds[0])\n",
    "        if upper <= lower:\n",
    "            continue\n",
    "        if np.linalg.det(M11(newdata,1)) < 0:\n",
    "            continue\n",
    "        if np.linalg.det(M11(newdata,0)) < 0:\n",
    "            continue\n",
    "        #valatzero = 0\n",
    "        fbarup = 0\n",
    "        fbarlo = np.Inf\n",
    "        #print(newdata)\n",
    "        for k in range(N0):\n",
    "            originval = np.random.uniform(lower,upper)\n",
    "            extendednewdata = np.vstack([newdata,[0,originval,originval]])\n",
    "            tchosenbounds = formfactor(extendednewdata,tchosen,chg)\n",
    "            fbarup = max(tchosenbounds[1],fbarup)\n",
    "            fbarlo = min(tchosenbounds[0],fbarlo)\n",
    "            #valatzero = originval\n",
    "        fbaruplist.append(fbarup)\n",
    "        fbarlolist.append(fbarlo)\n",
    "    return [fbarlolist,fbaruplist]"
   ]
  },
  {
   "cell_type": "code",
   "execution_count": 61,
   "metadata": {},
   "outputs": [
    {
     "data": {
      "image/png": "[encoded data removed]",
      "text/plain": [
       "<Figure size 432x288 with 1 Axes>"
      ]
     },
     "metadata": {
      "needs_background": "light"
     },
     "output_type": "display_data"
    }
   ],
   "source": [
    "histogramcheck = dispmethod(0,0.4,500)\n",
    "plt.hist(histogramcheck[0])\n",
    "plt.hist(histogramcheck[1])\n",
    "plt.show()"
   ]
  },
  {
   "cell_type": "code",
   "execution_count": 62,
   "metadata": {},
   "outputs": [
    {
     "data": {
      "image/png": "[encoded data removed]",
      "text/plain": [
       "<Figure size 432x288 with 1 Axes>"
      ]
     },
     "metadata": {
      "needs_background": "light"
     },
     "output_type": "display_data"
    }
   ],
   "source": [
    "plt.hist(histogramcheck[0],25)\n",
    "#plt.xlim(0.7,0.9)\n",
    "plt.show()"
   ]
  },
  {
   "cell_type": "code",
   "execution_count": 63,
   "metadata": {},
   "outputs": [
    {
     "data": {
      "image/png": "[encoded data removed]",
      "text/plain": [
       "<Figure size 432x288 with 1 Axes>"
      ]
     },
     "metadata": {
      "needs_background": "light"
     },
     "output_type": "display_data"
    }
   ],
   "source": [
    "plt.hist(histogramcheck[1],25)\n",
    "#plt.xlim(0.7,0.9)\n",
    "plt.show()"
   ]
  },
  {
   "cell_type": "code",
   "execution_count": 64,
   "metadata": {},
   "outputs": [
    {
     "data": {
      "text/plain": [
       "0.8037577757364375"
      ]
     },
     "execution_count": 64,
     "metadata": {},
     "output_type": "execute_result"
    }
   ],
   "source": [
    "np.nanmean(histogramcheck[0])"
   ]
  },
  {
   "cell_type": "code",
   "execution_count": 65,
   "metadata": {},
   "outputs": [
    {
     "data": {
      "text/plain": [
       "0.8102878272132468"
      ]
     },
     "execution_count": 65,
     "metadata": {},
     "output_type": "execute_result"
    }
   ],
   "source": [
    "np.nanmean(histogramcheck[1])"
   ]
  },
  {
   "cell_type": "code",
   "execution_count": 66,
   "metadata": {},
   "outputs": [],
   "source": [
    "tchosenlist = np.linspace(0.01,1.8,50)#[0.01,0.2692,0.5384,0.8077,1.0769,1.4,1.65,1.8]"
   ]
  },
  {
   "cell_type": "code",
   "execution_count": 67,
   "metadata": {},
   "outputs": [
    {
     "name": "stderr",
     "output_type": "stream",
     "text": [
      "  2%|▏         | 1/50 [00:33<27:38, 33.84s/it]<ipython-input-23-e5733fb0f235>:9: RuntimeWarning: invalid value encountered in sqrt\n",
      "  lowerbound = (-calcbeta-np.sqrt(calcbeta**2 + calcalpha*calcgamma))/(calcalpha*phi(t))\n",
      "<ipython-input-23-e5733fb0f235>:10: RuntimeWarning: invalid value encountered in sqrt\n",
      "  upperbound = (-calcbeta+np.sqrt(calcbeta**2 + calcalpha*calcgamma))/(calcalpha*phi(t))\n",
      "<ipython-input-67-01a61d307498>:7: RuntimeWarning: Mean of empty slice\n",
      "  averageffplus = 0.5*(np.nanmean(result[0])+np.nanmean(result[1]))\n",
      "<ipython-input-67-01a61d307498>:8: RuntimeWarning: Mean of empty slice\n",
      "  deltaplus = result-np.nanmean(result)\n",
      "<ipython-input-67-01a61d307498>:12: RuntimeWarning: Mean of empty slice\n",
      "  varplus = (np.nanmean(result[0])-np.nanmean(result[1]))/12 + (varpluslo+varplusup+rhoplus*np.sqrt(varpluslo)*np.sqrt(varplusup))/3\n",
      "100%|██████████| 50/50 [31:08<00:00, 37.38s/it]\n"
     ]
    }
   ],
   "source": [
    "Nboot = 250\n",
    "dispresultsplus = np.empty([len(tchosenlist),4])\n",
    "counter = 0\n",
    "for tchosen in tqdm(tchosenlist):\n",
    "    result = dispmethod(1,tchosen,Nboot)\n",
    "    dispresultsplus[counter,0] = tchosen\n",
    "    averageffplus = 0.5*(np.nanmean(result[0])+np.nanmean(result[1]))\n",
    "    deltaplus = result-np.nanmean(result)\n",
    "    varpluslo = np.sum(deltaplus[0]**2)/(len(result[0])-1)\n",
    "    varplusup = np.sum(deltaplus[1]**2)/(len(result[0])-1)\n",
    "    rhoplus = np.sum(deltaplus[0]*deltaplus[1])/(len(result[0])-1)\n",
    "    varplus = (np.nanmean(result[0])-np.nanmean(result[1]))/12 + (varpluslo+varplusup+rhoplus*np.sqrt(varpluslo)*np.sqrt(varplusup))/3\n",
    "    dispresultsplus[counter,1] = averageffplus\n",
    "    dispresultsplus[counter,2] = averageffplus-varplus\n",
    "    dispresultsplus[counter,3] = averageffplus+varplus                                             \n",
    "    counter += 1"
   ]
  },
  {
   "cell_type": "code",
   "execution_count": 68,
   "metadata": {},
   "outputs": [
    {
     "name": "stderr",
     "output_type": "stream",
     "text": [
      "  2%|▏         | 1/50 [00:35<29:08, 35.68s/it]<ipython-input-23-e5733fb0f235>:9: RuntimeWarning: invalid value encountered in sqrt\n",
      "  lowerbound = (-calcbeta-np.sqrt(calcbeta**2 + calcalpha*calcgamma))/(calcalpha*phi(t))\n",
      "<ipython-input-23-e5733fb0f235>:10: RuntimeWarning: invalid value encountered in sqrt\n",
      "  upperbound = (-calcbeta+np.sqrt(calcbeta**2 + calcalpha*calcgamma))/(calcalpha*phi(t))\n",
      "<ipython-input-68-1f04726c8f8b>:6: RuntimeWarning: Mean of empty slice\n",
      "  averageffzero = 0.5*(np.nanmean(result[0])+np.nanmean(result[1]))\n",
      "<ipython-input-68-1f04726c8f8b>:7: RuntimeWarning: Mean of empty slice\n",
      "  deltazero = result-np.nanmean(result)\n",
      "<ipython-input-68-1f04726c8f8b>:11: RuntimeWarning: Mean of empty slice\n",
      "  varzero = (np.nanmean(result[0])-np.nanmean(result[1]))/12 + (varzerolo+varzeroup+rhozero*np.sqrt(varzerolo)*np.sqrt(varzeroup))/3\n",
      "100%|██████████| 50/50 [24:53<00:00, 29.88s/it]\n"
     ]
    }
   ],
   "source": [
    "dispresultszero = np.empty([len(tchosenlist),4])\n",
    "counter = 0\n",
    "for tchosen in tqdm(tchosenlist):\n",
    "    result = dispmethod(0,tchosen,Nboot)\n",
    "    dispresultszero[counter,0] = tchosen\n",
    "    averageffzero = 0.5*(np.nanmean(result[0])+np.nanmean(result[1]))\n",
    "    deltazero = result-np.nanmean(result)\n",
    "    varzerolo = np.sum(deltazero[0]**2)/(len(result[0])-1)\n",
    "    varzeroup = np.sum(deltazero[1]**2)/(len(result[0])-1)\n",
    "    rhozero = np.sum(deltazero[0]*deltazero[1])/(len(result[0])-1)\n",
    "    varzero = (np.nanmean(result[0])-np.nanmean(result[1]))/12 + (varzerolo+varzeroup+rhozero*np.sqrt(varzerolo)*np.sqrt(varzeroup))/3\n",
    "    dispresultszero[counter,1] = averageffzero\n",
    "    dispresultszero[counter,2] = averageffzero-varzero\n",
    "    dispresultszero[counter,3] = averageffzero+varzero                                             \n",
    "    counter += 1"
   ]
  },
  {
   "cell_type": "code",
   "execution_count": 69,
   "metadata": {},
   "outputs": [
    {
     "data": {
      "text/plain": [
       "array([[0.01      , 0.77016839, 0.77054118, 0.7697956 ],\n",
       "       [0.04653061,        nan,        nan,        nan],\n",
       "       [0.08306122, 0.78927016,        nan,        nan],\n",
       "       [0.11959184,        nan,        nan,        nan],\n",
       "       [0.15612245, 0.7839996 , 0.78425285, 0.78374636],\n",
       "       [0.19265306,        nan,        nan,        nan],\n",
       "       [0.22918367, 0.78915423, 0.78937402, 0.78893445],\n",
       "       [0.26571429, 0.79393624, 0.79417849, 0.793694  ],\n",
       "       [0.3022449 , 0.7964205 , 0.79658299, 0.79625801],\n",
       "       [0.33877551, 0.80209549, 0.80222029, 0.80197069],\n",
       "       [0.37530612, 0.80928535, 0.80928849, 0.80928221],\n",
       "       [0.41183673, 0.8054327 , 0.805532  , 0.8053334 ],\n",
       "       [0.44836735, 0.81549573, 0.8155761 , 0.81541535],\n",
       "       [0.48489796, 0.816836  , 0.81680568, 0.81686632],\n",
       "       [0.52142857, 0.82065323, 0.82065363, 0.82065284],\n",
       "       [0.55795918,        nan,        nan,        nan],\n",
       "       [0.5944898 ,        nan,        nan,        nan],\n",
       "       [0.63102041,        nan,        nan,        nan],\n",
       "       [0.66755102, 0.83507156, 0.83494709, 0.83519602],\n",
       "       [0.70408163, 0.8392135 , 0.83911069, 0.83931631],\n",
       "       [0.74061224, 0.84112467, 0.84104921, 0.84120013],\n",
       "       [0.77714286, 0.84556144, 0.8455264 , 0.84559649],\n",
       "       [0.81367347, 0.85203881,        nan,        nan],\n",
       "       [0.85020408, 0.85776111,        nan,        nan],\n",
       "       [0.88673469, 0.85881802, 0.85863029, 0.85900575],\n",
       "       [0.92326531,        nan,        nan,        nan],\n",
       "       [0.95979592,        nan,        nan,        nan],\n",
       "       [0.99632653,        nan,        nan,        nan],\n",
       "       [1.03285714,        nan,        nan,        nan],\n",
       "       [1.06938776,        nan,        nan,        nan],\n",
       "       [1.10591837,        nan,        nan,        nan],\n",
       "       [1.14244898,        nan,        nan,        nan],\n",
       "       [1.17897959,        nan,        nan,        nan],\n",
       "       [1.2155102 , 0.89899006,        nan,        nan],\n",
       "       [1.25204082,        nan,        nan,        nan],\n",
       "       [1.28857143,        nan,        nan,        nan],\n",
       "       [1.32510204,        nan,        nan,        nan],\n",
       "       [1.36163265,        nan,        nan,        nan],\n",
       "       [1.39816327,        nan,        nan,        nan],\n",
       "       [1.43469388,        nan,        nan,        nan],\n",
       "       [1.47122449,        nan,        nan,        nan],\n",
       "       [1.5077551 ,        nan,        nan,        nan],\n",
       "       [1.54428571,        nan,        nan,        nan],\n",
       "       [1.58081633,        nan,        nan,        nan],\n",
       "       [1.61734694,        nan,        nan,        nan],\n",
       "       [1.65387755,        nan,        nan,        nan],\n",
       "       [1.69040816,        nan,        nan,        nan],\n",
       "       [1.72693878,        nan,        nan,        nan],\n",
       "       [1.76346939,        nan,        nan,        nan],\n",
       "       [1.8       ,        nan,        nan,        nan]])"
      ]
     },
     "execution_count": 69,
     "metadata": {},
     "output_type": "execute_result"
    }
   ],
   "source": [
    "dispresultszero"
   ]
  },
  {
   "cell_type": "code",
   "execution_count": 70,
   "metadata": {},
   "outputs": [
    {
     "data": {
      "text/plain": [
       "array([[0.01      , 0.77270672, 0.7730366 , 0.77237684],\n",
       "       [0.04653061,        nan,        nan,        nan],\n",
       "       [0.08306122, 0.7829169 ,        nan,        nan],\n",
       "       [0.11959184, 0.77452331,        nan,        nan],\n",
       "       [0.15612245, 0.79220983, 0.79247158, 0.79194808],\n",
       "       [0.19265306, 0.80870431,        nan,        nan],\n",
       "       [0.22918367, 0.80683775, 0.80696738, 0.80670813],\n",
       "       [0.26571429, 0.81330397, 0.8133508 , 0.81325714],\n",
       "       [0.3022449 , 0.82418112, 0.82423576, 0.82412648],\n",
       "       [0.33877551, 0.82910191, 0.82913057, 0.82907324],\n",
       "       [0.37530612, 0.83484695, 0.83484178, 0.83485211],\n",
       "       [0.41183673, 0.84566419, 0.84561324, 0.84571513],\n",
       "       [0.44836735, 0.8516957 , 0.85176528, 0.85162612],\n",
       "       [0.48489796, 0.85911555, 0.8591403 , 0.85909081],\n",
       "       [0.52142857, 0.8668517 , 0.8668223 , 0.86688111],\n",
       "       [0.55795918, 0.87541407,        nan,        nan],\n",
       "       [0.5944898 , 0.87960526,        nan,        nan],\n",
       "       [0.63102041, 0.89402098,        nan,        nan],\n",
       "       [0.66755102, 0.90498661, 0.90475237, 0.90522085],\n",
       "       [0.70408163, 0.91237673, 0.91214059, 0.91261286],\n",
       "       [0.74061224, 0.92059243, 0.92029314, 0.92089172],\n",
       "       [0.77714286, 0.93133565, 0.93098478, 0.93168653],\n",
       "       [0.81367347, 0.93785196,        nan,        nan],\n",
       "       [0.85020408, 0.94673657,        nan,        nan],\n",
       "       [0.88673469, 0.95551947, 0.9549906 , 0.95604834],\n",
       "       [0.92326531, 0.95961687,        nan,        nan],\n",
       "       [0.95979592, 0.97578756,        nan,        nan],\n",
       "       [0.99632653, 0.97379464,        nan,        nan],\n",
       "       [1.03285714, 0.99175029,        nan,        nan],\n",
       "       [1.06938776, 0.99402459,        nan,        nan],\n",
       "       [1.10591837, 1.00786262,        nan,        nan],\n",
       "       [1.14244898,        nan,        nan,        nan],\n",
       "       [1.17897959,        nan,        nan,        nan],\n",
       "       [1.2155102 , 1.05582085, 1.05525991, 1.05638179],\n",
       "       [1.25204082,        nan,        nan,        nan],\n",
       "       [1.28857143,        nan,        nan,        nan],\n",
       "       [1.32510204,        nan,        nan,        nan],\n",
       "       [1.36163265,        nan,        nan,        nan],\n",
       "       [1.39816327,        nan,        nan,        nan],\n",
       "       [1.43469388,        nan,        nan,        nan],\n",
       "       [1.47122449,        nan,        nan,        nan],\n",
       "       [1.5077551 ,        nan,        nan,        nan],\n",
       "       [1.54428571,        nan,        nan,        nan],\n",
       "       [1.58081633,        nan,        nan,        nan],\n",
       "       [1.61734694,        nan,        nan,        nan],\n",
       "       [1.65387755,        nan,        nan,        nan],\n",
       "       [1.69040816,        nan,        nan,        nan],\n",
       "       [1.72693878,        nan,        nan,        nan],\n",
       "       [1.76346939,        nan,        nan,        nan],\n",
       "       [1.8       ,        nan,        nan,        nan]])"
      ]
     },
     "execution_count": 70,
     "metadata": {},
     "output_type": "execute_result"
    }
   ],
   "source": [
    "dispresultsplus"
   ]
  },
  {
   "cell_type": "code",
   "execution_count": 72,
   "metadata": {},
   "outputs": [
    {
     "data": {
      "image/png": "[encoded data removed]",
      "text/plain": [
       "<Figure size 1440x1440 with 1 Axes>"
      ]
     },
     "metadata": {
      "needs_background": "light"
     },
     "output_type": "display_data"
    }
   ],
   "source": [
    "#x = np.linspace(0,2,101)\n",
    "#plt.scatter(data[:,0],data[:,1])\n",
    "#plt.scatter(data[:,0],data[:,2])\n",
    "plt.plot(dispresultszero[:,0],dispresultszero[:,1],label = r\"$f_0$\")\n",
    "plt.plot(dispresultszero[:,0],dispresultszero[:,2],label = r\"$f_0$ Lower bound\")\n",
    "plt.plot(dispresultszero[:,0],dispresultszero[:,3],label = r\"$f_0$ Upper bound\")\n",
    "plt.plot(dispresultsplus[:,0],dispresultsplus[:,1],label = r\"$f_+$\")\n",
    "plt.plot(dispresultsplus[:,0],dispresultsplus[:,2],label = r\"$f_+$ Lower bound\")\n",
    "plt.plot(dispresultsplus[:,0],dispresultsplus[:,3],label = r\"$f_+$ Upper bound\")\n",
    "romevals = np.array([[0.0, 0.765, 0.765, 0.772, 0.772],\n",
    "[0.2692, 0.815, 0.792, 0.822, 0.800],\n",
    "[0.5385, 0.872, 0.820, 0.878, 0.826],\n",
    "[0.8077, 0.937, 0.849, 0.942, 0.853],\n",
    "[1.0769, 1.013, 0.879, 1.015, 0.882]])\n",
    "plt.scatter(romevals[:,0],romevals[:,3])\n",
    "plt.scatter(romevals[:,0],romevals[:,4])\n",
    "#plt.xlim(0,1.1)\n",
    "#plt.ylim(0.75,1.1)\n",
    "plt.xlabel(r\"$t \\.\\. (GeV^2)$\")\n",
    "plt.ylabel(\"Form factor\")\n",
    "plt.legend()\n",
    "plt.rcParams[\"figure.figsize\"] = (20,20)\n",
    "plt.show()"
   ]
  },
  {
   "cell_type": "code",
   "execution_count": 64,
   "metadata": {},
   "outputs": [
    {
     "name": "stderr",
     "output_type": "stream",
     "text": [
      "100%|██████████| 30/30 [00:01<00:00, 23.15it/s]\n",
      "100%|██████████| 30/30 [00:01<00:00, 21.89it/s]\n"
     ]
    },
    {
     "data": {
      "text/plain": [
       "array([[-0.04427661, -0.0264026 ,  0.01626801, -0.04240028, -0.02905197,\n",
       "         0.01252953, -0.0141311 ,  0.00404525,  0.01512522,  0.00787697,\n",
       "        -0.02127245,  0.00837186, -0.04469639, -0.02643869, -0.01198807,\n",
       "        -0.00777814, -0.0009834 ,  0.02387929, -0.00960966, -0.01731058,\n",
       "        -0.01999976, -0.00848247,  0.04461311,  0.00436373, -0.01874912,\n",
       "         0.0459364 , -0.02536673, -0.00554253],\n",
       "       [-0.041392  , -0.01319577,  0.02203378, -0.04180161, -0.02535262,\n",
       "         0.01668078, -0.01253045,  0.00950302,  0.0183468 ,  0.01004552,\n",
       "        -0.01200458,  0.01844968, -0.04111067, -0.02526482, -0.01010631,\n",
       "        -0.00586591,  0.00918891,  0.0296049 , -0.00166646, -0.01278557,\n",
       "        -0.01490511, -0.00695078,  0.05189681,  0.0107684 , -0.01331127,\n",
       "         0.0515588 , -0.0246029 ,  0.00023959]])"
      ]
     },
     "execution_count": 64,
     "metadata": {},
     "output_type": "execute_result"
    }
   ],
   "source": [
    "dispmethod(0,0.4,30)-np.nanmean(dispmethod(0,0.4,30))"
   ]
  },
  {
   "cell_type": "code",
   "execution_count": null,
   "metadata": {},
   "outputs": [],
   "source": []
  }
 ],
 "metadata": {
  "kernelspec": {
   "display_name": "Python 3",
   "language": "python",
   "name": "python3"
  },
  "language_info": {
   "codemirror_mode": {
    "name": "ipython",
    "version": 3
   },
   "file_extension": ".py",
   "mimetype": "text/x-python",
   "name": "python",
   "nbconvert_exporter": "python",
   "pygments_lexer": "ipython3",
   "version": "3.8.5"
  }
 },
 "nbformat": 4,
 "nbformat_minor": 4
}
