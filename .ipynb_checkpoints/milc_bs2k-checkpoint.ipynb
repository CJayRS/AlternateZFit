{
 "cells": [
  {
   "cell_type": "code",
   "execution_count": 1,
   "metadata": {},
   "outputs": [],
   "source": [
    "#### Sampling form factors from Milc paper results ~~~ https://journals.aps.org/prd/pdf/10.1103/PhysRevD.100.034501"
   ]
  },
  {
   "cell_type": "code",
   "execution_count": 1,
   "metadata": {},
   "outputs": [],
   "source": [
    "import numpy as np"
   ]
  },
  {
   "cell_type": "code",
   "execution_count": 2,
   "metadata": {},
   "outputs": [],
   "source": [
    "milc_tcut = 5.414**2\n",
    "milc_t0 = 16.5\n",
    "milc_K = 4\n",
    "mBst1minus = 28.4\n",
    "mBst0plus = 32.3"
   ]
  },
  {
   "cell_type": "code",
   "execution_count": 3,
   "metadata": {},
   "outputs": [],
   "source": [
    "bkplusmean = [0.3623,-0.9559,-0.8525,0.2785]\n",
    "bkpluserr = [0.0178,0.1307,0.4783,0.6892]\n",
    "\n",
    "bkzeromean = [0.1981,-0.1661,-0.6430,-0.3754]\n",
    "bkzeroerr = [0.0101,0.1130,0.4385,0.4535]\n",
    "\n",
    "bkmean = np.array(bkplusmean+bkzeromean)\n",
    "bkerr = np.array(bkpluserr+bkzeroerr)\n",
    "\n",
    "bkcorrmat = np.array([[1.0000, 0.6023, 0.0326, -0.1288, 0.7122, 0.6035, 0.5659, 0.5516],\n",
    "[0.6023, 1.0000, 0.4735, 0.2677, 0.7518, 0.9086, 0.9009, 0.8903],\n",
    "[0.0326, 0.4735, 1.0000, 0.9187, 0.5833, 0.7367, 0.7340, 0.7005],\n",
    "[-0.1288, 0.2677, 0.9187, 1.0000, 0.4355, 0.5553, 0.5633, 0.5461],\n",
    "[0.7122, 0.7518, 0.5833, 0.4355, 1.0000, 0.8667, 0.7742, 0.7337],\n",
    "[0.6035, 0.9086, 0.7367, 0.5553, 0.8667, 1.0000, 0.9687, 0.9359],\n",
    "[0.5659, 0.9009, 0.7340, 0.5633, 0.7742, 0.9687, 1.0000, 0.9899],\n",
    "[0.5516, 0.8903, 0.7005, 0.5461, 0.7337, 0.9359, 0.9899, 1.0000]])\n",
    "\n",
    "bkcovmat = np.zeros((np.shape(bkcorrmat)))\n",
    "for i in range(np.shape(bkcorrmat)[0]):\n",
    "    for j in range(np.shape(bkcorrmat)[1]):\n",
    "        bkcovmat[i,j] = bkcorrmat[i,j]*bkerr[i]**0.5*bkerr[j]**0.5\n",
    "\n",
    "bkcovmat = np.array(bkcovmat)"
   ]
  },
  {
   "cell_type": "code",
   "execution_count": 4,
   "metadata": {},
   "outputs": [],
   "source": [
    "def z(q2):\n",
    "    tcutq2 = np.sqrt(milc_tcut-q2)\n",
    "    tcutt0 = np.sqrt(milc_tcut-milc_t0)\n",
    "    return (tcutq2-tcutt0)/(tcutq2+tcutt0)"
   ]
  },
  {
   "cell_type": "code",
   "execution_count": 5,
   "metadata": {},
   "outputs": [],
   "source": [
    "def q2_from_z(z):\n",
    "    return milc_tcut - (milc_tcut-milc_t0)*((1+z)/(1-z))**2 "
   ]
  },
  {
   "cell_type": "code",
   "execution_count": 70,
   "metadata": {},
   "outputs": [],
   "source": [
    "def fplus_from_q2(q2,bkplus):\n",
    "    prefactor = (1-q2/mBst1minus)**-1\n",
    "    ssum = 0\n",
    "    for k in range(milc_K):\n",
    "        ssum += bkplus[k]*(z(q2)**k - (-1)**(k-milc_K) * (k/milc_K) * z(q2)**milc_K)\n",
    "    return prefactor*ssum"
   ]
  },
  {
   "cell_type": "code",
   "execution_count": 71,
   "metadata": {},
   "outputs": [],
   "source": [
    "def fzero_from_q2(q2,bkzero):\n",
    "    prefactor = (1-q2/mBst0plus)**-1\n",
    "    ssum = 0\n",
    "    for k in range(milc_K):\n",
    "        ssum += bkzero[k]*(z(q2)**k)\n",
    "    return prefactor*ssum"
   ]
  },
  {
   "cell_type": "code",
   "execution_count": 72,
   "metadata": {},
   "outputs": [],
   "source": [
    "def resample_ff(list_of_q2,nboot):\n",
    "    bknew = np.random.multivariate_normal(bkmean,bkcovmat,size = nboot)\n",
    "    #print(np.shape(bknew))\n",
    "    bkplus = bknew[:,:milc_K]\n",
    "    bkzero = bknew[:,-milc_K:]\n",
    "    #print(np.shape(bkzero))\n",
    "    \n",
    "    ffzero = np.zeros((len(list_of_q2),nboot))\n",
    "    ffplus = np.zeros((len(list_of_q2),nboot))\n",
    "    \n",
    "    for index,q2 in enumerate(list_of_q2):\n",
    "        for boot in range(nboot):\n",
    "            #print(q2,bkplus[boot,:])\n",
    "            ffplus[index,boot] = fplus_from_q2(q2,bkplus[boot,:])\n",
    "            ffzero[index,boot] = fzero_from_q2(q2,bkzero[boot,:])\n",
    "    \n",
    "    return ffzero,ffplus"
   ]
  },
  {
   "cell_type": "code",
   "execution_count": 73,
   "metadata": {},
   "outputs": [
    {
     "data": {
      "text/plain": [
       "(array([[0.27481987],\n",
       "        [0.38547662]]),\n",
       " array([[0.88138886],\n",
       "        [1.28012867]]))"
      ]
     },
     "execution_count": 73,
     "metadata": {},
     "output_type": "execute_result"
    }
   ],
   "source": [
    "resample_ff([18,20],1)"
   ]
  },
  {
   "cell_type": "code",
   "execution_count": null,
   "metadata": {},
   "outputs": [],
   "source": []
  }
 ],
 "metadata": {
  "kernelspec": {
   "display_name": "Python 3",
   "language": "python",
   "name": "python3"
  },
  "language_info": {
   "codemirror_mode": {
    "name": "ipython",
    "version": 3
   },
   "file_extension": ".py",
   "mimetype": "text/x-python",
   "name": "python",
   "nbconvert_exporter": "python",
   "pygments_lexer": "ipython3",
   "version": "3.8.5"
  }
 },
 "nbformat": 4,
 "nbformat_minor": 4
}
