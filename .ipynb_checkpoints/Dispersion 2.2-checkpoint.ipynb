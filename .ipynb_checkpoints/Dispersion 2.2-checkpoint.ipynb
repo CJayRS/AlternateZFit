{
 "cells": [
  {
   "cell_type": "code",
   "execution_count": 206,
   "metadata": {},
   "outputs": [],
   "source": [
    "import numpy as np\n",
    "import matplotlib.pyplot as plt\n",
    "#import BstoK_ref_ff as BstoK\n",
    "import h5py as h5\n",
    "from tqdm import tqdm\n",
    "import masses\n",
    "from scipy.optimize import minimize_scalar\n",
    "from numba import jit,float64,int8\n",
    "\n"
   ]
  },
  {
   "cell_type": "code",
   "execution_count": 250,
   "metadata": {},
   "outputs": [],
   "source": [
    "datasetisrome = False\n",
    "\n",
    "plustlist = [6,14]\n",
    "zerotlist = [6,8,14]\n",
    "\n",
    "#[23.72835562, 21.15623588, 17.5]#np.array([23.7283556,22.11456,20.07895,17.5000000])#np.linspace(23.5,17.5,n)\n",
    "maxplott = 18 #max(max(plustlist),max(zerotlist))+1\n",
    "nplus = len(plustlist)\n",
    "nzero = len(zerotlist)\n",
    "\n",
    "def ff_E(Evec,pole,coeff):\n",
    "  # construct ff from HMChPT in continuum limit\n",
    "  return [1./(E+pole)*np.sum([E**i*coeff[i] for i in range(len(coeff))]) for E in Evec]\n",
    "def cov_ff_p0(Evec_p,Evec_0,C,Np,N0,pole_p,pole_0):\n",
    "  # construct covariance matrix for ff from HMChPT in continuum limit\n",
    "  Y_E_p_vec   \t= lambda E_p: np.r_[ np.array([1./(E_p+pole_p)*E_p**i for i in range(Np)])]\n",
    "  Y_E_0_vec   \t= lambda E_0: np.r_[ np.array([1./(E_0+pole_0)*E_0**i for i in range(N0)])]\n",
    "  Cpp\t\t= np.array([[np.dot(Y_E_p_vec(E1),np.dot(C[:Np,:Np],Y_E_p_vec(E2)))\n",
    "\t\t\t\t\tfor E1 in Evec_p] for E2 in Evec_p])\n",
    "  C00\t\t= np.array([[np.dot(Y_E_0_vec(E1),np.dot(C[Np:,Np:],Y_E_0_vec(E2)))\n",
    "\t\t\t\t\tfor E1 in Evec_0] for E2 in Evec_0])\n",
    "  Cp0\t\t= np.array([[np.dot(Y_E_p_vec(E1),np.dot(C[:Np:,Np:],Y_E_0_vec(E2)))\n",
    "\t\t\t\t\tfor E1 in Evec_p] for E2 in Evec_0])\n",
    "  M0\t\t= np.r_['-1',Cpp  ,Cp0.T]\n",
    "  M1\t\t= np.r_['-1',Cp0  ,C00  ]\n",
    "  M\t\t= np.r_[M0,M1]\n",
    "  return M\n",
    "\n",
    "# define kinematics\n",
    "mKphys\t\t= masses.mK\n",
    "mBsphys\t\t= masses.mBs\n",
    "#\n",
    "qsq_refK_plus\t= np.array(plustlist)#np.array([23.7283556,22.11456,20.07895,17.5000000]) # you can choose this freely np.array(np.linspace(23.5,17.5,7))\n",
    "qsq_refK_zero\t= np.array(zerotlist)#np.array([23.7283556,22.11456,20.07895,17.5000000]) # you can choose this freely np.array(np.linspace(23.5,17.5,7))\n",
    "\n",
    "#\n",
    "ksq_refK_plus \t= (mBsphys**4+(mKphys**2-qsq_refK_plus)**2-2*mBsphys**2*(mKphys**2+qsq_refK_plus))/(4*mBsphys**2)\n",
    "ksq_refK_zero \t= (mBsphys**4+(mKphys**2-qsq_refK_zero)**2-2*mBsphys**2*(mKphys**2+qsq_refK_zero))/(4*mBsphys**2)\n",
    "\n",
    "ErefK_plus \t \t= np.sqrt(mKphys**2+ksq_refK_plus)\n",
    "ErefK_zero \t \t= np.sqrt(mKphys**2+ksq_refK_zero)\n",
    "Deltapar\t= + 0.263\n",
    "Deltaperp\t= - 0.0416\n",
    "\n",
    "\n",
    "f=h5.File('BstoK_ref_ff_dat.hdf5','r')\n",
    "cp_BstoK=np.array(f.get('cp'))\n",
    "c0_BstoK=np.array(f.get('c0'))\n",
    "Cp0_BstoK=np.array(f.get('Cp0'))\n",
    "fp_BstoK \t= np.array(ff_E(ErefK_plus,Deltaperp,cp_BstoK))\n",
    "f0_BstoK \t= np.array(ff_E(ErefK_zero,Deltapar ,c0_BstoK))\n",
    "ff_ref\t\t= np.r_[ fp_BstoK, f0_BstoK]\n",
    "Cp0_ref \t= cov_ff_p0(ErefK_plus,ErefK_zero,Cp0_BstoK,2,3,Deltaperp,Deltapar)\n",
    "# some IO\n",
    "\n",
    "bskpts = np.r_[fp_BstoK,f0_BstoK]\n",
    "bskcov = np.array(Cp0_ref)\n",
    "\n",
    "\n",
    "chi0plus = 1.48e-02\n",
    "chi1minus = 6.03e-04\n",
    "chiplus = chi1minus\n",
    "chizero = chi0plus\n",
    "\n",
    "##### \"Rome data\" #####\n",
    "\n",
    "romedata = np.array([[1.3461, 1.102, 0.911],\n",
    "[1.6154, 1.208, 0.944],\n",
    "[1.8846, 1.336, 0.979]]) #rome form factor data, plus = 1, zero = 2\n",
    "\n",
    "romedataplus = np.array([[1.3461, 1.102],\n",
    "[1.6154, 1.208],\n",
    "[1.8846, 1.336]])\n",
    "\n",
    "romedatazero = np.array([[1.3461, 0.911],\n",
    "[1.6154, 0.944],\n",
    "[1.8846, 0.979]])\n",
    "\n",
    "\n",
    "######################################################################\n",
    "\n",
    "\n",
    "tstar = 29.349571\n",
    "t0 = 16.505107\n",
    "tplus = 34.368484\n",
    "tminus = 23.728356\n",
    "\n",
    "dataplus=np.transpose(np.array([plustlist,\n",
    "bskpts[0:nplus]]))\n",
    "\n",
    "datazero=np.transpose(np.array([zerotlist,\n",
    "bskpts[nplus:]]))\n",
    "\n",
    "totaldata = [datazero,dataplus]\n",
    "chizerovar = 0\n",
    "chiplusvar = 0\n",
    "eta = 1\n",
    "covmatrix = bskcov\n",
    "polevalszero = []\n",
    "polevalsplus = [5.324700**2]\n",
    "\n",
    "if datasetisrome:\n",
    "    maxplott = 2\n",
    "    datazero = romedatazero\n",
    "    dataplus = romedataplus\n",
    "    totaldata = [datazero,dataplus]\n",
    "    #chizerovar = 0.00133\n",
    "    #chiplusvar = 0.00036\n",
    "    tminus = 1.8846\n",
    "    tplus = 5.588946789081293\n",
    "    tstar = tplus\n",
    "    t0 = tminus\n",
    "    eta = 2\n",
    "    nplus=3\n",
    "    nzero=3\n",
    "    polevalszero = [2.3178**2]\n",
    "    polevalsplus = [2.1122**2]\n",
    "    covmatrix = np.array([[0.0003728 , 0.00035185, 0.00032986, 0.00062943, 0.00068001,\n",
    "        0.00074066],\n",
    "       [0.00035185, 0.00035141, 0.00035093, 0.00059243, 0.00066987,\n",
    "        0.0007647 ],\n",
    "       [0.00032986, 0.00035093, 0.00037308, 0.00055355, 0.00065922,\n",
    "        0.00078995],\n",
    "       [0.00062943, 0.00059243, 0.00055355, 0.00143986, 0.00165246,\n",
    "        0.00191377],\n",
    "       [0.00068001, 0.00066987, 0.00065922, 0.00165246, 0.0019623 ,\n",
    "        0.00234545],\n",
    "       [0.00074066, 0.0007647 , 0.00078995, 0.00191377, 0.00234545,\n",
    "        0.00288136]])\n",
    "    bskpts = []\n",
    "    for subdata in [dataplus,datazero]:\n",
    "        for counter in range(3):\n",
    "            bskpts.append(subdata[counter,1])"
   ]
  },
  {
   "cell_type": "code",
   "execution_count": 223,
   "metadata": {},
   "outputs": [],
   "source": [
    "def covresample(bskpts):\n",
    "    bskpts_resampled = np.random.multivariate_normal(bskpts,covmatrix)\n",
    "    dataplustlist = []\n",
    "    for i in range(len(dataplus)):\n",
    "        dataplustlist.append(dataplus[i][0])\n",
    "    \n",
    "    plus = np.array([dataplustlist,\n",
    "    bskpts_resampled[0:nplus]])\n",
    "    plus=np.transpose(plus)\n",
    "\n",
    "    datazerotlist = []\n",
    "    for i in range(len(datazero)):\n",
    "        datazerotlist.append(datazero[i][0])\n",
    "    zero = np.array([datazerotlist,\n",
    "    bskpts_resampled[nplus:]])\n",
    "    zero=np.transpose(zero)\n",
    "    return [zero,plus]"
   ]
  },
  {
   "cell_type": "code",
   "execution_count": 224,
   "metadata": {},
   "outputs": [],
   "source": [
    "def z(t):\n",
    "    return (np.sqrt(tstar-t)-np.sqrt(tstar - t0))/(np.sqrt(tstar-t)+np.sqrt(tstar - t0))"
   ]
  },
  {
   "cell_type": "code",
   "execution_count": 225,
   "metadata": {},
   "outputs": [],
   "source": [
    "def phiplus(t,chi = chiplus):\n",
    "    #chi = 1\n",
    "    K = 48*np.pi\n",
    "    a = 3\n",
    "    b = 2\n",
    "    rq = np.sqrt(tstar-t)\n",
    "    rminus = np.sqrt(tstar-tminus)\n",
    "    r0 = np.sqrt(tstar-t0)\n",
    "    val = np.sqrt(eta/(K*chi))*(rq**((a+1)/2))*r0**(-1/2)*(rq+r0)*((rq+np.sqrt(tstar))**(-b-3))*(rq+rminus)**(a/2)\n",
    "    for i in range(len(polevalsplus)):\n",
    "        val *= (z(t)-z(polevalsplus[i]))/(1-np.conjugate(z(polevalsplus[i]))*z(t))\n",
    "    return val"
   ]
  },
  {
   "cell_type": "code",
   "execution_count": 226,
   "metadata": {},
   "outputs": [],
   "source": [
    "def phizero(t,chi = chizero):\n",
    "    #chi = 1\n",
    "    K = 16*np.pi/(tplus*tminus)\n",
    "    a = 1\n",
    "    b = 1\n",
    "    rq = np.sqrt(tstar-t)\n",
    "    rminus = np.sqrt(tstar-tminus)\n",
    "    r0 = np.sqrt(tstar-t0)\n",
    "    val = np.sqrt(eta/(K*chi))*(rq**((a+1)/2))*r0**(-1/2)*(rq+r0)*((rq+np.sqrt(tstar))**(-b-3))*(rq+rminus)**(a/2)\n",
    "    for i in range(len(polevalszero)):\n",
    "        val *= (z(t)-z(polevalszero[i]))/(1-np.conjugate(z(polevalszero[i]))*z(t))\n",
    "    return val"
   ]
  },
  {
   "cell_type": "code",
   "execution_count": 227,
   "metadata": {},
   "outputs": [],
   "source": [
    "def exclude(G,a,b):\n",
    "    return np.delete(np.delete(G,b,0),a,1)"
   ]
  },
  {
   "cell_type": "code",
   "execution_count": 228,
   "metadata": {},
   "outputs": [],
   "source": [
    "def G(data,t):\n",
    "    row = [t]\n",
    "    row.extend(data[:,0])\n",
    "    #print(row)\n",
    "    mat = np.empty([data.shape[0]+1,data.shape[0]+1])\n",
    "\n",
    "    for i in range(len(row)):\n",
    "        for j in range(len(row)):\n",
    "            mat[i,j] = 1/(1-z(row[i])*z(row[j]))\n",
    "    return mat"
   ]
  },
  {
   "cell_type": "code",
   "execution_count": 229,
   "metadata": {},
   "outputs": [],
   "source": [
    "def Gdiag(G):\n",
    "    #print(G)\n",
    "    tempresult = np.linalg.svd(G)\n",
    "    D = np.diag(tempresult[1])\n",
    "    U = np.transpose(np.array(tempresult[0]))\n",
    "    return [D,U]"
   ]
  },
  {
   "cell_type": "code",
   "execution_count": 230,
   "metadata": {},
   "outputs": [],
   "source": [
    "def alpha(data,t):\n",
    "    ssum = 0.0\n",
    "    temp = Gdiag(G(data,t))\n",
    "    U = temp[1]\n",
    "    D = temp[0]\n",
    "    for i in range(0,data.shape[0]+1):\n",
    "        ssum += U[i,0]*U[i,0]/D[i,i]\n",
    "    return ssum"
   ]
  },
  {
   "cell_type": "code",
   "execution_count": 231,
   "metadata": {},
   "outputs": [],
   "source": [
    "def beta(data, t, phi,chi):\n",
    "    ssum = 0.0\n",
    "    temp = Gdiag(G(data,t))\n",
    "    U = temp[1]\n",
    "    D = temp[0]\n",
    "    for i in range(0,data.shape[0]+1):\n",
    "        for j in range(1,data.shape[0]+1):\n",
    "            ssum += U[i,j]*data[j-1,1]*phi(data[j-1,0],chi)*U[i,0]/D[i,i]\n",
    "    return ssum"
   ]
  },
  {
   "cell_type": "code",
   "execution_count": 232,
   "metadata": {},
   "outputs": [],
   "source": [
    "def gamma(data, t,phi,chi):\n",
    "    temp = Gdiag(G(data,t))\n",
    "    U = temp[1]\n",
    "    D = temp[0]\n",
    "    ssum = 1.0\n",
    "    for i in range(0,data.shape[0]+1):\n",
    "        for j in range(1,data.shape[0]+1):\n",
    "            for k in range(1,data.shape[0]+1):\n",
    "                ssum -= U[i,j]*data[j-1,1]*phi(data[j-1,0],chi)*U[i,k]*data[k-1,1]*phi(data[k-1,0],chi)/D[i,i]\n",
    "    return ssum"
   ]
  },
  {
   "cell_type": "code",
   "execution_count": 233,
   "metadata": {},
   "outputs": [],
   "source": [
    "def formfactor_unordered(data,t,chi=[chizero,chiplus]):\n",
    "    results = []\n",
    "    datazero = data[0]\n",
    "    dataplus = data[1]\n",
    "    chizero = chi[0]\n",
    "    chiplus = chi[1]\n",
    "    \n",
    "    \n",
    "    for dindex in [0,1]:\n",
    "        ssum = 0.0\n",
    "        tempdata = data[dindex]\n",
    "        phi = [phizero,phiplus][dindex]\n",
    "        \n",
    "        \n",
    "        calcalpha = alpha(tempdata,t)\n",
    "        #print(tempdata,t,phi,chi[dindex])\n",
    "        calcbeta = beta(tempdata,t,phi,chi[dindex])\n",
    "        calcgamma = gamma(tempdata,t,phi,chi[dindex])\n",
    "        #print(calcalpha,calcbeta,calcgamma)\n",
    "        [D,U] = Gdiag(G(tempdata,t))\n",
    "        #print(D,U)\n",
    "        phif = tempdata[:,1]*phi(tempdata[:,0])\n",
    "        for i in range(0,tempdata.shape[0]):\n",
    "            for j in range(i+1,tempdata.shape[0]+1):\n",
    "                for k in range(1,tempdata.shape[0]+1):\n",
    "                    #print(U.shape,phif.shape)\n",
    "                    C1 = 2*U[i,0]*U[i,k]*U[j,0]*U[j,1:]\n",
    "                    C2 = U[i,0]*U[i,0]*U[j,k]*U[j,1:]\n",
    "                    C3 = U[j,0]*U[j,0]*U[i,k]*U[i,1:]\n",
    "                    ssum += phif[:]*phif[k-1]*(C1 - C2 - C3)/(D[i,i]*D[j,j]) # add to list and sort\n",
    "        discrim = sum(ssum) + calcalpha\n",
    "        if discrim < 0:\n",
    "            print(\"discriminant is negative: \",discrim,calcbeta**2+calcalpha*calcgamma)\n",
    "            discrim = 0\n",
    "        lowerbound = (-calcbeta-np.sqrt(discrim))/(calcalpha*phi(t))\n",
    "        upperbound = (-calcbeta+np.sqrt(discrim))/(calcalpha*phi(t))\n",
    "        results.append([lowerbound,upperbound])\n",
    "    return results"
   ]
  },
  {
   "cell_type": "code",
   "execution_count": 234,
   "metadata": {},
   "outputs": [],
   "source": [
    "def sort_list(numlist):\n",
    "    return np.flip(sorted(numlist, key = abs))"
   ]
  },
  {
   "cell_type": "code",
   "execution_count": 235,
   "metadata": {},
   "outputs": [],
   "source": [
    "def formfactor(data,t,chi=[chizero,chiplus],poslist = None,neglist = None,dindex = [0,1]):#,optimize = False\n",
    "    results = []\n",
    "    datazero = data[0]\n",
    "    dataplus = data[1]\n",
    "    chizero = chi[0]\n",
    "    chiplus = chi[1]\n",
    "    \n",
    "    for dindex in dindex:\n",
    "        ssum = []\n",
    "        tempdata = data[dindex]\n",
    "        phi = [phizero,phiplus][dindex]\n",
    "        \n",
    "        \n",
    "        calcalpha = alpha(tempdata,t)\n",
    "        #print(tempdata,t,phi,chi[dindex])\n",
    "        calcbeta = beta(tempdata,t,phi,chi[dindex])\n",
    "        #calcgamma = gamma(tempdata,t,phi,chi[dindex])\n",
    "        #print(calcalpha)#,calcbeta,calcgamma\n",
    "        [D,U] = Gdiag(G(tempdata,t))\n",
    "        #print(D,U)\n",
    "        phif = tempdata[:,1]*phi(tempdata[:,0])\n",
    "        for i in range(0,tempdata.shape[0]):\n",
    "            for j in range(i+1,tempdata.shape[0]+1):\n",
    "                for k in range(1,tempdata.shape[0]+1):\n",
    "                    for l in range(1,tempdata.shape[0]+1):\n",
    "                        #print(U.shape,phif.shape)\n",
    "                        C1 = 2.0*U[i,0]*U[i,k]*U[j,0]*U[j,l]\n",
    "                        C2 = U[i,0]*U[i,0]*U[j,k]*U[j,l]\n",
    "                        C3 = U[j,0]*U[j,0]*U[i,k]*U[i,l]\n",
    "                        ssum.append(phif[l-1]*phif[k-1]*(C1 - C2 - C3)/(D[i,i]*D[j,j]))  # add to list and sort\n",
    "        ssum.append(calcalpha)\n",
    "        summand = sort_list(ssum)\n",
    "        discrim = 0.0\n",
    "        for i in range(len(ssum)):\n",
    "            discrim += summand[i]\n",
    "        #print(\"Order of magnitude diff = \",np.log10(abs(summand[0])),np.log10(abs(summand[-1])),np.log10(abs(discrim)))\n",
    "        if discrim < 0:\n",
    "            if neglist is not None:\n",
    "                neglist.append([np.log10(abs(summand[0])),discrim,dindex])\n",
    "            #print(\"^discriminant is negative: \",discrim)\n",
    "        elif poslist is not None:\n",
    "            poslist.append([np.log10(abs(summand[0])),discrim,dindex])\n",
    "        \n",
    "        if abs(discrim/summand[0]) < 10**-10:\n",
    "            discrim = 0.0\n",
    "        #print([D,U])\n",
    "        lowerbound = (-calcbeta-np.sqrt(discrim))/(calcalpha*phi(t))\n",
    "        upperbound = (-calcbeta+np.sqrt(discrim))/(calcalpha*phi(t))\n",
    "        results.append([lowerbound,upperbound])\n",
    "    \n",
    "    \n",
    "    \n",
    "    return results"
   ]
  },
  {
   "cell_type": "code",
   "execution_count": 1,
   "metadata": {},
   "outputs": [],
   "source": [
    "# x = np.linspace(0,maxplott,101)\n",
    "# plt.plot(x,[formfactor(totaldata,i)[1] for i in x],label = r\"$f_+$\")\n",
    "# plt.plot(x,[formfactor(totaldata,i)[0] for i in x],label = r\"$f_0$\")\n",
    "# plt.scatter(dataplus[:,0],dataplus[:,1])\n",
    "# plt.scatter(datazero[:,0],datazero[:,1])\n",
    "\n",
    "# plt.xlabel(r\"$t \\.\\.(GeV^2)$\")\n",
    "# plt.ylabel(\"Form factor\")\n",
    "# plt.legend()\n",
    "# plt.rcParams[\"figure.figsize\"] = (20,20)\n",
    "# plt.show()"
   ]
  },
  {
   "cell_type": "code",
   "execution_count": 237,
   "metadata": {},
   "outputs": [],
   "source": [
    "def ff_datastacker(fval,resampleddata,t,chi,dindex,uplo):\n",
    "    erdata = [0.0,0.0]\n",
    "    erdata[0] = np.vstack([resampleddata[0],[0,fval]])\n",
    "    erdata[1] = np.vstack([resampleddata[1],[0,fval]])\n",
    "    #print(erdata,t,chi,[dindex])\n",
    "    return (-1)**uplo * formfactor(erdata,t,chi,dindex = [dindex])[0][uplo]"
   ]
  },
  {
   "cell_type": "code",
   "execution_count": 270,
   "metadata": {},
   "outputs": [],
   "source": [
    "def dispbounds(tlist,Nboot,N0=10,keepallindexresults=False,seed=None,NSdebug = False):\n",
    "    np.random.seed(seed=seed)\n",
    "    if N0 is not None and N0 < 2 :\n",
    "        print(\"N0 must have a value of at least 2\")\n",
    "        return\n",
    "    \n",
    "    if NSdebug == True:\n",
    "        poslist = []\n",
    "        neglist = []\n",
    "    else:\n",
    "        poslist = None\n",
    "        neglist = None\n",
    "    \n",
    "    nooverlapcount = 0\n",
    "    unitarityfailcount = 0\n",
    "    totalresults = []\n",
    "    poslist = []\n",
    "    neglist = []\n",
    "    for i in range(Nboot):\n",
    "        #print(bskpts)\n",
    "        resampleddata = covresample(bskpts)\n",
    "        #print(resampleddata)\n",
    "        resampledchi = [np.random.normal(chizero,0),np.random.normal(chiplus,0)]#chizerovar,chiplusvar\n",
    "        #print(\"about to resample zero bounds\")\n",
    "        resamplezerobounds = formfactor(resampleddata,0,resampledchi)#,poslist = poslist, neglist = neglist\n",
    "        #print(\"finished resampling zero bounds\")\n",
    "        if resamplezerobounds[0][0]>resamplezerobounds[1][1] or resamplezerobounds[0][1]<resamplezerobounds[1][0]:\n",
    "            #print(\"No Overlap\")\n",
    "            nooverlapcount += 1\n",
    "            continue\n",
    "        elif resamplezerobounds[0][0]==resamplezerobounds[0][1] or resamplezerobounds[1][0]==resamplezerobounds[1][1]:\n",
    "            unitarityfailcount += 1\n",
    "            continue\n",
    "        lower = max(resamplezerobounds[0][0],resamplezerobounds[1][0])\n",
    "        upper = min(resamplezerobounds[0][1],resamplezerobounds[1][1])\n",
    "        \n",
    "        \n",
    "        #print(indexlist)\n",
    "        \n",
    "        if N0 == None:\n",
    "            results = []\n",
    "            for tindex in range(len(tlist)):\n",
    "                t = tlist[tindex]\n",
    "                optimizedresult = []\n",
    "                for dindex in [0,1]:\n",
    "                    tempoptimizeresults = []\n",
    "                    for uplo in [0,1]:\n",
    "                        #print(resampleddata,t,resampledchi,dindex,uplo)\n",
    "                        optimized = minimize_scalar(ff_datastacker,bounds=(lower,upper),method='bounded', args=(resampleddata,t,resampledchi,dindex,uplo))\n",
    "                        bound = (-1)**uplo * optimized.fun\n",
    "                        #print(bound)\n",
    "                        tempoptimizeresults.append(bound)\n",
    "                    \n",
    "                    optimizedresult.append(tempoptimizeresults)\n",
    "                results.append(optimizedresult)\n",
    "        else:\n",
    "            indexlist = np.linspace(0,N0-1,N0,dtype=int)#index can take values from 0 to N0-1\n",
    "            tempboundslist = np.zeros([len(tlist),len(indexlist)],dtype=object)\n",
    "            for index in indexlist:\n",
    "                fval = lower+(upper-lower)*index/(N0-1)\n",
    "                erdata = [0,0]\n",
    "                #print(resampleddata[0],resampleddata[1])\n",
    "                erdata[0] = np.vstack([resampleddata[0],[0,fval]])\n",
    "                erdata[1] = np.vstack([resampleddata[1],[0,fval]])\n",
    "                counter = 0\n",
    "                #print(erdata)\n",
    "                for t in tlist:\n",
    "                    tempbounds = formfactor(erdata,t,resampledchi,poslist = poslist, neglist = neglist)\n",
    "                    tempboundslist[counter,index] = tempbounds\n",
    "                    counter += 1\n",
    "            #print(tempboundslist)\n",
    "            if keepallindexresults==False:\n",
    "                results = np.zeros([len(tlist)],dtype=object)\n",
    "                for tindex in range(len(tlist)):\n",
    "                    #print(tindex)\n",
    "                    results[tindex] = tempboundslist[tindex,0]\n",
    "                    for index in range(1,len(indexlist)):\n",
    "                        a = results[tindex]\n",
    "                        b = tempboundslist[tindex,index]\n",
    "                        results[tindex] = [[np.nanmin([a[0][0],b[0][0]]),np.nanmax([a[0][1],b[0][1]])],[np.nanmin([a[1][0],b[1][0]]),np.nanmax([a[1][1],b[1][1]])]]\n",
    "            elif keepallindexresults==True:\n",
    "                results = tempboundslist #results structured as results[index][timeindex][f0/f+][lower/upper]\n",
    "\n",
    "        totalresults.append(results)#results structured as results[Nboot][index][timeindex][f0/f+][lower/upper]\n",
    "    if nooverlapcount + unitarityfailcount > 0:\n",
    "        print(nooverlapcount,unitarityfailcount)\n",
    "    \n",
    "    if len(poslist)+len(neglist) > 0 and NSdebug == True:\n",
    "        for dindex in [0,1]:\n",
    "            plt.scatter([x[0] for x in poslist if x[2] == dindex],[x[1] for x in poslist if x[2] == dindex])\n",
    "            plt.scatter([x[0] for x in neglist if x[2] == dindex],[x[1] for x in neglist if x[2] == dindex])\n",
    "    #         maxx = max(max([x[0] for x in poslist if x[2] == dindex]),max([x[0] for x in neglist if x[2] == dindex]))\n",
    "    #         minx = min(min([x[0] for x in poslist if x[2] == dindex]),min([x[0] for x in neglist if x[2] == dindex]))\n",
    "    #         plt.hist([x[0] for x in poslist if x[2] == dindex],bins=20,range = (minx,maxx),color=\"blue\", alpha=0.5)\n",
    "    #         plt.hist([x[0] for x in neglist if x[2] == dindex],bins=20,range = (minx,maxx),color=\"red\", alpha=0.5)\n",
    "            plt.show()\n",
    "    return [tlist,totalresults,Nboot-nooverlapcount]"
   ]
  },
  {
   "cell_type": "code",
   "execution_count": 284,
   "metadata": {},
   "outputs": [],
   "source": [
    "#calculating final values from bootstrap results\n",
    "def calcbounds(output):\n",
    "    results = np.zeros([len(output[0]),2],dtype=object)\n",
    "    for tindex in range(len(output[0])):\n",
    "        tempresult=[]\n",
    "        for dindex in [0,1]:\n",
    "            tchosen = output[0][tindex]\n",
    "            data = np.zeros([output[2],2])\n",
    "            for boot in range(output[2]):\n",
    "                data[boot,0] = output[1][boot][tindex][dindex][0]\n",
    "                data[boot,1] = output[1][boot][tindex][dindex][1]\n",
    "            #print(data)\n",
    "            averageff = (0.5*(np.nanmean(data[:,0])+np.nanmean(data[:,1])))\n",
    "            delta = [data[:,0]-averageff,data[:,1]-averageff]\n",
    "            varlo = np.nansum(delta[0]**2)/(len(delta[0])-1)\n",
    "            varup = np.nansum(delta[1]**2)/(len(delta[1])-1)\n",
    "            rho = np.nansum(delta[0]*delta[1])/(len(delta[0])-1)\n",
    "            #print(np.nanmean(data[:,0]),np.nanmean(data[:,1]),varlo,varup,rho)\n",
    "            var = (np.nanmean(data[:,0])-np.nanmean(data[:,1]))**2/12 + (varlo+varup+rho)/3\n",
    "            std = np.sqrt(var)\n",
    "            tempresult.append([averageff,std])\n",
    "        results[tindex,0] = output[0][tindex]\n",
    "        results[tindex,1] = tempresult\n",
    "    \n",
    "    tvals = np.zeros([len(results[:,0])])\n",
    "    f0vals = np.zeros([len(results[:,0])])\n",
    "    f0vars = np.zeros([len(results[:,0])])\n",
    "    fplusvals = np.zeros([len(results[:,0])])\n",
    "    fplusvars = np.zeros([len(results[:,0])])\n",
    "    for tindex in range(len(results[:,0])):\n",
    "        tvals[tindex] = results[tindex,0]\n",
    "        f0vals[tindex] = results[:,1][tindex][0][0]\n",
    "        f0vars[tindex] = results[:,1][tindex][0][1]\n",
    "        fplusvals[tindex] = results[:,1][tindex][1][0]\n",
    "        fplusvars[tindex] = results[:,1][tindex][1][1]\n",
    "    return [tvals,f0vals,f0vars,fplusvals,fplusvars]"
   ]
  },
  {
   "cell_type": "code",
   "execution_count": 241,
   "metadata": {},
   "outputs": [],
   "source": [
    "# x = np.linspace(0,maxplott,101)\n",
    "# resampleddata = covresample(bskpts)\n",
    "# plt.plot(x,[formfactor(resampleddata,i)[1] for i in x],label = r\"$f_+$\")\n",
    "# plt.plot(x,[formfactor(resampleddata,i)[0] for i in x],label = r\"$f_0$\")\n",
    "# plt.scatter(resampleddata[1][:,0],resampleddata[1][:,1])\n",
    "# plt.scatter(resampleddata[0][:,0],resampleddata[0][:,1])\n",
    "\n",
    "# plt.xlabel(r\"$t \\.\\.(GeV^2)$\")\n",
    "# plt.ylabel(\"Form factor\")\n",
    "# plt.legend()\n",
    "# plt.rcParams[\"figure.figsize\"] = (20,20)\n",
    "# plt.show()"
   ]
  },
  {
   "cell_type": "code",
   "execution_count": 242,
   "metadata": {},
   "outputs": [],
   "source": [
    "#investigating index\n",
    "#np.random.seed(seed=1)\n",
    "# NBoot = 100\n",
    "# N0 = 4\n",
    "# tlist = [0.5]\n",
    "# output = dispbounds(tlist,NBoot,N0=N0,keepallindexresults=True,seed=2,NSdebug = True)#,seed=2"
   ]
  },
  {
   "cell_type": "code",
   "execution_count": 243,
   "metadata": {},
   "outputs": [],
   "source": [
    "# fftoplot = 1 #0=f0, 1 = f+\n",
    "# N0plotrange = range(N0)\n",
    "# for t in range(len(tlist)):\n",
    "#     for x in range(NBoot):\n",
    "#         for bound in [0,1]:\n",
    "#             plt.plot(N0plotrange,[output[1][x][t][i][fftoplot][bound] for i in N0plotrange])#,label=str(t)/output[1][x][t][0][fftoplot][bound]\n",
    "\n",
    "# #plt.xlabel(r\"$t \\.\\.(GeV^2)$\")\n",
    "# #plt.ylabel(\"Form factor\")\n",
    "# plt.legend()\n",
    "# plt.rcParams[\"figure.figsize\"] = (10,10)\n",
    "# plt.show()"
   ]
  },
  {
   "cell_type": "code",
   "execution_count": 134,
   "metadata": {},
   "outputs": [],
   "source": [
    "# output"
   ]
  },
  {
   "cell_type": "code",
   "execution_count": 135,
   "metadata": {},
   "outputs": [],
   "source": [
    "# timelist = np.linspace(0,maxplott,11)#[10]#[17.5,21.15623588,23.72835562]\n",
    "# NBootstraps = 10\n",
    "# output = dispbounds(timelist,NBootstraps,N0=None)"
   ]
  },
  {
   "cell_type": "code",
   "execution_count": 136,
   "metadata": {},
   "outputs": [],
   "source": [
    "# final = calcbounds(output)\n",
    "# tvals = final[0]\n",
    "# f0vals = final[1]\n",
    "# f0vars = final[2]\n",
    "# fplusvals = final[3]\n",
    "# fplusvars = final[4]\n",
    "\n",
    "\n",
    "# plt.scatter(dataplus[:,0],dataplus[:,1])\n",
    "# plt.scatter(datazero[:,0],datazero[:,1])\n",
    "# plt.plot(tvals,f0vals,label = r\"$f_0$\",color=\"orange\")\n",
    "# plt.fill_between(tvals,f0vals-f0vars,f0vals+f0vars,linewidth=2,hatch='/',edgecolor=\"orange\",facecolor=\"none\")\n",
    "# plt.plot(tvals,fplusvals,label = r\"$f_+$\",color=\"lightskyblue\")\n",
    "# plt.fill_between(tvals,fplusvals-fplusvars,fplusvals+fplusvars,linewidth=2,hatch='/',edgecolor=\"lightskyblue\",facecolor=\"none\")\n",
    "\n",
    "# plt.xlabel(r\"$t \\.\\. (GeV^2)$\")\n",
    "# plt.ylabel(\"Form factor\")\n",
    "# plt.legend()\n",
    "# plt.rcParams[\"figure.figsize\"] = (25,15)\n",
    "# plt.show()"
   ]
  },
  {
   "cell_type": "code",
   "execution_count": 278,
   "metadata": {},
   "outputs": [
    {
     "name": "stderr",
     "output_type": "stream",
     "text": [
      "<ipython-input-235-8118199473a9>:47: RuntimeWarning: invalid value encountered in sqrt\n",
      "  lowerbound = (-calcbeta-np.sqrt(discrim))/(calcalpha*phi(t))\n",
      "<ipython-input-235-8118199473a9>:48: RuntimeWarning: invalid value encountered in sqrt\n",
      "  upperbound = (-calcbeta+np.sqrt(discrim))/(calcalpha*phi(t))\n",
      "<ipython-input-270-6638f019edd3>:80: RuntimeWarning: All-NaN axis encountered\n",
      "  results[tindex] = [[np.nanmin([a[0][0],b[0][0]]),np.nanmax([a[0][1],b[0][1]])],[np.nanmin([a[1][0],b[1][0]]),np.nanmax([a[1][1],b[1][1]])]]\n"
     ]
    },
    {
     "name": "stdout",
     "output_type": "stream",
     "text": [
      "5 0\n"
     ]
    }
   ],
   "source": [
    "timelist = np.linspace(0,23.72835562,10)#[10]#[17.5,21.15623588,23.72835562]\n",
    "NBootstraps = 200\n",
    "output = dispbounds(timelist,NBootstraps,N0=2)"
   ]
  },
  {
   "cell_type": "code",
   "execution_count": 285,
   "metadata": {},
   "outputs": [
    {
     "data": {
      "image/png": "[encoded data removed]",
      "text/plain": [
       "<Figure size 1800x1080 with 1 Axes>"
      ]
     },
     "metadata": {
      "needs_background": "light"
     },
     "output_type": "display_data"
    }
   ],
   "source": [
    "final = calcbounds(output)\n",
    "tvals = final[0]\n",
    "f0vals = final[1]\n",
    "f0vars = final[2]\n",
    "fplusvals = final[3]\n",
    "fplusvars = final[4]\n",
    "\n",
    "\n",
    "plt.scatter(dataplus[:,0],dataplus[:,1])\n",
    "plt.scatter(datazero[:,0],datazero[:,1])\n",
    "plt.plot(tvals,f0vals,label = r\"$f_0$\",color=\"orange\")\n",
    "plt.fill_between(tvals,f0vals-f0vars,f0vals+f0vars,linewidth=2,hatch='/',edgecolor=\"orange\",facecolor=\"none\")\n",
    "plt.plot(tvals,fplusvals,label = r\"$f_+$\",color=\"lightskyblue\")\n",
    "plt.fill_between(tvals,fplusvals-fplusvars,fplusvals+fplusvars,linewidth=2,hatch='/',edgecolor=\"lightskyblue\",facecolor=\"none\")\n",
    "\n",
    "plt.xlabel(r\"$t \\.\\. (GeV^2)$\")\n",
    "plt.ylabel(\"Form factor\")\n",
    "plt.legend()\n",
    "plt.rcParams[\"figure.figsize\"] = (25,15)\n",
    "plt.show()"
   ]
  },
  {
   "cell_type": "code",
   "execution_count": 139,
   "metadata": {},
   "outputs": [],
   "source": [
    "# final"
   ]
  },
  {
   "cell_type": "code",
   "execution_count": 140,
   "metadata": {},
   "outputs": [],
   "source": [
    "# returnsdatacheck = dispbounds([17.5,21.15623588,23.72835562],1000,N0=10)"
   ]
  },
  {
   "cell_type": "code",
   "execution_count": 141,
   "metadata": {},
   "outputs": [],
   "source": [
    "# calcbounds(returnsdatacheck)"
   ]
  },
  {
   "cell_type": "code",
   "execution_count": 142,
   "metadata": {},
   "outputs": [],
   "source": [
    "# %pip install line_profiler"
   ]
  },
  {
   "cell_type": "code",
   "execution_count": 143,
   "metadata": {},
   "outputs": [],
   "source": [
    "# %load_ext line_profiler"
   ]
  },
  {
   "cell_type": "code",
   "execution_count": 144,
   "metadata": {},
   "outputs": [],
   "source": [
    "# from scipy.optimize import *"
   ]
  },
  {
   "cell_type": "code",
   "execution_count": 145,
   "metadata": {},
   "outputs": [],
   "source": [
    "# %lprun -f formfactor formfactor([np.array([[23.5       ,  0.86792049],[21.5       ,  0.71390576],[17.5       ,  0.49087795],[ 0.        , -0.0745267 ]]), np.array([[23.5       ,  3.06101327],[17.5       ,  1.04850892],[ 0.        , -0.0745267 ]])], 0.0,dindex = [0])"
   ]
  },
  {
   "cell_type": "code",
   "execution_count": 146,
   "metadata": {},
   "outputs": [],
   "source": [
    "# timelist = [0,5,10,15]#np.linspace(0,maxplott,49)##[17.5,21.15623588,23.72835562]\n",
    "# NBootstraps = 2000\n",
    "# output = dispbounds(timelist,NBootstraps,N0=2)"
   ]
  },
  {
   "cell_type": "code",
   "execution_count": 147,
   "metadata": {},
   "outputs": [],
   "source": [
    "# calcbounds(output)"
   ]
  },
  {
   "cell_type": "code",
   "execution_count": 148,
   "metadata": {},
   "outputs": [],
   "source": [
    "# timelist = [0,5,10,15]#np.linspace(0,maxplott,49)##[17.5,21.15623588,23.72835562]\n",
    "# NBootstraps = 2000\n",
    "# output = dispbounds(timelist,NBootstraps,N0=None)"
   ]
  },
  {
   "cell_type": "code",
   "execution_count": 149,
   "metadata": {},
   "outputs": [],
   "source": [
    "# calcbounds(output)"
   ]
  },
  {
   "cell_type": "code",
   "execution_count": null,
   "metadata": {},
   "outputs": [],
   "source": []
  },
  {
   "cell_type": "code",
   "execution_count": 150,
   "metadata": {},
   "outputs": [],
   "source": [
    "# timelist = [0,5,10,15]#np.linspace(0,maxplott,49)##[17.5,21.15623588,23.72835562]\n",
    "# NBootstraps = 20*2000\n",
    "# output = dispbounds(timelist,NBootstraps,N0=2)"
   ]
  },
  {
   "cell_type": "code",
   "execution_count": 151,
   "metadata": {},
   "outputs": [],
   "source": [
    "# calcbounds(output)"
   ]
  }
 ],
 "metadata": {
  "kernelspec": {
   "display_name": "Python 3",
   "language": "python",
   "name": "python3"
  },
  "language_info": {
   "codemirror_mode": {
    "name": "ipython",
    "version": 3
   },
   "file_extension": ".py",
   "mimetype": "text/x-python",
   "name": "python",
   "nbconvert_exporter": "python",
   "pygments_lexer": "ipython3",
   "version": "3.8.5"
  }
 },
 "nbformat": 4,
 "nbformat_minor": 4
}
