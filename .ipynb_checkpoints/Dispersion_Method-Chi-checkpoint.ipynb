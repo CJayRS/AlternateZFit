{
 "cells": [
  {
   "cell_type": "code",
   "execution_count": 2,
   "metadata": {},
   "outputs": [],
   "source": [
    "import numpy as np\n",
    "import matplotlib.pyplot as plt\n",
    "import scipy as sp\n",
    "import seaborn as sns\n",
    "import math\n",
    "from tqdm import tqdm\n",
    "from matplotlib import pyplot as pl\n"
   ]
  },
  {
   "cell_type": "code",
   "execution_count": 3,
   "metadata": {},
   "outputs": [],
   "source": [
    "data = np.array([[1.3461, 1.102, 0.911],\n",
    "[1.6154, 1.208, 0.944],\n",
    "[1.8846, 1.336, 0.979]]) #rome form factor data, plus = 1, zero = 2"
   ]
  },
  {
   "cell_type": "code",
   "execution_count": 4,
   "metadata": {},
   "outputs": [],
   "source": [
    "chi0plus = 0.0043\n",
    "chi1minus = 0.00419"
   ]
  },
  {
   "cell_type": "code",
   "execution_count": 5,
   "metadata": {},
   "outputs": [],
   "source": [
    "zerosum = (1.86484-0.497611)**2 #D0 and K0"
   ]
  },
  {
   "cell_type": "code",
   "execution_count": 6,
   "metadata": {},
   "outputs": [],
   "source": [
    "plusminussum = (1.86966-0.493677)**2 #D+- and K+-"
   ]
  },
  {
   "cell_type": "code",
   "execution_count": 7,
   "metadata": {},
   "outputs": [
    {
     "data": {
      "text/plain": [
       "1.8813221773650004"
      ]
     },
     "execution_count": 7,
     "metadata": {},
     "output_type": "execute_result"
    }
   ],
   "source": [
    "0.5*(zerosum+plusminussum)"
   ]
  },
  {
   "cell_type": "code",
   "execution_count": 8,
   "metadata": {},
   "outputs": [
    {
     "data": {
      "text/plain": [
       "1.8813030192360003"
      ]
     },
     "execution_count": 8,
     "metadata": {},
     "output_type": "execute_result"
    }
   ],
   "source": [
    "MD = 0.5*(1.86484+1.86966)\n",
    "MK = 0.5*(0.497611+0.493677)\n",
    "(MD-MK)**2 #?????????????? where does their 1.8846 come from?"
   ]
  },
  {
   "cell_type": "code",
   "execution_count": 53,
   "metadata": {},
   "outputs": [],
   "source": [
    "tminus = 1.8846 #(MD-MK)**2\n",
    "tplus = (MD+MK)**2"
   ]
  },
  {
   "cell_type": "code",
   "execution_count": 10,
   "metadata": {},
   "outputs": [],
   "source": [
    "def z(t):\n",
    "    return (np.sqrt(tplus-t)-np.sqrt(tplus-tminus))/(np.sqrt(tplus-t)+np.sqrt(tplus-tminus))"
   ]
  },
  {
   "cell_type": "code",
   "execution_count": 11,
   "metadata": {},
   "outputs": [],
   "source": [
    "def rho(t):\n",
    "    return np.sqrt((tplus-t)/(tplus-tminus))"
   ]
  },
  {
   "cell_type": "code",
   "execution_count": 12,
   "metadata": {},
   "outputs": [],
   "source": [
    "ni = 3/2"
   ]
  },
  {
   "cell_type": "code",
   "execution_count": 13,
   "metadata": {},
   "outputs": [],
   "source": [
    "def phizero(t):  #outer fn and Blanschke factors\n",
    "    polevals = [2.3178]\n",
    "    calcz = z(t)\n",
    "    calcrho = rho(t)\n",
    "    phizeroval = np.sqrt(2*ni/3)*np.sqrt((3*tplus*tminus)/(4*np.pi))*1/(tplus-tminus)*(1+calcz)*np.power(1-calcz,-5/2)*np.power(rho(0)+(1+calcz)/(1-calcz),-2)*np.power(rho(0)+(1+calcz)/(1-calcz),-2)\n",
    "    for i in range(len(polevals)):\n",
    "        phizeroval *= (z(t)-z(polevals[i]))/(1-np.conjugate(z(polevals[i]))*z(t))\n",
    "    return phizeroval "
   ]
  },
  {
   "cell_type": "code",
   "execution_count": 14,
   "metadata": {},
   "outputs": [],
   "source": [
    "def phiplus(t):  #outer fn and Blanschke factors\n",
    "    polevals = [2.1122]\n",
    "    calcz = z(t)\n",
    "    calcrho = rho(t)\n",
    "    phiplusval = np.sqrt(2*ni/3)*np.sqrt(1/(np.pi*(tplus-tminus)))*np.power(1+calcz,2)*np.power(1-calcz,-9/2)*np.power(rho(0)+(1+calcz)/(1-calcz),-2)*np.power(rho(0)+(1+calcz)/(1-calcz),-3)\n",
    "    for i in range(len(polevals)):\n",
    "        phiplusval *= (z(t)-z(polevals[i]))/(1-np.conjugate(z(polevals[i]))*z(t))\n",
    "    return phiplusval"
   ]
  },
  {
   "cell_type": "code",
   "execution_count": 15,
   "metadata": {},
   "outputs": [],
   "source": [
    "def exclude(G,a,b):\n",
    "    return np.delete(np.delete(G,b,0),a,1)"
   ]
  },
  {
   "cell_type": "code",
   "execution_count": 16,
   "metadata": {},
   "outputs": [],
   "source": [
    "#2105.02497 pg 48-50"
   ]
  },
  {
   "cell_type": "code",
   "execution_count": 17,
   "metadata": {},
   "outputs": [],
   "source": [
    "def alpha(data,charge):\n",
    "    if charge == 1:\n",
    "        index = 1\n",
    "    elif charge == 0:\n",
    "        index = 2\n",
    "    alphamat = np.empty([data.shape[0],data.shape[0]])\n",
    "\n",
    "    for i in range(data.shape[0]):\n",
    "        for j in range(data.shape[0]):\n",
    "            alphamat[i,j] = 1/(1-z(data[i,0])*z(data[j,0]))\n",
    "    return np.linalg.det(alphamat)"
   ]
  },
  {
   "cell_type": "code",
   "execution_count": 18,
   "metadata": {},
   "outputs": [
    {
     "data": {
      "text/plain": [
       "9.602811891613558e-11"
      ]
     },
     "execution_count": 18,
     "metadata": {},
     "output_type": "execute_result"
    }
   ],
   "source": [
    "alpha(data,1)"
   ]
  },
  {
   "cell_type": "code",
   "execution_count": 19,
   "metadata": {},
   "outputs": [],
   "source": [
    "def G(data,t):\n",
    "    row = [t]\n",
    "    row.extend(data[:,0])\n",
    "    mat = np.empty([data.shape[0]+1,data.shape[0]+1])\n",
    "\n",
    "    for i in range(len(row)):\n",
    "        for j in range(len(row)):\n",
    "            mat[i,j] = 1/(1-z(row[i])*z(row[j]))\n",
    "    return mat"
   ]
  },
  {
   "cell_type": "code",
   "execution_count": 20,
   "metadata": {},
   "outputs": [],
   "source": [
    "def beta(data, t, charge):\n",
    "    if charge == 1:\n",
    "        index = 1\n",
    "        phi = phiplus\n",
    "    elif charge == 0:\n",
    "        index = 2\n",
    "        phi = phizero\n",
    "    ssum = 0\n",
    "    for j in range(1,data.shape[0]+1):\n",
    "        ssum += ((-1)**j)*phi(data[j-1,0])*data[j-1,index]*np.linalg.det(exclude(G(data,t),0,j))\n",
    "    return ssum"
   ]
  },
  {
   "cell_type": "code",
   "execution_count": 21,
   "metadata": {},
   "outputs": [],
   "source": [
    "def gamma(data, t,charge):\n",
    "    if charge == 1:\n",
    "        index = 1\n",
    "        phi = phiplus\n",
    "        chi = chi1minus\n",
    "    elif charge == 0:\n",
    "        index = 2\n",
    "        phi = phizero\n",
    "        chi = chi0plus\n",
    "    ssum = chi*np.linalg.det(G(data,t))\n",
    "    for i in range(1,data.shape[0]+1):\n",
    "        for j in range(1,data.shape[0]+1):\n",
    "            ssum -= np.power(-1,j+i)*phi(data[i-1,0])*data[i-1,index]*phi(data[j-1,0])*data[j-1,index]*np.linalg.det(exclude(G(data,t),i,j))\n",
    "    return ssum"
   ]
  },
  {
   "cell_type": "code",
   "execution_count": 62,
   "metadata": {},
   "outputs": [],
   "source": [
    "def M11(data,t,charge):\n",
    "    if charge == 1:\n",
    "        index = 1\n",
    "        phi = phiplus\n",
    "        chi = chi1minus\n",
    "    elif charge == 0:\n",
    "        index = 2\n",
    "        phi = phizero\n",
    "        chi = chi0plus\n",
    "    mat = np.empty([data.shape[0]+1,data.shape[0]+1])\n",
    "    mat[0,0] = chi\n",
    "    for i in range(1,data.shape[0]+1):\n",
    "        mat[i,0] = phi(data[i-1,0])*data[i-1,index]\n",
    "        mat[0,i] = phi(data[i-1,0])*data[i-1,index]\n",
    "        for j in range(1,data.shape[0]+1):\n",
    "            mat[i,j] = G(data,t)[i,j]\n",
    "    return mat"
   ]
  },
  {
   "cell_type": "code",
   "execution_count": 59,
   "metadata": {},
   "outputs": [],
   "source": [
    "def formfactor(data, t,charge):\n",
    "    if charge == 1:\n",
    "        phi = phiplus\n",
    "    elif charge == 0:\n",
    "        phi = phizero\n",
    "    calcalpha = alpha(data,charge)\n",
    "    calcbeta = beta(data,t,charge)\n",
    "    calcgamma = gamma(data,t,charge)\n",
    "    #if calcbeta**2 + calcalpha*calcgamma < 0:\n",
    "    #    print(\"calcbeta**2 + calcalpha*calcgamma = \",calcbeta**2 + calcalpha*calcgamma)\n",
    "    eigenvaluesM11 = np.linalg.eig(M11(data,t,1))[0]\n",
    "    eigenvaluesG = np.linalg.eig(G(data,t))[0]\n",
    "    discrimM11G = np.linalg.det(M11(data,t,charge))*np.linalg.det(G(data,t))\n",
    "    #print(G(data,t))\n",
    "    #print(\"eigenvalues of M11\",eigenvaluesM11[0],eigenvaluesM11[1],eigenvaluesM11[2],eigenvaluesM11[3])\n",
    "    #print(\"eigenvalues of G\",eigenvaluesG[0],eigenvaluesG[1],eigenvaluesG[2],eigenvaluesG[3])\n",
    "    #print(\"discriminant = \",discrimM11G)\n",
    "        \n",
    "    #lowerbound = (-calcbeta-np.sqrt(calcbeta**2 + calcalpha*calcgamma))/(calcalpha*phi(t))\n",
    "    #upperbound = (-calcbeta+np.sqrt(calcbeta**2 + calcalpha*calcgamma))/(calcalpha*phi(t))\n",
    "    lowerbound = (-calcbeta-np.sqrt(discrimM11G))/(calcalpha*phi(t))\n",
    "    upperbound = (-calcbeta+np.sqrt(discrimM11G))/(calcalpha*phi(t))\n",
    "    return [lowerbound,upperbound]"
   ]
  },
  {
   "cell_type": "code",
   "execution_count": 58,
   "metadata": {},
   "outputs": [
    {
     "name": "stdout",
     "output_type": "stream",
     "text": [
      "[[1.01063628 1.00349685 1.00180493 1.        ]\n",
      " [1.00349685 1.00115513 1.0005969  1.        ]\n",
      " [1.00180493 1.0005969  1.00030853 1.        ]\n",
      " [1.         1.         1.         1.        ]]\n"
     ]
    },
    {
     "data": {
      "text/plain": [
       "[0.7604169116646461, 0.7874992902250209]"
      ]
     },
     "execution_count": 58,
     "metadata": {},
     "output_type": "execute_result"
    }
   ],
   "source": [
    "formfactor(data, 0,0)"
   ]
  },
  {
   "cell_type": "code",
   "execution_count": 25,
   "metadata": {},
   "outputs": [
    {
     "data": {
      "text/plain": [
       "array([[1.3461, 1.102 , 0.911 ],\n",
       "       [1.6154, 1.208 , 0.944 ],\n",
       "       [1.8846, 1.336 , 0.979 ]])"
      ]
     },
     "execution_count": 25,
     "metadata": {},
     "output_type": "execute_result"
    }
   ],
   "source": [
    "data"
   ]
  },
  {
   "cell_type": "code",
   "execution_count": 26,
   "metadata": {},
   "outputs": [
    {
     "data": {
      "image/png": "[encoded data removed]",
      "text/plain": [
       "<Figure size 432x288 with 1 Axes>"
      ]
     },
     "metadata": {
      "needs_background": "light"
     },
     "output_type": "display_data"
    }
   ],
   "source": [
    "x = np.linspace(0,2,101)\n",
    "plt.plot(x,[formfactor(data,i,1) for i in x],label = r\"$f_+$\")\n",
    "plt.plot(x,[formfactor(data,i,0) for i in x],label = r\"$f_0$\")\n",
    "plt.scatter(data[:,0],data[:,1])\n",
    "plt.scatter(data[:,0],data[:,2])\n",
    "\n",
    "romevals = np.array([[0.0, 0.765, 0.765, 0.772, 0.772],\n",
    "[0.2692, 0.815, 0.792, 0.822, 0.800],\n",
    "[0.5385, 0.872, 0.820, 0.878, 0.826],\n",
    "[0.8077, 0.937, 0.849, 0.942, 0.853],\n",
    "[1.0769, 1.013, 0.879, 1.015, 0.882]])\n",
    "plt.scatter(romevals[:,0],romevals[:,3])\n",
    "plt.scatter(romevals[:,0],romevals[:,4])\n",
    "plt.xlabel(r\"$t \\.\\.(GeV^2)$\")\n",
    "plt.ylabel(\"Form factor\")\n",
    "plt.legend()\n",
    "plt.show()"
   ]
  },
  {
   "cell_type": "code",
   "execution_count": 27,
   "metadata": {},
   "outputs": [],
   "source": [
    "##### Uncertainty #######"
   ]
  },
  {
   "cell_type": "code",
   "execution_count": 28,
   "metadata": {},
   "outputs": [],
   "source": [
    "# Normal distribution sampling\n",
    "SDarray = np.array([\n",
    "[0.038, 0.019],\n",
    "[0.044, 0.019],\n",
    "[0.054, 0.019]])"
   ]
  },
  {
   "cell_type": "code",
   "execution_count": 29,
   "metadata": {},
   "outputs": [],
   "source": [
    "covmatrix = np.array([[0.00095048337, 0.00086115559, 0.00076822929, 0.00067139737, 0.00057032189, 0.00046461266, 0.00035382373, 0.00023743786, 0.00093372326, 0.00091131333, 0.00088169768, 0.00084279034, 0.00079172189, 0.00072447152, 0.00063523124],  \n",
    "[0.00086115559, 0.00078515556, 0.00070607957, 0.00062368504, 0.00053767967, 0.00044773144, 0.00035346098, 0.00025442805, 0.00085206316, 0.00083894582, 0.00082066442, 0.00079568390, 0.00076188560, 0.00071629634, 0.00065461116],  \n",
    "[0.00076822929, 0.00070607957, 0.00064142818, 0.00057404882, 0.00050372187, 0.00043017086, 0.00035308565, 0.00027210610, 0.00076710907, 0.00076365966, 0.00075717032, 0.00074667912, 0.00073084851, 0.00070779522, 0.00067477803],  \n",
    "[0.00067139737, 0.00062368504, 0.00057404882, 0.00052233064, 0.00046833577, 0.00041187082, 0.00035269283, 0.00029052511, 0.00067858404, 0.00068520846, 0.00069100626, 0.00069561272, 0.00069850419, 0.00069893308, 0.00069578757],  \n",
    "[0.00057032189, 0.00053767967, 0.00050372187, 0.00046833577, 0.00043140396, 0.00039276887, 0.00035228288, 0.00030975141, 0.00058617957, 0.00060331939, 0.00062194289, 0.00064230877, 0.00066474294, 0.00068968328, 0.00071771878],  \n",
    "[0.00046461266, 0.00044773144, 0.00043017086, 0.00041187082, 0.00039276887, 0.00037279630, 0.00035185424, 0.00032985927, 0.00048953884, 0.00051767609, 0.00054971326, 0.00058656101, 0.00062943376, 0.00068000920, 0.00074065513],  \n",
    "[0.00035382373, 0.00035346098, 0.00035308565, 0.00035269283, 0.00035228288, 0.00035185424, 0.00035141065, 0.00035093414, 0.00038825440, 0.00042791779, 0.00047401349, 0.00052813546, 0.00059242935, 0.00066987229, 0.00076469633],  \n",
    "[0.00023743786, 0.00025442805, 0.00027210610, 0.00029052511, 0.00030975141, 0.00032985927, 0.00035093414, 0.00037307838, 0.00028185308, 0.00033362480, 0.00039448913, 0.00046675785, 0.00055355489, 0.00065922240, 0.00078995092],  \n",
    "[0.00093372326, 0.00085206316, 0.00076710907, 0.00067858404, 0.00058617957, 0.00048953884, 0.00038825440, 0.00028185308, 0.00093183118, 0.00092700129, 0.00091836176, 0.00090470689, 0.00088436880, 0.00085499959, 0.00081318331],  \n",
    "[0.00091131333, 0.00083894582, 0.00076365966, 0.00068520846, 0.00060331939, 0.00051767609, 0.00042791779, 0.00033362480, 0.00092700129, 0.00094300108, 0.00095919909, 0.00097546032, 0.00099153820, 0.00100707070, 0.00102148152],  \n",
    "[0.00088169768, 0.00082066442, 0.00075717032, 0.00069100626, 0.00062194289, 0.00054971326, 0.00047401349, 0.00039448913, 0.00091836176, 0.00095919909, 0.00100505872, 0.00105703236, 0.00111659949, 0.00118576848, 0.00126735992],  \n",
    "[0.00084279034, 0.00079568390, 0.00074667912, 0.00069561272, 0.00064230877, 0.00058656101, 0.00052813546, 0.00046675785, 0.00090470689, 0.00097546032, 0.00105703236, 0.00115205144, 0.00126402614, 0.00139785199, 0.00156044486],  \n",
    "[0.00079172189, 0.00076188560, 0.00073084851, 0.00069850419, 0.00066474294, 0.00062943376, 0.00059242935, 0.00055355489, 0.00088436880, 0.00099153820, 0.00111659949, 0.00126402614, 0.00143985862, 0.00165246003, 0.00191376844],  \n",
    "[0.00072447152, 0.00071629634, 0.00070779522, 0.00069893308, 0.00068968328, 0.00068000920, 0.00066987229, 0.00065922240, 0.00085499959, 0.00100707070, 0.00118576848, 0.00139785199, 0.00165246003, 0.00196229709, 0.00234545168],  \n",
    "[0.00063523124, 0.00065461116, 0.00067477803, 0.00069578757, 0.00071771878, 0.00074065513, 0.00076469633, 0.00078995092, 0.00081318331, 0.00102148152, 0.00126735992, 0.00156044486, 0.00191376844, 0.00234545168, 0.00288135740]])"
   ]
  },
  {
   "cell_type": "code",
   "execution_count": 30,
   "metadata": {},
   "outputs": [],
   "source": [
    "def resample(data):\n",
    "    resample = data.copy()\n",
    "    for i in range(1,data.shape[1]):\n",
    "        for j in range(data.shape[0]):\n",
    "            resample[j,i] = np.random.normal(data[j,i],SDarray[j,i-1])\n",
    "    return resample"
   ]
  },
  {
   "cell_type": "code",
   "execution_count": 31,
   "metadata": {},
   "outputs": [
    {
     "data": {
      "text/plain": [
       "array([[0.0003728 , 0.00035185, 0.00032986, 0.00062943, 0.00068001,\n",
       "        0.00074066],\n",
       "       [0.00035185, 0.00035141, 0.00035093, 0.00059243, 0.00066987,\n",
       "        0.0007647 ],\n",
       "       [0.00032986, 0.00035093, 0.00037308, 0.00055355, 0.00065922,\n",
       "        0.00078995],\n",
       "       [0.00062943, 0.00059243, 0.00055355, 0.00143986, 0.00165246,\n",
       "        0.00191377],\n",
       "       [0.00068001, 0.00066987, 0.00065922, 0.00165246, 0.0019623 ,\n",
       "        0.00234545],\n",
       "       [0.00074066, 0.0007647 , 0.00078995, 0.00191377, 0.00234545,\n",
       "        0.00288136]])"
      ]
     },
     "execution_count": 31,
     "metadata": {},
     "output_type": "execute_result"
    }
   ],
   "source": [
    "excludelist = [0,1,2,3,4,8,9,10,11]\n",
    "\n",
    "trimmedcov = np.delete(covmatrix,excludelist,axis=0)\n",
    "trimmedcov = np.delete(trimmedcov,excludelist,axis=1)\n",
    "trimmedcov"
   ]
  },
  {
   "cell_type": "code",
   "execution_count": 32,
   "metadata": {},
   "outputs": [],
   "source": [
    "def covresample(data):\n",
    "    vectordata = np.hstack([data[:,2],data[:,1]])\n",
    "    excludelist = [0,1,2,3,4,8,9,10,11]\n",
    "    trimmedcov = np.delete(covmatrix,excludelist,axis=0)\n",
    "    trimmedcov = np.delete(trimmedcov,excludelist,axis=1)\n",
    "    resampledvectordata = np.random.multivariate_normal(vectordata,trimmedcov)\n",
    "    resampleddata = np.array([data[:,0],resampledvectordata[3:6],resampledvectordata[0:3]])\n",
    "    return np.transpose(resampleddata)"
   ]
  },
  {
   "cell_type": "code",
   "execution_count": 34,
   "metadata": {},
   "outputs": [],
   "source": [
    "def dispmethod(chg,tchosen,Nboot):\n",
    "    N0 = 100\n",
    "    fbaruplist = []\n",
    "    fbarlolist = []\n",
    "    isloopbroken = False\n",
    "    nancount = 0\n",
    "    for y in range(Nboot):\n",
    "        newdata = covresample(data)\n",
    "        if chg \n",
    "        newchi = np.random.normal(chi1minus,0.00036)\n",
    "        plusbounds = formfactor(newdata,0,1)\n",
    "        zerobounds = formfactor(newdata,0,0)\n",
    "        upper = min(plusbounds[1],zerobounds[1])\n",
    "        lower = max(plusbounds[0],zerobounds[0])\n",
    "        if upper <= lower:\n",
    "            continue\n",
    "        if np.linalg.det(M11(newdata,tchosen,1)) < 0:\n",
    "            print(\"unitarity check failed\")\n",
    "            continue\n",
    "        if np.linalg.det(M11(newdata,tchosen,0)) < 0:\n",
    "            print(\"unitarity check failed\")\n",
    "            continue\n",
    "        #valatzero = 0\n",
    "        fbarup = 0\n",
    "        fbarlo = np.Inf\n",
    "        #print(newdata)\n",
    "        for k in range(N0):\n",
    "            originval = np.random.uniform(lower,upper)\n",
    "            extendednewdata = np.vstack([newdata,[0,originval,originval]])\n",
    "            tchosenbounds = formfactor(extendednewdata,tchosen,chg)\n",
    "            fbarup = max(tchosenbounds[1],fbarup)\n",
    "            fbarlo = min(tchosenbounds[0],fbarlo)\n",
    "            \n",
    "        \n",
    "        if np.isnan(fbarup):\n",
    "            nancount+=1\n",
    "        if nancount > 10:\n",
    "            print(\"NaN values skipped for t=\",tchosen)\n",
    "            break\n",
    "        fbaruplist.append(fbarup)\n",
    "        fbarlolist.append(fbarlo)\n",
    "    return [fbarlolist,fbaruplist]"
   ]
  },
  {
   "cell_type": "code",
   "execution_count": 35,
   "metadata": {},
   "outputs": [],
   "source": [
    "##investigating why calcbeta**2 + calcalpha*calcgamma is negative for some t's\n",
    "\n",
    "def sqrtcheck(data, t,charge):\n",
    "    if charge == 1:\n",
    "        phi = phiplus\n",
    "    elif charge == 0:\n",
    "        phi = phizero\n",
    "    calcalpha = alpha(data,charge)\n",
    "    calcbeta = beta(data,t,charge)\n",
    "    calcgamma = gamma(data,t,charge)\n",
    "    output = calcbeta**2 + calcalpha*calcgamma\n",
    "    return output"
   ]
  },
  {
   "cell_type": "code",
   "execution_count": 36,
   "metadata": {
    "collapsed": true,
    "jupyter": {
     "outputs_hidden": true
    }
   },
   "outputs": [
    {
     "ename": "KeyboardInterrupt",
     "evalue": "",
     "output_type": "error",
     "traceback": [
      "\u001b[1;31m---------------------------------------------------------------------------\u001b[0m",
      "\u001b[1;31mKeyboardInterrupt\u001b[0m                         Traceback (most recent call last)",
      "\u001b[1;32m<ipython-input-36-e8f75e09634d>\u001b[0m in \u001b[0;36m<module>\u001b[1;34m\u001b[0m\n\u001b[1;32m----> 1\u001b[1;33m \u001b[0mhistogramcheck\u001b[0m \u001b[1;33m=\u001b[0m \u001b[0mdispmethod\u001b[0m\u001b[1;33m(\u001b[0m\u001b[1;36m0\u001b[0m\u001b[1;33m,\u001b[0m\u001b[1;36m1.26\u001b[0m\u001b[1;33m,\u001b[0m\u001b[1;36m1000\u001b[0m\u001b[1;33m)\u001b[0m\u001b[1;33m\u001b[0m\u001b[1;33m\u001b[0m\u001b[0m\n\u001b[0m\u001b[0;32m      2\u001b[0m \u001b[0mplt\u001b[0m\u001b[1;33m.\u001b[0m\u001b[0mhist\u001b[0m\u001b[1;33m(\u001b[0m\u001b[0mhistogramcheck\u001b[0m\u001b[1;33m[\u001b[0m\u001b[1;36m0\u001b[0m\u001b[1;33m]\u001b[0m\u001b[1;33m)\u001b[0m\u001b[1;33m\u001b[0m\u001b[1;33m\u001b[0m\u001b[0m\n\u001b[0;32m      3\u001b[0m \u001b[0mplt\u001b[0m\u001b[1;33m.\u001b[0m\u001b[0mhist\u001b[0m\u001b[1;33m(\u001b[0m\u001b[0mhistogramcheck\u001b[0m\u001b[1;33m[\u001b[0m\u001b[1;36m1\u001b[0m\u001b[1;33m]\u001b[0m\u001b[1;33m)\u001b[0m\u001b[1;33m\u001b[0m\u001b[1;33m\u001b[0m\u001b[0m\n\u001b[0;32m      4\u001b[0m \u001b[0mplt\u001b[0m\u001b[1;33m.\u001b[0m\u001b[0mshow\u001b[0m\u001b[1;33m(\u001b[0m\u001b[1;33m)\u001b[0m\u001b[1;33m\u001b[0m\u001b[1;33m\u001b[0m\u001b[0m\n",
      "\u001b[1;32m<ipython-input-34-7e690290000f>\u001b[0m in \u001b[0;36mdispmethod\u001b[1;34m(chg, tchosen, Nboot)\u001b[0m\n\u001b[0;32m     26\u001b[0m             \u001b[0moriginval\u001b[0m \u001b[1;33m=\u001b[0m \u001b[0mnp\u001b[0m\u001b[1;33m.\u001b[0m\u001b[0mrandom\u001b[0m\u001b[1;33m.\u001b[0m\u001b[0muniform\u001b[0m\u001b[1;33m(\u001b[0m\u001b[0mlower\u001b[0m\u001b[1;33m,\u001b[0m\u001b[0mupper\u001b[0m\u001b[1;33m)\u001b[0m\u001b[1;33m\u001b[0m\u001b[1;33m\u001b[0m\u001b[0m\n\u001b[0;32m     27\u001b[0m             \u001b[0mextendednewdata\u001b[0m \u001b[1;33m=\u001b[0m \u001b[0mnp\u001b[0m\u001b[1;33m.\u001b[0m\u001b[0mvstack\u001b[0m\u001b[1;33m(\u001b[0m\u001b[1;33m[\u001b[0m\u001b[0mnewdata\u001b[0m\u001b[1;33m,\u001b[0m\u001b[1;33m[\u001b[0m\u001b[1;36m0\u001b[0m\u001b[1;33m,\u001b[0m\u001b[0moriginval\u001b[0m\u001b[1;33m,\u001b[0m\u001b[0moriginval\u001b[0m\u001b[1;33m]\u001b[0m\u001b[1;33m]\u001b[0m\u001b[1;33m)\u001b[0m\u001b[1;33m\u001b[0m\u001b[1;33m\u001b[0m\u001b[0m\n\u001b[1;32m---> 28\u001b[1;33m             \u001b[0mtchosenbounds\u001b[0m \u001b[1;33m=\u001b[0m \u001b[0mformfactor\u001b[0m\u001b[1;33m(\u001b[0m\u001b[0mextendednewdata\u001b[0m\u001b[1;33m,\u001b[0m\u001b[0mtchosen\u001b[0m\u001b[1;33m,\u001b[0m\u001b[0mchg\u001b[0m\u001b[1;33m)\u001b[0m\u001b[1;33m\u001b[0m\u001b[1;33m\u001b[0m\u001b[0m\n\u001b[0m\u001b[0;32m     29\u001b[0m             \u001b[0mfbarup\u001b[0m \u001b[1;33m=\u001b[0m \u001b[0mmax\u001b[0m\u001b[1;33m(\u001b[0m\u001b[0mtchosenbounds\u001b[0m\u001b[1;33m[\u001b[0m\u001b[1;36m1\u001b[0m\u001b[1;33m]\u001b[0m\u001b[1;33m,\u001b[0m\u001b[0mfbarup\u001b[0m\u001b[1;33m)\u001b[0m\u001b[1;33m\u001b[0m\u001b[1;33m\u001b[0m\u001b[0m\n\u001b[0;32m     30\u001b[0m             \u001b[0mfbarlo\u001b[0m \u001b[1;33m=\u001b[0m \u001b[0mmin\u001b[0m\u001b[1;33m(\u001b[0m\u001b[0mtchosenbounds\u001b[0m\u001b[1;33m[\u001b[0m\u001b[1;36m0\u001b[0m\u001b[1;33m]\u001b[0m\u001b[1;33m,\u001b[0m\u001b[0mfbarlo\u001b[0m\u001b[1;33m)\u001b[0m\u001b[1;33m\u001b[0m\u001b[1;33m\u001b[0m\u001b[0m\n",
      "\u001b[1;32m<ipython-input-23-5fad2b84f689>\u001b[0m in \u001b[0;36mformfactor\u001b[1;34m(data, t, charge)\u001b[0m\n\u001b[0;32m     11\u001b[0m     \u001b[0meigenvaluesM11\u001b[0m \u001b[1;33m=\u001b[0m \u001b[0mnp\u001b[0m\u001b[1;33m.\u001b[0m\u001b[0mlinalg\u001b[0m\u001b[1;33m.\u001b[0m\u001b[0meig\u001b[0m\u001b[1;33m(\u001b[0m\u001b[0mM11\u001b[0m\u001b[1;33m(\u001b[0m\u001b[0mdata\u001b[0m\u001b[1;33m,\u001b[0m\u001b[0mt\u001b[0m\u001b[1;33m,\u001b[0m\u001b[1;36m1\u001b[0m\u001b[1;33m)\u001b[0m\u001b[1;33m)\u001b[0m\u001b[1;33m[\u001b[0m\u001b[1;36m0\u001b[0m\u001b[1;33m]\u001b[0m\u001b[1;33m\u001b[0m\u001b[1;33m\u001b[0m\u001b[0m\n\u001b[0;32m     12\u001b[0m     \u001b[0meigenvaluesG\u001b[0m \u001b[1;33m=\u001b[0m \u001b[0mnp\u001b[0m\u001b[1;33m.\u001b[0m\u001b[0mlinalg\u001b[0m\u001b[1;33m.\u001b[0m\u001b[0meig\u001b[0m\u001b[1;33m(\u001b[0m\u001b[0mG\u001b[0m\u001b[1;33m(\u001b[0m\u001b[0mdata\u001b[0m\u001b[1;33m,\u001b[0m\u001b[0mt\u001b[0m\u001b[1;33m)\u001b[0m\u001b[1;33m)\u001b[0m\u001b[1;33m[\u001b[0m\u001b[1;36m0\u001b[0m\u001b[1;33m]\u001b[0m\u001b[1;33m\u001b[0m\u001b[1;33m\u001b[0m\u001b[0m\n\u001b[1;32m---> 13\u001b[1;33m     \u001b[0mdiscrimM11G\u001b[0m \u001b[1;33m=\u001b[0m \u001b[0mnp\u001b[0m\u001b[1;33m.\u001b[0m\u001b[0mlinalg\u001b[0m\u001b[1;33m.\u001b[0m\u001b[0mdet\u001b[0m\u001b[1;33m(\u001b[0m\u001b[0mM11\u001b[0m\u001b[1;33m(\u001b[0m\u001b[0mdata\u001b[0m\u001b[1;33m,\u001b[0m\u001b[0mt\u001b[0m\u001b[1;33m,\u001b[0m\u001b[0mcharge\u001b[0m\u001b[1;33m)\u001b[0m\u001b[1;33m)\u001b[0m\u001b[1;33m*\u001b[0m\u001b[0mnp\u001b[0m\u001b[1;33m.\u001b[0m\u001b[0mlinalg\u001b[0m\u001b[1;33m.\u001b[0m\u001b[0mdet\u001b[0m\u001b[1;33m(\u001b[0m\u001b[0mG\u001b[0m\u001b[1;33m(\u001b[0m\u001b[0mdata\u001b[0m\u001b[1;33m,\u001b[0m\u001b[0mt\u001b[0m\u001b[1;33m)\u001b[0m\u001b[1;33m)\u001b[0m\u001b[1;33m\u001b[0m\u001b[1;33m\u001b[0m\u001b[0m\n\u001b[0m\u001b[0;32m     14\u001b[0m     \u001b[1;31m#print(\"eigenvalues of M11\",eigenvaluesM11[0],eigenvaluesM11[1],eigenvaluesM11[2],eigenvaluesM11[3])\u001b[0m\u001b[1;33m\u001b[0m\u001b[1;33m\u001b[0m\u001b[1;33m\u001b[0m\u001b[0m\n\u001b[0;32m     15\u001b[0m     \u001b[1;31m#print(\"eigenvalues of G\",eigenvaluesG[0],eigenvaluesG[1],eigenvaluesG[2],eigenvaluesG[3])\u001b[0m\u001b[1;33m\u001b[0m\u001b[1;33m\u001b[0m\u001b[1;33m\u001b[0m\u001b[0m\n",
      "\u001b[1;32m<ipython-input-22-7a4d76190542>\u001b[0m in \u001b[0;36mM11\u001b[1;34m(data, t, charge)\u001b[0m\n\u001b[0;32m     14\u001b[0m         \u001b[0mmat\u001b[0m\u001b[1;33m[\u001b[0m\u001b[1;36m0\u001b[0m\u001b[1;33m,\u001b[0m\u001b[0mi\u001b[0m\u001b[1;33m]\u001b[0m \u001b[1;33m=\u001b[0m \u001b[0mphi\u001b[0m\u001b[1;33m(\u001b[0m\u001b[0mdata\u001b[0m\u001b[1;33m[\u001b[0m\u001b[0mi\u001b[0m\u001b[1;33m-\u001b[0m\u001b[1;36m1\u001b[0m\u001b[1;33m,\u001b[0m\u001b[1;36m0\u001b[0m\u001b[1;33m]\u001b[0m\u001b[1;33m)\u001b[0m\u001b[1;33m*\u001b[0m\u001b[0mdata\u001b[0m\u001b[1;33m[\u001b[0m\u001b[0mi\u001b[0m\u001b[1;33m-\u001b[0m\u001b[1;36m1\u001b[0m\u001b[1;33m,\u001b[0m\u001b[0mindex\u001b[0m\u001b[1;33m]\u001b[0m\u001b[1;33m\u001b[0m\u001b[1;33m\u001b[0m\u001b[0m\n\u001b[0;32m     15\u001b[0m         \u001b[1;32mfor\u001b[0m \u001b[0mj\u001b[0m \u001b[1;32min\u001b[0m \u001b[0mrange\u001b[0m\u001b[1;33m(\u001b[0m\u001b[1;36m1\u001b[0m\u001b[1;33m,\u001b[0m\u001b[0mdata\u001b[0m\u001b[1;33m.\u001b[0m\u001b[0mshape\u001b[0m\u001b[1;33m[\u001b[0m\u001b[1;36m0\u001b[0m\u001b[1;33m]\u001b[0m\u001b[1;33m+\u001b[0m\u001b[1;36m1\u001b[0m\u001b[1;33m)\u001b[0m\u001b[1;33m:\u001b[0m\u001b[1;33m\u001b[0m\u001b[1;33m\u001b[0m\u001b[0m\n\u001b[1;32m---> 16\u001b[1;33m             \u001b[0mmat\u001b[0m\u001b[1;33m[\u001b[0m\u001b[0mi\u001b[0m\u001b[1;33m,\u001b[0m\u001b[0mj\u001b[0m\u001b[1;33m]\u001b[0m \u001b[1;33m=\u001b[0m \u001b[0mG\u001b[0m\u001b[1;33m(\u001b[0m\u001b[0mdata\u001b[0m\u001b[1;33m,\u001b[0m\u001b[0mt\u001b[0m\u001b[1;33m)\u001b[0m\u001b[1;33m[\u001b[0m\u001b[0mi\u001b[0m\u001b[1;33m,\u001b[0m\u001b[0mj\u001b[0m\u001b[1;33m]\u001b[0m\u001b[1;33m\u001b[0m\u001b[1;33m\u001b[0m\u001b[0m\n\u001b[0m\u001b[0;32m     17\u001b[0m     \u001b[1;32mreturn\u001b[0m \u001b[0mmat\u001b[0m\u001b[1;33m\u001b[0m\u001b[1;33m\u001b[0m\u001b[0m\n",
      "\u001b[1;32m<ipython-input-19-b72ab3cf322d>\u001b[0m in \u001b[0;36mG\u001b[1;34m(data, t)\u001b[0m\n\u001b[0;32m      6\u001b[0m     \u001b[1;32mfor\u001b[0m \u001b[0mi\u001b[0m \u001b[1;32min\u001b[0m \u001b[0mrange\u001b[0m\u001b[1;33m(\u001b[0m\u001b[0mlen\u001b[0m\u001b[1;33m(\u001b[0m\u001b[0mrow\u001b[0m\u001b[1;33m)\u001b[0m\u001b[1;33m)\u001b[0m\u001b[1;33m:\u001b[0m\u001b[1;33m\u001b[0m\u001b[1;33m\u001b[0m\u001b[0m\n\u001b[0;32m      7\u001b[0m         \u001b[1;32mfor\u001b[0m \u001b[0mj\u001b[0m \u001b[1;32min\u001b[0m \u001b[0mrange\u001b[0m\u001b[1;33m(\u001b[0m\u001b[0mlen\u001b[0m\u001b[1;33m(\u001b[0m\u001b[0mrow\u001b[0m\u001b[1;33m)\u001b[0m\u001b[1;33m)\u001b[0m\u001b[1;33m:\u001b[0m\u001b[1;33m\u001b[0m\u001b[1;33m\u001b[0m\u001b[0m\n\u001b[1;32m----> 8\u001b[1;33m             \u001b[0mmat\u001b[0m\u001b[1;33m[\u001b[0m\u001b[0mi\u001b[0m\u001b[1;33m,\u001b[0m\u001b[0mj\u001b[0m\u001b[1;33m]\u001b[0m \u001b[1;33m=\u001b[0m \u001b[1;36m1\u001b[0m\u001b[1;33m/\u001b[0m\u001b[1;33m(\u001b[0m\u001b[1;36m1\u001b[0m\u001b[1;33m-\u001b[0m\u001b[0mz\u001b[0m\u001b[1;33m(\u001b[0m\u001b[0mrow\u001b[0m\u001b[1;33m[\u001b[0m\u001b[0mi\u001b[0m\u001b[1;33m]\u001b[0m\u001b[1;33m)\u001b[0m\u001b[1;33m*\u001b[0m\u001b[0mz\u001b[0m\u001b[1;33m(\u001b[0m\u001b[0mrow\u001b[0m\u001b[1;33m[\u001b[0m\u001b[0mj\u001b[0m\u001b[1;33m]\u001b[0m\u001b[1;33m)\u001b[0m\u001b[1;33m)\u001b[0m\u001b[1;33m\u001b[0m\u001b[1;33m\u001b[0m\u001b[0m\n\u001b[0m\u001b[0;32m      9\u001b[0m     \u001b[1;32mreturn\u001b[0m \u001b[0mmat\u001b[0m\u001b[1;33m\u001b[0m\u001b[1;33m\u001b[0m\u001b[0m\n",
      "\u001b[1;31mKeyboardInterrupt\u001b[0m: "
     ]
    }
   ],
   "source": [
    "histogramcheck = dispmethod(0,1.26,1000)\n",
    "plt.hist(histogramcheck[0])\n",
    "plt.hist(histogramcheck[1])\n",
    "plt.show()"
   ]
  },
  {
   "cell_type": "code",
   "execution_count": 37,
   "metadata": {},
   "outputs": [],
   "source": [
    "#plt.hist(histogramcheck[0],25)\n",
    "#plt.xlim(0.7,0.9)\n",
    "#plt.show()"
   ]
  },
  {
   "cell_type": "code",
   "execution_count": 38,
   "metadata": {},
   "outputs": [],
   "source": [
    "#histogramcheck"
   ]
  },
  {
   "cell_type": "code",
   "execution_count": 39,
   "metadata": {},
   "outputs": [],
   "source": [
    "#plt.hist(histogramcheck[1],25)\n",
    "#plt.xlim(0.7,0.9)\n",
    "#plt.show()"
   ]
  },
  {
   "cell_type": "code",
   "execution_count": 40,
   "metadata": {},
   "outputs": [],
   "source": [
    "#np.nanmean(histogramcheck[0])"
   ]
  },
  {
   "cell_type": "code",
   "execution_count": 41,
   "metadata": {},
   "outputs": [],
   "source": [
    "#np.nanmean(histogramcheck[1])"
   ]
  },
  {
   "cell_type": "code",
   "execution_count": 42,
   "metadata": {},
   "outputs": [],
   "source": [
    "tchosenlist = [1.6154]#[0.0, 0.2692, 0.5385, 0.8077, 1.0769, 1.3461, 1.6154, 1.8846] #np.linspace(0,1.8,31)#[0.01,0.2692,0.5384,0.8077,1.0769,1.4,1.65,1.8]#[1.26]#"
   ]
  },
  {
   "cell_type": "code",
   "execution_count": 43,
   "metadata": {},
   "outputs": [],
   "source": [
    "#noofnegativesqrts = 0\n",
    "#for n in tqdm(range(100)):\n",
    "#    sqrtchecklist = np.zeros([len(tchosenlist),3])\n",
    "#    counter = 0\n",
    "#    for t in tchosenlist:\n",
    "#        sqrtchecklist[counter,0] = t\n",
    "#        sqrtchecklist[counter,1] = sqrtcheck(covresample(data),t,1)\n",
    "#        if sqrtcheck(data,t,1) < 0:\n",
    "#            sqrtchecklist[counter,2] = 1\n",
    "#        counter += 1\n",
    "#    noofnegativesqrts += np.sum(sqrtchecklist[:,2])\n",
    "#noofnegativesqrts"
   ]
  },
  {
   "cell_type": "code",
   "execution_count": 44,
   "metadata": {},
   "outputs": [
    {
     "data": {
      "text/plain": [
       "array([3.00086321e+00, 4.19537153e-03, 5.72192743e-04, 4.94262726e-08])"
      ]
     },
     "execution_count": 44,
     "metadata": {},
     "output_type": "execute_result"
    }
   ],
   "source": [
    "np.linalg.eig(M11(covresample(data),1.26,1))[0]"
   ]
  },
  {
   "cell_type": "code",
   "execution_count": 45,
   "metadata": {},
   "outputs": [
    {
     "name": "stderr",
     "output_type": "stream",
     "text": [
      "100%|██████████| 1/1 [45:57<00:00, 2757.21s/it]\n"
     ]
    }
   ],
   "source": [
    "Nboot = 1000\n",
    "dispresultsplus = np.empty([len(tchosenlist),4])\n",
    "counter = 0\n",
    "for tchosen in tqdm(tchosenlist):\n",
    "    result = dispmethod(1,tchosen,Nboot)\n",
    "    dispresultsplus[counter,0] = tchosen\n",
    "    averageffplus = 0.5*(np.nanmean(result[0])+np.nanmean(result[1]))\n",
    "    deltaplus = result-np.nanmean(result)\n",
    "    varpluslo = np.sum(deltaplus[0]**2)/(len(result[0])-1)\n",
    "    varplusup = np.sum(deltaplus[1]**2)/(len(result[0])-1)\n",
    "    rhoplus = np.sum(deltaplus[0]*deltaplus[1])/(len(result[0])-1)\n",
    "    varplus = ((np.nanmean(result[0])-np.nanmean(result[1]))**2)/12 + (varpluslo+varplusup+rhoplus*np.sqrt(varpluslo)*np.sqrt(varplusup))/3\n",
    "    dispresultsplus[counter,1] = averageffplus\n",
    "    dispresultsplus[counter,2] = averageffplus-np.sqrt(varplus)\n",
    "    dispresultsplus[counter,3] = averageffplus+np.sqrt(varplus)                                            \n",
    "    counter += 1"
   ]
  },
  {
   "cell_type": "code",
   "execution_count": 46,
   "metadata": {},
   "outputs": [
    {
     "name": "stderr",
     "output_type": "stream",
     "text": [
      "100%|██████████| 1/1 [45:32<00:00, 2732.37s/it]\n"
     ]
    }
   ],
   "source": [
    "dispresultszero = np.empty([len(tchosenlist),4])\n",
    "counter = 0\n",
    "for tchosen in tqdm(tchosenlist):\n",
    "    result = dispmethod(0,tchosen,Nboot)\n",
    "    dispresultszero[counter,0] = tchosen\n",
    "    averageffzero = 0.5*(np.nanmean(result[0])+np.nanmean(result[1]))\n",
    "    deltazero = result-np.nanmean(result)\n",
    "    varzerolo = np.sum(deltazero[0]**2)/(len(result[0])-1)\n",
    "    varzeroup = np.sum(deltazero[1]**2)/(len(result[0])-1)\n",
    "    rhozero = np.sum(deltazero[0]*deltazero[1])/(len(result[0])-1)\n",
    "    varzero = (np.nanmean(result[0])-np.nanmean(result[1]))**2/12 + (varzerolo+varzeroup+rhozero*np.sqrt(varzerolo)*np.sqrt(varzeroup))/3\n",
    "    dispresultszero[counter,1] = averageffzero\n",
    "    dispresultszero[counter,2] = averageffzero-np.sqrt(varzero)\n",
    "    dispresultszero[counter,3] = averageffzero+np.sqrt(varzero)                                           \n",
    "    counter += 1"
   ]
  },
  {
   "cell_type": "code",
   "execution_count": 47,
   "metadata": {},
   "outputs": [
    {
     "data": {
      "text/plain": [
       "array([[1.6154    , 0.94343242, 0.92783044, 0.9590344 ]])"
      ]
     },
     "execution_count": 47,
     "metadata": {},
     "output_type": "execute_result"
    }
   ],
   "source": [
    "dispresultszero"
   ]
  },
  {
   "cell_type": "code",
   "execution_count": 49,
   "metadata": {},
   "outputs": [
    {
     "data": {
      "text/plain": [
       "array([[1.6154    , 1.20666149, 1.16977128, 1.2435517 ]])"
      ]
     },
     "execution_count": 49,
     "metadata": {},
     "output_type": "execute_result"
    }
   ],
   "source": [
    "dispresultsplus"
   ]
  },
  {
   "cell_type": "code",
   "execution_count": 50,
   "metadata": {},
   "outputs": [
    {
     "data": {
      "text/plain": [
       "array([[1.6154, 1.207 , 0.037 , 0.943 , 0.016 ]])"
      ]
     },
     "execution_count": 50,
     "metadata": {},
     "output_type": "execute_result"
    }
   ],
   "source": [
    "errortable = np.zeros([len(tchosenlist),5])\n",
    "counter = 0\n",
    "for t in tchosenlist:\n",
    "    errortable[counter,0] = t\n",
    "    errortable[counter,3] = round(dispresultszero[counter,1],3)\n",
    "    errortable[counter,4] = round(dispresultszero[counter,1] - dispresultszero[counter,2],3)\n",
    "    errortable[counter,1] = round(dispresultsplus[counter,1],3)\n",
    "    errortable[counter,2] = round(dispresultsplus[counter,1] - dispresultsplus[counter,2],3)\n",
    "    counter += 1\n",
    "\n",
    "errortable"
   ]
  },
  {
   "cell_type": "code",
   "execution_count": 52,
   "metadata": {},
   "outputs": [],
   "source": [
    "#uncertainty in chi? why random uniform distribution?"
   ]
  },
  {
   "cell_type": "code",
   "execution_count": null,
   "metadata": {},
   "outputs": [],
   "source": [
    "plusnonan = dispresultsplus[~np.isnan(dispresultsplus).any(axis=1), :]\n",
    "plusnonan"
   ]
  },
  {
   "cell_type": "code",
   "execution_count": null,
   "metadata": {},
   "outputs": [],
   "source": [
    "#x = np.linspace(0,2,101)\n",
    "plt.scatter(data[:,0],data[:,1])\n",
    "plt.scatter(data[:,0],data[:,2])\n",
    "plt.plot(dispresultszero[:,0],dispresultszero[:,1],label = r\"$f_0$\",color=\"orange\")\n",
    "pl.fill_between(dispresultszero[:,0],dispresultszero[:,2],dispresultszero[:,3],linewidth=2,hatch='/',edgecolor=\"orange\",facecolor=\"none\")\n",
    "plt.plot(dispresultsplus[:,0],dispresultsplus[:,1],label = r\"$f_+$\",color=\"lightskyblue\")\n",
    "pl.fill_between(dispresultsplus[:,0],dispresultsplus[:,2],dispresultsplus[:,3],linewidth=2,hatch='/',edgecolor=\"lightskyblue\",facecolor=\"none\")\n",
    "romevals = np.array([[0.0, 0.765, 0.765, 0.772, 0.772],\n",
    "[0.2692, 0.815, 0.792, 0.822, 0.800],\n",
    "[0.5385, 0.872, 0.820, 0.878, 0.826],\n",
    "[0.8077, 0.937, 0.849, 0.942, 0.853],\n",
    "[1.0769, 1.013, 0.879, 1.015, 0.882],\n",
    "[1.3461, 1.102, 0.911, 1.102, 0.911],\n",
    "[1.6154, 1.208, 0.944, 1.208, 0.944],\n",
    "[1.8846, 1.336, 0.979, 1.336, 0.979]])\n",
    "romeerrorvals = np.array([\n",
    "[0.031, 0.031, 0.030, 0.030],\n",
    "[0.031, 0.028, 0.029, 0.026],\n",
    "[0.031, 0.025, 0.030, 0.025],\n",
    "[0.032, 0.023, 0.031, 0.021],\n",
    "[0.034, 0.021, 0.034, 0.020],\n",
    "[0.038, 0.019, 0.038, 0.019],\n",
    "[0.044, 0.019, 0.044, 0.019],\n",
    "[0.054, 0.019, 0.054, 0.019]])\n",
    "\n",
    "#plt.scatter(romevals[:,0],romevals[:,3])\n",
    "pl.errorbar(romevals[:,0], romevals[:,3], romeerrorvals[:,2], fmt='.k',capsize=8)\n",
    "#plt.scatter(romevals[:,0],romevals[:,4])\n",
    "pl.errorbar(romevals[:,0], romevals[:,4], romeerrorvals[:,3], fmt='.k',capsize=8)\n",
    "\n",
    "#plt.xlim(0,1.1)\n",
    "#plt.ylim(0.75,1.1)\n",
    "plt.xlabel(r\"$t \\.\\. (GeV^2)$\")\n",
    "plt.ylabel(\"Form factor\")\n",
    "plt.legend()\n",
    "plt.rcParams[\"figure.figsize\"] = (25,15)\n",
    "plt.show()"
   ]
  },
  {
   "cell_type": "code",
   "execution_count": null,
   "metadata": {},
   "outputs": [],
   "source": [
    "#x = np.linspace(0,2,101)\n",
    "#plt.scatter(data[:,0],data[:,1])\n",
    "#plt.scatter(data[:,0],data[:,2])\n",
    "#plt.plot(dispresultszero[:,0],dispresultszero[:,1],label = r\"$f_0$\")\n",
    "#plt.plot(dispresultszero[:,0],dispresultszero[:,2],label = r\"$f_0$ Lower bound\")\n",
    "#plt.plot(dispresultszero[:,0],dispresultszero[:,3],label = r\"$f_0$ Upper bound\")\n",
    "plt.plot(plusnonan[:,0],plusnonan[:,1],label = r\"$f_+$\")\n",
    "plt.plot(plusnonan[:,0],plusnonan[:,2],label = r\"$f_+$ Lower bound\")\n",
    "plt.plot(plusnonan[:,0],plusnonan[:,3],label = r\"$f_+$ Upper bound\")\n",
    "romevals = np.array([[0.0, 0.765, 0.765, 0.772, 0.772],\n",
    "[0.2692, 0.815, 0.792, 0.822, 0.800],\n",
    "[0.5385, 0.872, 0.820, 0.878, 0.826],\n",
    "[0.8077, 0.937, 0.849, 0.942, 0.853],\n",
    "[1.0769, 1.013, 0.879, 1.015, 0.882]])\n",
    "plt.scatter(romevals[:,0],romevals[:,3])\n",
    "plt.scatter(romevals[:,0],romevals[:,4])\n",
    "#plt.xlim(0,1.1)\n",
    "#plt.ylim(0.75,1.1)\n",
    "plt.xlabel(r\"$t \\.\\. (GeV^2)$\")\n",
    "plt.ylabel(\"Form factor\")\n",
    "plt.legend()\n",
    "plt.rcParams[\"figure.figsize\"] = (15,15)\n",
    "plt.show()"
   ]
  },
  {
   "cell_type": "code",
   "execution_count": null,
   "metadata": {},
   "outputs": [],
   "source": [
    "dispmethod(0,0.4,30)-np.nanmean(dispmethod(0,0.4,30))"
   ]
  },
  {
   "cell_type": "code",
   "execution_count": 54,
   "metadata": {},
   "outputs": [
    {
     "data": {
      "text/plain": [
       "array([[4.30000000e-03, 1.02449378e-03, 7.96485379e-04, 5.29426794e-04],\n",
       "       [1.02449378e-03, 1.00115513e+00, 1.00059690e+00, 1.00000000e+00],\n",
       "       [7.96485379e-04, 1.00059690e+00, 1.00030853e+00, 1.00000000e+00],\n",
       "       [5.29426794e-04, 1.00000000e+00, 1.00000000e+00, 1.00000000e+00]])"
      ]
     },
     "execution_count": 54,
     "metadata": {},
     "output_type": "execute_result"
    }
   ],
   "source": [
    "M11(data,0,0)"
   ]
  },
  {
   "cell_type": "code",
   "execution_count": 64,
   "metadata": {},
   "outputs": [
    {
     "name": "stdout",
     "output_type": "stream",
     "text": [
      "0.0 0.0022641497194599487\n",
      "0.2692 0.002066121743652469\n",
      "0.5385 0.0018544851510995729\n",
      "0.8077 0.0016280826264328423\n",
      "1.0769 0.0013853474223854826\n",
      "1.3461 0.001124581534693502\n",
      "1.6154 0.0008437345113838959\n",
      "1.8846 0.000540783242570548\n"
     ]
    }
   ],
   "source": [
    "for t in [0.0, 0.2692, 0.5385, 0.8077, 1.0769, 1.3461, 1.6154, 1.8846]:\n",
    "    print(t,phizero(t))"
   ]
  },
  {
   "cell_type": "code",
   "execution_count": null,
   "metadata": {},
   "outputs": [],
   "source": []
  },
  {
   "cell_type": "code",
   "execution_count": null,
   "metadata": {},
   "outputs": [],
   "source": []
  },
  {
   "cell_type": "code",
   "execution_count": null,
   "metadata": {},
   "outputs": [],
   "source": []
  },
  {
   "cell_type": "code",
   "execution_count": null,
   "metadata": {},
   "outputs": [],
   "source": []
  },
  {
   "cell_type": "code",
   "execution_count": null,
   "metadata": {},
   "outputs": [],
   "source": []
  },
  {
   "cell_type": "code",
   "execution_count": null,
   "metadata": {},
   "outputs": [],
   "source": []
  },
  {
   "cell_type": "code",
   "execution_count": null,
   "metadata": {},
   "outputs": [],
   "source": []
  },
  {
   "cell_type": "code",
   "execution_count": null,
   "metadata": {},
   "outputs": [],
   "source": []
  },
  {
   "cell_type": "code",
   "execution_count": null,
   "metadata": {},
   "outputs": [],
   "source": []
  }
 ],
 "metadata": {
  "kernelspec": {
   "display_name": "Python 3",
   "language": "python",
   "name": "python3"
  },
  "language_info": {
   "codemirror_mode": {
    "name": "ipython",
    "version": 3
   },
   "file_extension": ".py",
   "mimetype": "text/x-python",
   "name": "python",
   "nbconvert_exporter": "python",
   "pygments_lexer": "ipython3",
   "version": "3.8.5"
  }
 },
 "nbformat": 4,
 "nbformat_minor": 4
}
