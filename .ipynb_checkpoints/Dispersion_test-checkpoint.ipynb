{
 "cells": [
  {
   "cell_type": "code",
   "execution_count": 1,
   "metadata": {},
   "outputs": [],
   "source": [
    "import numpy as np\n",
    "import matplotlib.pyplot as plt\n",
    "import scipy as sp\n",
    "import seaborn as sns\n",
    "import math\n",
    "from tqdm import tqdm"
   ]
  },
  {
   "cell_type": "code",
   "execution_count": 2,
   "metadata": {},
   "outputs": [],
   "source": [
    "dataplus = np.array([[1.3461, 1.102],\n",
    "[1.6154, 1.208],\n",
    "[1.8846, 1.336]]) #rome form factor data"
   ]
  },
  {
   "cell_type": "code",
   "execution_count": 3,
   "metadata": {},
   "outputs": [],
   "source": [
    "datazero = np.array([[1.3461, 0.911],\n",
    "[1.6154, 0.944],\n",
    "[1.8846, 0.979]]) #rome form factor data"
   ]
  },
  {
   "cell_type": "code",
   "execution_count": 4,
   "metadata": {},
   "outputs": [],
   "source": [
    "chi0plus = 0.0043\n",
    "chi1minus = 0.00419"
   ]
  },
  {
   "cell_type": "code",
   "execution_count": 5,
   "metadata": {},
   "outputs": [],
   "source": [
    "zerosum = (1.86484-0.497611)**2 #D0 and K0"
   ]
  },
  {
   "cell_type": "code",
   "execution_count": 6,
   "metadata": {},
   "outputs": [],
   "source": [
    "plusminussum = (1.86966-0.493677)**2 #D+- and K+-"
   ]
  },
  {
   "cell_type": "code",
   "execution_count": 7,
   "metadata": {},
   "outputs": [
    {
     "data": {
      "text/plain": [
       "1.8813221773650004"
      ]
     },
     "execution_count": 7,
     "metadata": {},
     "output_type": "execute_result"
    }
   ],
   "source": [
    "0.5*(zerosum+plusminussum)"
   ]
  },
  {
   "cell_type": "code",
   "execution_count": 8,
   "metadata": {},
   "outputs": [
    {
     "data": {
      "text/plain": [
       "1.8813030192360003"
      ]
     },
     "execution_count": 8,
     "metadata": {},
     "output_type": "execute_result"
    }
   ],
   "source": [
    "MD = 0.5*(1.86484+1.86966)\n",
    "MK = 0.5*(0.497611+0.493677)\n",
    "(MD-MK)**2 #?????????????? where does their 1.8846 come from?"
   ]
  },
  {
   "cell_type": "code",
   "execution_count": 9,
   "metadata": {},
   "outputs": [],
   "source": [
    "tminus = (MD-MK)**2\n",
    "tplus = (MD+MK)**2"
   ]
  },
  {
   "cell_type": "code",
   "execution_count": 10,
   "metadata": {},
   "outputs": [],
   "source": [
    "def z(t):\n",
    "    return (np.sqrt(tplus-t)-np.sqrt(tplus-tminus))/(np.sqrt(tplus-t)+np.sqrt(tplus-tminus))"
   ]
  },
  {
   "cell_type": "code",
   "execution_count": 11,
   "metadata": {},
   "outputs": [],
   "source": [
    "def rho(t):\n",
    "    return np.sqrt((tplus-t)/(tplus-tminus))"
   ]
  },
  {
   "cell_type": "code",
   "execution_count": 12,
   "metadata": {},
   "outputs": [],
   "source": [
    "ni = 3/2"
   ]
  },
  {
   "cell_type": "code",
   "execution_count": 13,
   "metadata": {},
   "outputs": [],
   "source": [
    "def phizero(t):  #outer fn and Blanschke factors\n",
    "    polevals = [2.3178]\n",
    "    calcz = z(t)\n",
    "    calcrho = rho(t)\n",
    "    phizeroval = np.sqrt(2*ni/3)*np.sqrt((3*tplus*tminus)/(4*np.pi))*1/(tplus-tminus)*(1+calcz)*np.power(1-calcz,-5/2)*np.power(rho(0)+(1+calcz)/(1-calcz),-2)*np.power(rho(t)+(1+calcz)/(1-calcz),-2)\n",
    "    for i in range(len(polevals)):\n",
    "        phizeroval *= (z(t)-z(polevals[i]))/(1-np.conjugate(z(polevals[i]))*z(t))\n",
    "    return phizeroval "
   ]
  },
  {
   "cell_type": "code",
   "execution_count": 14,
   "metadata": {},
   "outputs": [],
   "source": [
    "def phiplus(t):  #outer fn and Blanschke factors\n",
    "    polevals = [2.1122]\n",
    "    calcz = z(t)\n",
    "    calcrho = rho(t)\n",
    "    phiplusval = np.sqrt(2*ni/3)*np.sqrt(1/(np.pi*(tplus-tminus)))*np.power(1+calcz,2)*np.power(1-calcz,-9/2)*np.power(rho(0)+(1+calcz)/(1-calcz),-2)*np.power(rho(t)+(1+calcz)/(1-calcz),-3)\n",
    "    for i in range(len(polevals)):\n",
    "        phiplusval *= (z(t)-z(polevals[i]))/(1-np.conjugate(z(polevals[i]))*z(t))\n",
    "    return phiplusval"
   ]
  },
  {
   "cell_type": "code",
   "execution_count": 15,
   "metadata": {},
   "outputs": [
    {
     "data": {
      "text/plain": [
       "[<matplotlib.lines.Line2D at 0x24cf7824310>]"
      ]
     },
     "execution_count": 15,
     "metadata": {},
     "output_type": "execute_result"
    },
    {
     "data": {
      "image/png": "[encoded data removed]",
      "text/plain": [
       "<Figure size 432x288 with 1 Axes>"
      ]
     },
     "metadata": {
      "needs_background": "light"
     },
     "output_type": "display_data"
    }
   ],
   "source": [
    "polevals = [1.3461,1.6154,1.8846]\n",
    "x = np.linspace(0,2,101)\n",
    "y = [(z(t)-z(polevals[0]))/(1-np.conjugate(z(polevals[0]))*z(t)) for t in x]\n",
    "plt.plot(x,y)"
   ]
  },
  {
   "cell_type": "code",
   "execution_count": 16,
   "metadata": {},
   "outputs": [],
   "source": [
    "def g(t):\n",
    "    return 1/(1-np.conj(z[t])*z[t])    "
   ]
  },
  {
   "cell_type": "code",
   "execution_count": 17,
   "metadata": {},
   "outputs": [],
   "source": [
    "def innergg(t,t_prime):\n",
    "    return 1/(1-np.conj(z[t])*z[t_prime])"
   ]
  },
  {
   "cell_type": "code",
   "execution_count": 18,
   "metadata": {},
   "outputs": [],
   "source": [
    "def exclude(G,a,b):\n",
    "    return np.delete(np.delete(G,b,0),a,1)"
   ]
  },
  {
   "cell_type": "code",
   "execution_count": 19,
   "metadata": {},
   "outputs": [],
   "source": [
    "#2105.02497 pg 48-50"
   ]
  },
  {
   "cell_type": "code",
   "execution_count": 20,
   "metadata": {},
   "outputs": [],
   "source": [
    "alphamatplus = np.empty([dataplus.shape[0],dataplus.shape[0]])\n",
    "\n",
    "for i in range(dataplus.shape[0]):\n",
    "    for j in range(dataplus.shape[0]):\n",
    "        alphamatplus[i,j] = 1/(1-z(dataplus[i,0])*z(dataplus[j,0]))\n",
    "        \n",
    "alphaplus = np.linalg.det(alphamatplus)"
   ]
  },
  {
   "cell_type": "code",
   "execution_count": 21,
   "metadata": {},
   "outputs": [
    {
     "data": {
      "text/plain": [
       "9.602811891613558e-11"
      ]
     },
     "execution_count": 21,
     "metadata": {},
     "output_type": "execute_result"
    }
   ],
   "source": [
    "alphaplus"
   ]
  },
  {
   "cell_type": "code",
   "execution_count": 22,
   "metadata": {},
   "outputs": [],
   "source": [
    "alphamatzero = np.empty([datazero.shape[0],datazero.shape[0]])\n",
    "\n",
    "for i in range(datazero.shape[0]):\n",
    "    for j in range(datazero.shape[0]):\n",
    "        alphamatzero[i,j] = 1/(1-z(datazero[i,0])*z(datazero[j,0]))\n",
    "        \n",
    "alphazero = np.linalg.det(alphamatzero)"
   ]
  },
  {
   "cell_type": "code",
   "execution_count": 23,
   "metadata": {},
   "outputs": [
    {
     "data": {
      "text/plain": [
       "9.602811891613558e-11"
      ]
     },
     "execution_count": 23,
     "metadata": {},
     "output_type": "execute_result"
    }
   ],
   "source": [
    "alphazero"
   ]
  },
  {
   "cell_type": "code",
   "execution_count": 24,
   "metadata": {},
   "outputs": [],
   "source": [
    "def Gplus(t):\n",
    "    row = [t]\n",
    "    row.extend(dataplus[:,0])\n",
    "    mat = np.empty([dataplus.shape[0]+1,dataplus.shape[0]+1])\n",
    "\n",
    "    for i in range(len(row)):\n",
    "        for j in range(len(row)):\n",
    "            mat[i,j] = 1/(1-z(row[i])*z(row[j]))\n",
    "    return mat"
   ]
  },
  {
   "cell_type": "code",
   "execution_count": 25,
   "metadata": {},
   "outputs": [],
   "source": [
    "def Gzero(t):\n",
    "    row = [t]\n",
    "    row.extend(datazero[:,0])\n",
    "    mat = np.empty([datazero.shape[0]+1,datazero.shape[0]+1])\n",
    "\n",
    "    for i in range(len(row)):\n",
    "        for j in range(len(row)):\n",
    "            mat[i,j] = 1/(1-z(row[i])*z(row[j]))\n",
    "    return mat"
   ]
  },
  {
   "cell_type": "code",
   "execution_count": 26,
   "metadata": {},
   "outputs": [
    {
     "data": {
      "text/plain": [
       "True"
      ]
     },
     "execution_count": 26,
     "metadata": {},
     "output_type": "execute_result"
    }
   ],
   "source": [
    "np.linalg.det(exclude(Gplus(0),0,0))==alphazero"
   ]
  },
  {
   "cell_type": "code",
   "execution_count": 27,
   "metadata": {},
   "outputs": [],
   "source": [
    "def betaplus(t):\n",
    "    ssum = 0\n",
    "    for j in range(1,dataplus.shape[0]+1):\n",
    "        ssum += ((-1)**j)*phiplus(dataplus[j-1,0])*dataplus[j-1,1]*np.linalg.det(exclude(Gplus(t),0,j))\n",
    "    return ssum"
   ]
  },
  {
   "cell_type": "code",
   "execution_count": 28,
   "metadata": {},
   "outputs": [],
   "source": [
    "def betazero(t):\n",
    "    ssum = 0\n",
    "    for j in range(1,datazero.shape[0]+1):\n",
    "        ssum += ((-1)**j)*phizero(datazero[j-1,0])*datazero[j-1,1]*np.linalg.det(exclude(Gzero(t),0,j))\n",
    "    return ssum"
   ]
  },
  {
   "cell_type": "code",
   "execution_count": 29,
   "metadata": {},
   "outputs": [],
   "source": [
    "def gammaplus(t):\n",
    "    ssum = chi1minus*np.linalg.det(Gplus(t))\n",
    "    for i in range(1,dataplus.shape[0]+1):\n",
    "        for j in range(1,dataplus.shape[0]+1):\n",
    "            ssum -= np.power(-1,j+i)*phiplus(dataplus[i-1,0])*dataplus[i-1,1]*phiplus(dataplus[j-1,0])*dataplus[j-1,1]*np.linalg.det(exclude(Gplus(t),i,j))\n",
    "    return ssum"
   ]
  },
  {
   "cell_type": "code",
   "execution_count": 30,
   "metadata": {},
   "outputs": [],
   "source": [
    "def gammazero(t):\n",
    "    ssum = chi0plus*np.linalg.det(Gzero(t))\n",
    "    for i in range(1,datazero.shape[0]+1):\n",
    "        for j in range(1,datazero.shape[0]+1):\n",
    "            ssum -= np.power(-1,j+i)*phizero(datazero[i-1,0])*datazero[i-1,1]*phizero(datazero[j-1,0])*datazero[j-1,1]*np.linalg.det(exclude(Gzero(t),i,j))\n",
    "    return ssum"
   ]
  },
  {
   "cell_type": "code",
   "execution_count": 31,
   "metadata": {},
   "outputs": [],
   "source": [
    "def formfactorplus(t):\n",
    "    calcbeta = betaplus(t)\n",
    "    calcgamma = gammaplus(t)\n",
    "    lowerbound = (-calcbeta-np.sqrt(calcbeta**2 + alphaplus*calcgamma))/(alphaplus*phiplus(t))\n",
    "    upperbound = (-calcbeta+np.sqrt(calcbeta**2 + alphaplus*calcgamma))/(alphaplus*phiplus(t))\n",
    "    return [lowerbound,upperbound]"
   ]
  },
  {
   "cell_type": "code",
   "execution_count": 32,
   "metadata": {},
   "outputs": [],
   "source": [
    "def formfactorzero(t):\n",
    "    calcbeta = betazero(t)\n",
    "    calcgamma = gammazero(t)\n",
    "    lowerbound = (-calcbeta-np.sqrt(calcbeta**2 + alphazero*calcgamma))/(alphazero*phizero(t))\n",
    "    upperbound = (-calcbeta+np.sqrt(calcbeta**2 + alphazero*calcgamma))/(alphazero*phizero(t))\n",
    "    return [lowerbound,upperbound]"
   ]
  },
  {
   "cell_type": "code",
   "execution_count": 33,
   "metadata": {},
   "outputs": [
    {
     "name": "stderr",
     "output_type": "stream",
     "text": [
      "<ipython-input-32-9458b612941c>:4: RuntimeWarning: invalid value encountered in sqrt\n",
      "  lowerbound = (-calcbeta-np.sqrt(calcbeta**2 + alphazero*calcgamma))/(alphazero*phizero(t))\n",
      "<ipython-input-32-9458b612941c>:5: RuntimeWarning: invalid value encountered in sqrt\n",
      "  upperbound = (-calcbeta+np.sqrt(calcbeta**2 + alphazero*calcgamma))/(alphazero*phizero(t))\n"
     ]
    },
    {
     "data": {
      "image/png": "[encoded data removed]",
      "text/plain": [
       "<Figure size 432x288 with 1 Axes>"
      ]
     },
     "metadata": {
      "needs_background": "light"
     },
     "output_type": "display_data"
    }
   ],
   "source": [
    "x = np.linspace(0,2,101)\n",
    "plt.plot(x,[formfactorplus(i) for i in x],label = r\"$f_+$\")\n",
    "plt.plot(x,[formfactorzero(i) for i in x],label = r\"$f_0$\")\n",
    "plt.scatter(dataplus[:,0],dataplus[:,1])\n",
    "plt.scatter(datazero[:,0],datazero[:,1])\n",
    "\n",
    "romevals = np.array([[0.0, 0.765, 0.765, 0.772, 0.772],\n",
    "[0.2692, 0.815, 0.792, 0.822, 0.800],\n",
    "[0.5385, 0.872, 0.820, 0.878, 0.826],\n",
    "[0.8077, 0.937, 0.849, 0.942, 0.853],\n",
    "[1.0769, 1.013, 0.879, 1.015, 0.882]])\n",
    "plt.scatter(romevals[:,0],romevals[:,3])\n",
    "plt.scatter(romevals[:,0],romevals[:,4])\n",
    "plt.xlabel(r\"$t \\.(GeV^2)$\")\n",
    "plt.ylabel(\"Form factor\")\n",
    "plt.legend()\n",
    "plt.show()"
   ]
  },
  {
   "cell_type": "code",
   "execution_count": 34,
   "metadata": {},
   "outputs": [],
   "source": [
    "x = np.linspace(0,2,101)"
   ]
  },
  {
   "cell_type": "code",
   "execution_count": 35,
   "metadata": {},
   "outputs": [
    {
     "data": {
      "text/plain": [
       "9.602811891613558e-11"
      ]
     },
     "execution_count": 35,
     "metadata": {},
     "output_type": "execute_result"
    }
   ],
   "source": [
    "alphaplus"
   ]
  },
  {
   "cell_type": "code",
   "execution_count": 36,
   "metadata": {},
   "outputs": [
    {
     "data": {
      "text/plain": [
       "[0.5997542361353966, 0.6572337682289641]"
      ]
     },
     "execution_count": 36,
     "metadata": {},
     "output_type": "execute_result"
    }
   ],
   "source": [
    "formfactorplus(0)"
   ]
  },
  {
   "cell_type": "code",
   "execution_count": 37,
   "metadata": {},
   "outputs": [
    {
     "data": {
      "image/png": "[encoded data removed]",
      "text/plain": [
       "<Figure size 432x288 with 1 Axes>"
      ]
     },
     "metadata": {
      "needs_background": "light"
     },
     "output_type": "display_data"
    }
   ],
   "source": [
    "# ARGUMENT INSIDE THE SQUARE ROOT\n",
    "\n",
    "plt.plot(x,[betaplus(i)**2+alphaplus*gammaplus(i) for i in x])\n",
    "plt.plot(x,[betazero(i)**2+alphazero*gammazero(i) for i in x])\n",
    "plt.show()"
   ]
  },
  {
   "cell_type": "code",
   "execution_count": null,
   "metadata": {},
   "outputs": [],
   "source": []
  }
 ],
 "metadata": {
  "kernelspec": {
   "display_name": "Python 3",
   "language": "python",
   "name": "python3"
  },
  "language_info": {
   "codemirror_mode": {
    "name": "ipython",
    "version": 3
   },
   "file_extension": ".py",
   "mimetype": "text/x-python",
   "name": "python",
   "nbconvert_exporter": "python",
   "pygments_lexer": "ipython3",
   "version": "3.8.5"
  }
 },
 "nbformat": 4,
 "nbformat_minor": 4
}
