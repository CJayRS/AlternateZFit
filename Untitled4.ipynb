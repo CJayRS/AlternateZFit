{
 "cells": [
  {
   "cell_type": "code",
   "execution_count": 18,
   "id": "19ceb847-0cb7-4fb6-b622-4225212e7cff",
   "metadata": {},
   "outputs": [],
   "source": [
    "from ast import main\n",
    "from copyreg import pickle\n",
    "import numpy as np\n",
    "from Constants import *\n",
    "from Dataset import Dataset\n",
    "from Models import *\n",
    "from DatasetFactory import DatasetFactory\n",
    "from Bootstrapper import *\n",
    "import warnings\n",
    "import pickle\n",
    "warnings.filterwarnings(\"ignore\", message=\"delta_grad == 0.0. Check if the approximated function is linear.\")"
   ]
  },
  {
   "cell_type": "code",
   "execution_count": 19,
   "id": "3ea804d1-6d25-4d34-8227-00e73d4991a7",
   "metadata": {},
   "outputs": [
    {
     "ename": "NameError",
     "evalue": "name 'DispBound' is not defined",
     "output_type": "error",
     "traceback": [
      "\u001b[1;31m---------------------------------------------------------------------------\u001b[0m",
      "\u001b[1;31mNameError\u001b[0m                                 Traceback (most recent call last)",
      "Cell \u001b[1;32mIn [19], line 25\u001b[0m\n\u001b[0;32m     23\u001b[0m     q2in \u001b[39m=\u001b[39m (inputq2zero[i]\u001b[39m.\u001b[39mtolist(), inputq2plus[i]\u001b[39m.\u001b[39mtolist())\n\u001b[0;32m     24\u001b[0m data \u001b[39m=\u001b[39m DatasetFactory\u001b[39m.\u001b[39mgenerate(\u001b[39m*\u001b[39mq2in)\n\u001b[1;32m---> 25\u001b[0m outval \u001b[39m=\u001b[39m Bootstrapper\u001b[39m.\u001b[39mbootstrap(data,DispBound,nboot)\n",
      "\u001b[1;31mNameError\u001b[0m: name 'DispBound' is not defined"
     ]
    }
   ],
   "source": [
    "data = DatasetFactory.generate(*q2in)\n",
    "outval = Bootstrapper.bootstrap(data,ZFitModel,nboot)"
   ]
  },
  {
   "cell_type": "code",
   "execution_count": null,
   "id": "dd4f8539",
   "metadata": {},
   "outputs": [],
   "source": []
  },
  {
   "cell_type": "code",
   "execution_count": null,
   "id": "b295e47c",
   "metadata": {},
   "outputs": [],
   "source": []
  }
 ],
 "metadata": {
  "kernelspec": {
   "display_name": "Python 3.10.8 64-bit (microsoft store)",
   "language": "python",
   "name": "python3"
  },
  "language_info": {
   "codemirror_mode": {
    "name": "ipython",
    "version": 3
   },
   "file_extension": ".py",
   "mimetype": "text/x-python",
   "name": "python",
   "nbconvert_exporter": "python",
   "pygments_lexer": "ipython3",
   "version": "3.10.8"
  },
  "vscode": {
   "interpreter": {
    "hash": "b03de96b3324bb43c0a8d72d94fdae2041ebd08d7f38d6f31763f66be9e70359"
   }
  }
 },
 "nbformat": 4,
 "nbformat_minor": 5
}
